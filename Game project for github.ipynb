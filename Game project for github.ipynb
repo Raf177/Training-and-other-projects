{
 "cells": [
  {
   "cell_type": "markdown",
   "metadata": {},
   "source": [
    "### Часть 1. Изучение исходных данных."
   ]
  },
  {
   "cell_type": "code",
   "execution_count": 2,
   "metadata": {},
   "outputs": [
    {
     "data": {
      "text/html": [
       "<div>\n",
       "<style scoped>\n",
       "    .dataframe tbody tr th:only-of-type {\n",
       "        vertical-align: middle;\n",
       "    }\n",
       "\n",
       "    .dataframe tbody tr th {\n",
       "        vertical-align: top;\n",
       "    }\n",
       "\n",
       "    .dataframe thead th {\n",
       "        text-align: right;\n",
       "    }\n",
       "</style>\n",
       "<table border=\"1\" class=\"dataframe\">\n",
       "  <thead>\n",
       "    <tr style=\"text-align: right;\">\n",
       "      <th></th>\n",
       "      <th>Name</th>\n",
       "      <th>Platform</th>\n",
       "      <th>Year_of_Release</th>\n",
       "      <th>Genre</th>\n",
       "      <th>NA_sales</th>\n",
       "      <th>EU_sales</th>\n",
       "      <th>JP_sales</th>\n",
       "      <th>Other_sales</th>\n",
       "      <th>Critic_Score</th>\n",
       "      <th>User_Score</th>\n",
       "      <th>Rating</th>\n",
       "    </tr>\n",
       "  </thead>\n",
       "  <tbody>\n",
       "    <tr>\n",
       "      <th>0</th>\n",
       "      <td>Wii Sports</td>\n",
       "      <td>Wii</td>\n",
       "      <td>2006.0</td>\n",
       "      <td>Sports</td>\n",
       "      <td>41.36</td>\n",
       "      <td>28.96</td>\n",
       "      <td>3.77</td>\n",
       "      <td>8.45</td>\n",
       "      <td>76.0</td>\n",
       "      <td>8</td>\n",
       "      <td>E</td>\n",
       "    </tr>\n",
       "    <tr>\n",
       "      <th>1</th>\n",
       "      <td>Super Mario Bros.</td>\n",
       "      <td>NES</td>\n",
       "      <td>1985.0</td>\n",
       "      <td>Platform</td>\n",
       "      <td>29.08</td>\n",
       "      <td>3.58</td>\n",
       "      <td>6.81</td>\n",
       "      <td>0.77</td>\n",
       "      <td>NaN</td>\n",
       "      <td>NaN</td>\n",
       "      <td>NaN</td>\n",
       "    </tr>\n",
       "    <tr>\n",
       "      <th>2</th>\n",
       "      <td>Mario Kart Wii</td>\n",
       "      <td>Wii</td>\n",
       "      <td>2008.0</td>\n",
       "      <td>Racing</td>\n",
       "      <td>15.68</td>\n",
       "      <td>12.76</td>\n",
       "      <td>3.79</td>\n",
       "      <td>3.29</td>\n",
       "      <td>82.0</td>\n",
       "      <td>8.3</td>\n",
       "      <td>E</td>\n",
       "    </tr>\n",
       "    <tr>\n",
       "      <th>3</th>\n",
       "      <td>Wii Sports Resort</td>\n",
       "      <td>Wii</td>\n",
       "      <td>2009.0</td>\n",
       "      <td>Sports</td>\n",
       "      <td>15.61</td>\n",
       "      <td>10.93</td>\n",
       "      <td>3.28</td>\n",
       "      <td>2.95</td>\n",
       "      <td>80.0</td>\n",
       "      <td>8</td>\n",
       "      <td>E</td>\n",
       "    </tr>\n",
       "    <tr>\n",
       "      <th>4</th>\n",
       "      <td>Pokemon Red/Pokemon Blue</td>\n",
       "      <td>GB</td>\n",
       "      <td>1996.0</td>\n",
       "      <td>Role-Playing</td>\n",
       "      <td>11.27</td>\n",
       "      <td>8.89</td>\n",
       "      <td>10.22</td>\n",
       "      <td>1.00</td>\n",
       "      <td>NaN</td>\n",
       "      <td>NaN</td>\n",
       "      <td>NaN</td>\n",
       "    </tr>\n",
       "  </tbody>\n",
       "</table>\n",
       "</div>"
      ],
      "text/plain": [
       "                       Name Platform  Year_of_Release         Genre  NA_sales  \\\n",
       "0                Wii Sports      Wii           2006.0        Sports     41.36   \n",
       "1         Super Mario Bros.      NES           1985.0      Platform     29.08   \n",
       "2            Mario Kart Wii      Wii           2008.0        Racing     15.68   \n",
       "3         Wii Sports Resort      Wii           2009.0        Sports     15.61   \n",
       "4  Pokemon Red/Pokemon Blue       GB           1996.0  Role-Playing     11.27   \n",
       "\n",
       "   EU_sales  JP_sales  Other_sales  Critic_Score User_Score Rating  \n",
       "0     28.96      3.77         8.45          76.0          8      E  \n",
       "1      3.58      6.81         0.77           NaN        NaN    NaN  \n",
       "2     12.76      3.79         3.29          82.0        8.3      E  \n",
       "3     10.93      3.28         2.95          80.0          8      E  \n",
       "4      8.89     10.22         1.00           NaN        NaN    NaN  "
      ]
     },
     "execution_count": 2,
     "metadata": {},
     "output_type": "execute_result"
    }
   ],
   "source": [
    "import pandas as pd\n",
    "data = pd.read_csv('games.csv')\n",
    "pd.set_option('display.max_columns', 50)\n",
    "pd.set_option('display.max_rows', 500)\n",
    "from IPython.display import display\n",
    "import numpy as np\n",
    "data.head()"
   ]
  },
  {
   "cell_type": "markdown",
   "metadata": {},
   "source": [
    "Для исследования и анализа нам понадобится excel-файл содержащий те же данные и в таком же виде, как и в датафрейме. Извлечем его."
   ]
  },
  {
   "cell_type": "code",
   "execution_count": 3,
   "metadata": {
    "scrolled": true
   },
   "outputs": [],
   "source": [
    "#Проверяем наличие необходимых библиотек\n",
    "#!pip install openpyxl\n",
    "#!pip install xlrd\n",
    "\n",
    "#Defaulting to user installation because normal site-packages is not writeable\n",
    "#Requirement already satisfied: openpyxl in /home/jovyan/.local/lib/python3.7/site-packages (3.0.4)\n",
    "#Requirement already satisfied: jdcal in /home/jovyan/.local/lib/python3.7/site-packages (from openpyxl) (1.4.1)\n",
    "#Requirement already satisfied: et-xmlfile in /home/jovyan/.local/lib/python3.7/site-packages (from openpyxl) (1.0.1)\n",
    "#Defaulting to user installation because normal site-packages is not writeable\n",
    "#Requirement already satisfied: xlrd in /opt/conda/lib/python3.7/site-packages (1.2.0)"
   ]
  },
  {
   "cell_type": "code",
   "execution_count": 4,
   "metadata": {},
   "outputs": [],
   "source": [
    "#!pip install XlsxWriter\n",
    "#excel_file = pd.ExcelWriter('games.xlsx', engine='xlsxwriter')\n",
    "# Записываем датафрейм в файл     \n",
    "#data.to_excel(excel_file, sheet_name='games', encoding='utf-8')\n",
    "# Сохраняем результат \n",
    "#excel_file.save()"
   ]
  },
  {
   "cell_type": "markdown",
   "metadata": {},
   "source": [
    "Смотрим и изучаем общую информацию о датафрейме."
   ]
  },
  {
   "cell_type": "code",
   "execution_count": 5,
   "metadata": {},
   "outputs": [
    {
     "name": "stdout",
     "output_type": "stream",
     "text": [
      "<class 'pandas.core.frame.DataFrame'>\n",
      "RangeIndex: 16715 entries, 0 to 16714\n",
      "Data columns (total 11 columns):\n",
      " #   Column           Non-Null Count  Dtype  \n",
      "---  ------           --------------  -----  \n",
      " 0   Name             16713 non-null  object \n",
      " 1   Platform         16715 non-null  object \n",
      " 2   Year_of_Release  16446 non-null  float64\n",
      " 3   Genre            16713 non-null  object \n",
      " 4   NA_sales         16715 non-null  float64\n",
      " 5   EU_sales         16715 non-null  float64\n",
      " 6   JP_sales         16715 non-null  float64\n",
      " 7   Other_sales      16715 non-null  float64\n",
      " 8   Critic_Score     8137 non-null   float64\n",
      " 9   User_Score       10014 non-null  object \n",
      " 10  Rating           9949 non-null   object \n",
      "dtypes: float64(6), object(5)\n",
      "memory usage: 1.4+ MB\n"
     ]
    }
   ],
   "source": [
    "data.info()"
   ]
  },
  {
   "cell_type": "markdown",
   "metadata": {},
   "source": [
    "Исходные данные в таблице представлены следующими столбцами:\n",
    "\n",
    "- Name — название игры\n",
    "-\tPlatform — платформа\n",
    "-\tYear_of_Release — год выпуска\n",
    "-\tGenre — жанр игры\n",
    "-\tNA_sales — продажи в Северной Америке (миллионы долларов)\n",
    "-\tEU_sales — продажи в Европе (миллионы долларов)\n",
    "-\tJP_sales — продажи в Японии (миллионы долларов)\n",
    "-\tOther_sales — продажи в других странах (миллионы долларов)\n",
    "-\tCritic_Score — оценка критиков (максимум 100)\n",
    "-\tUser_Score — оценка пользователей (максимум 10)\n",
    "-\tRating — рейтинг от организации ESRB (англ. Entertainment Software Rating Board). Эта ассоциация определяет рейтинг компьютерных игр и присваивает им подходящую возрастную категорию."
   ]
  },
  {
   "cell_type": "markdown",
   "metadata": {},
   "source": [
    "#### <font color='purple'> 1-ый промежуточный вывод.</font>\n",
    "Качество предоставленных данных оставляет желать лучшего. В столбцах: оценка критиков - *Critic_Score* и оценка пользователей - *User_Score*, а также рейтинг от организации *ESRB* - *Rating*, пропущена почти половина данных. В записях об играх за 1995 год эти данные вообще не представлены. \n",
    "\n",
    "Непонятно присхождение рейтингов *ESRB* в записях ранее 1994 года, поскольку именно в этому году *ESRB* была образована американской ассоциацией производителей компьютерных игр и ПО. Историческая справка: \"*The Entertainment Software Rating Board (ESRB) was founded and started rating games in the year 1994. It is a self-regulatory organization that assigns age and content ratings and enforces industry-adopted advertising guidelines for computer and video games in the United States and Canada*.\"\n",
    "\n",
    "В столбце *Year_of_Release* пропущено около двух процентов записей, в столбце *Name* отсутствуют названия двух игр и соответствующие им жанры в столбце *Genre*."
   ]
  },
  {
   "cell_type": "markdown",
   "metadata": {},
   "source": [
    "### Часть 2. Подготовка данных."
   ]
  },
  {
   "cell_type": "code",
   "execution_count": 6,
   "metadata": {},
   "outputs": [
    {
     "data": {
      "text/plain": [
       "Index(['Name', 'Platform', 'Year_of_Release', 'Genre', 'NA_sales', 'EU_sales',\n",
       "       'JP_sales', 'Other_sales', 'Critic_Score', 'User_Score', 'Rating'],\n",
       "      dtype='object')"
      ]
     },
     "execution_count": 6,
     "metadata": {},
     "output_type": "execute_result"
    }
   ],
   "source": [
    "data.columns"
   ]
  },
  {
   "cell_type": "markdown",
   "metadata": {},
   "source": [
    "Приводим названия столбцов к нижнему регистру."
   ]
  },
  {
   "cell_type": "code",
   "execution_count": 7,
   "metadata": {},
   "outputs": [],
   "source": [
    "data.columns = data.columns.str.lower()"
   ]
  },
  {
   "cell_type": "code",
   "execution_count": 8,
   "metadata": {},
   "outputs": [
    {
     "data": {
      "text/plain": [
       "Index(['name', 'platform', 'year_of_release', 'genre', 'na_sales', 'eu_sales',\n",
       "       'jp_sales', 'other_sales', 'critic_score', 'user_score', 'rating'],\n",
       "      dtype='object')"
      ]
     },
     "execution_count": 8,
     "metadata": {},
     "output_type": "execute_result"
    }
   ],
   "source": [
    "data.columns"
   ]
  },
  {
   "cell_type": "markdown",
   "metadata": {},
   "source": [
    "Посмотрим сколько пропущено записей в столбце *year_of_release*. "
   ]
  },
  {
   "cell_type": "code",
   "execution_count": 9,
   "metadata": {},
   "outputs": [
    {
     "data": {
      "text/plain": [
       "269"
      ]
     },
     "execution_count": 9,
     "metadata": {},
     "output_type": "execute_result"
    }
   ],
   "source": [
    "data['year_of_release'].isna().sum()"
   ]
  },
  {
   "cell_type": "markdown",
   "metadata": {},
   "source": [
    "В колонке *year_of_release* пропущены 269 записей. Не так уж и много, около 1.5% от общего количества записей. Тем не менее, попробуем восстановить пропущенные годы в тех случаях, когда имеются данные о времени выпуска одной и той же игры на разных платформах. Как правило производители выпускают в продажу игру одновременно на всех профильных для них платформах."
   ]
  },
  {
   "cell_type": "code",
   "execution_count": 10,
   "metadata": {},
   "outputs": [
    {
     "data": {
      "text/plain": [
       "146"
      ]
     },
     "execution_count": 10,
     "metadata": {},
     "output_type": "execute_result"
    }
   ],
   "source": [
    "for name in data['name'].unique():\n",
    "    median = data.loc[data['name'] == name, 'year_of_release'].median()\n",
    "    data.loc[(data['year_of_release'].isna()) & (data['name'] == name), 'year_of_release'] = median\n",
    "data['year_of_release'].isna().sum()"
   ]
  },
  {
   "cell_type": "markdown",
   "metadata": {},
   "source": [
    "Неплохо, мы восстановили почти половину пропущенных значений в стобце *year_of_release*."
   ]
  },
  {
   "cell_type": "code",
   "execution_count": 11,
   "metadata": {},
   "outputs": [
    {
     "data": {
      "text/html": [
       "<div>\n",
       "<style scoped>\n",
       "    .dataframe tbody tr th:only-of-type {\n",
       "        vertical-align: middle;\n",
       "    }\n",
       "\n",
       "    .dataframe tbody tr th {\n",
       "        vertical-align: top;\n",
       "    }\n",
       "\n",
       "    .dataframe thead th {\n",
       "        text-align: right;\n",
       "    }\n",
       "</style>\n",
       "<table border=\"1\" class=\"dataframe\">\n",
       "  <thead>\n",
       "    <tr style=\"text-align: right;\">\n",
       "      <th></th>\n",
       "      <th>name</th>\n",
       "      <th>platform</th>\n",
       "      <th>year_of_release</th>\n",
       "      <th>genre</th>\n",
       "      <th>na_sales</th>\n",
       "      <th>eu_sales</th>\n",
       "      <th>jp_sales</th>\n",
       "      <th>other_sales</th>\n",
       "      <th>critic_score</th>\n",
       "      <th>user_score</th>\n",
       "      <th>rating</th>\n",
       "    </tr>\n",
       "  </thead>\n",
       "  <tbody>\n",
       "    <tr>\n",
       "      <th>0</th>\n",
       "      <td>Wii Sports</td>\n",
       "      <td>Wii</td>\n",
       "      <td>2006.0</td>\n",
       "      <td>Sports</td>\n",
       "      <td>41.36</td>\n",
       "      <td>28.96</td>\n",
       "      <td>3.77</td>\n",
       "      <td>8.45</td>\n",
       "      <td>76.0</td>\n",
       "      <td>8</td>\n",
       "      <td>E</td>\n",
       "    </tr>\n",
       "    <tr>\n",
       "      <th>1</th>\n",
       "      <td>Super Mario Bros.</td>\n",
       "      <td>NES</td>\n",
       "      <td>1985.0</td>\n",
       "      <td>Platform</td>\n",
       "      <td>29.08</td>\n",
       "      <td>3.58</td>\n",
       "      <td>6.81</td>\n",
       "      <td>0.77</td>\n",
       "      <td>NaN</td>\n",
       "      <td>NaN</td>\n",
       "      <td>NaN</td>\n",
       "    </tr>\n",
       "    <tr>\n",
       "      <th>2</th>\n",
       "      <td>Mario Kart Wii</td>\n",
       "      <td>Wii</td>\n",
       "      <td>2008.0</td>\n",
       "      <td>Racing</td>\n",
       "      <td>15.68</td>\n",
       "      <td>12.76</td>\n",
       "      <td>3.79</td>\n",
       "      <td>3.29</td>\n",
       "      <td>82.0</td>\n",
       "      <td>8.3</td>\n",
       "      <td>E</td>\n",
       "    </tr>\n",
       "    <tr>\n",
       "      <th>3</th>\n",
       "      <td>Wii Sports Resort</td>\n",
       "      <td>Wii</td>\n",
       "      <td>2009.0</td>\n",
       "      <td>Sports</td>\n",
       "      <td>15.61</td>\n",
       "      <td>10.93</td>\n",
       "      <td>3.28</td>\n",
       "      <td>2.95</td>\n",
       "      <td>80.0</td>\n",
       "      <td>8</td>\n",
       "      <td>E</td>\n",
       "    </tr>\n",
       "    <tr>\n",
       "      <th>4</th>\n",
       "      <td>Pokemon Red/Pokemon Blue</td>\n",
       "      <td>GB</td>\n",
       "      <td>1996.0</td>\n",
       "      <td>Role-Playing</td>\n",
       "      <td>11.27</td>\n",
       "      <td>8.89</td>\n",
       "      <td>10.22</td>\n",
       "      <td>1.00</td>\n",
       "      <td>NaN</td>\n",
       "      <td>NaN</td>\n",
       "      <td>NaN</td>\n",
       "    </tr>\n",
       "  </tbody>\n",
       "</table>\n",
       "</div>"
      ],
      "text/plain": [
       "                       name platform  year_of_release         genre  na_sales  \\\n",
       "0                Wii Sports      Wii           2006.0        Sports     41.36   \n",
       "1         Super Mario Bros.      NES           1985.0      Platform     29.08   \n",
       "2            Mario Kart Wii      Wii           2008.0        Racing     15.68   \n",
       "3         Wii Sports Resort      Wii           2009.0        Sports     15.61   \n",
       "4  Pokemon Red/Pokemon Blue       GB           1996.0  Role-Playing     11.27   \n",
       "\n",
       "   eu_sales  jp_sales  other_sales  critic_score user_score rating  \n",
       "0     28.96      3.77         8.45          76.0          8      E  \n",
       "1      3.58      6.81         0.77           NaN        NaN    NaN  \n",
       "2     12.76      3.79         3.29          82.0        8.3      E  \n",
       "3     10.93      3.28         2.95          80.0          8      E  \n",
       "4      8.89     10.22         1.00           NaN        NaN    NaN  "
      ]
     },
     "execution_count": 11,
     "metadata": {},
     "output_type": "execute_result"
    }
   ],
   "source": [
    "data.head()"
   ]
  },
  {
   "cell_type": "markdown",
   "metadata": {},
   "source": [
    "Было бы еще неплохо заменить все пропущеные значения *NaN* в столбце *year_of_release* на 0, а значения типа *float* для красоты изменить на тип *int*. Но при дальнейших манипуляциях с датафреймом придется указывать диапазоны при построении графиков. Поэтому оставим пока все как есть.\n",
    "\n",
    "Проверим на всякий случай, как прошли замены. "
   ]
  },
  {
   "cell_type": "code",
   "execution_count": 12,
   "metadata": {},
   "outputs": [
    {
     "data": {
      "text/plain": [
       "array([2006. , 1985. , 2008. , 2009. , 1996. , 1989. , 1984. , 2005. ,\n",
       "       1999. , 2007. , 2010. , 2013. , 2004. , 1990. , 1988. , 2002. ,\n",
       "       2001. , 2011. , 1998. , 2015. , 2012. , 2014. , 1992. , 1997. ,\n",
       "       1993. , 1994. , 1982. , 2016. , 2003. , 1986. , 2000. , 1995. ,\n",
       "       1991. , 1981. , 1987. , 1980. , 1983. ,    nan, 2002.5, 2013.5,\n",
       "       2005.5, 2001.5])"
      ]
     },
     "execution_count": 12,
     "metadata": {},
     "output_type": "execute_result"
    }
   ],
   "source": [
    "data['year_of_release'].unique()"
   ]
  },
  {
   "cell_type": "markdown",
   "metadata": {},
   "source": [
    "Появились дробные значения в столбце *year_of_release*. Благо их оказалось немного, исправляем."
   ]
  },
  {
   "cell_type": "code",
   "execution_count": 13,
   "metadata": {},
   "outputs": [
    {
     "data": {
      "text/plain": [
       "array([2006., 1985., 2008., 2009., 1996., 1989., 1984., 2005., 1999.,\n",
       "       2007., 2010., 2013., 2004., 1990., 1988., 2002., 2001., 2011.,\n",
       "       1998., 2015., 2012., 2014., 1992., 1997., 1993., 1994., 1982.,\n",
       "       2016., 2003., 1986., 2000., 1995., 1991., 1981., 1987., 1980.,\n",
       "       1983.,   nan])"
      ]
     },
     "execution_count": 13,
     "metadata": {},
     "output_type": "execute_result"
    }
   ],
   "source": [
    "data['year_of_release'] = data['year_of_release'].replace(2002.5, )\n",
    "data['year_of_release'] = data['year_of_release'].replace(2013.5, )\n",
    "data['year_of_release'] = data['year_of_release'].replace(2005.5, )\n",
    "data['year_of_release'] = data['year_of_release'].replace(2001.5, )\n",
    "data['year_of_release'].unique()"
   ]
  },
  {
   "cell_type": "markdown",
   "metadata": {},
   "source": [
    "Теперь разберемся с записями 'tbd' в столбце *user_score*."
   ]
  },
  {
   "cell_type": "code",
   "execution_count": 14,
   "metadata": {},
   "outputs": [
    {
     "data": {
      "text/plain": [
       "2424"
      ]
     },
     "execution_count": 14,
     "metadata": {},
     "output_type": "execute_result"
    }
   ],
   "source": [
    "data[data['user_score'] == 'tbd']['user_score'].count()"
   ]
  },
  {
   "cell_type": "markdown",
   "metadata": {},
   "source": [
    "В столбце *user_score* 2424 раза встречается запись *tbd*, которая скорее всего означает, что на момент создания записи рейтинг данной игры был в процессе рассмотрения. Но то ли это были всего лишь нереализованные планы, то ли не хатило кворума голосов, то ли оценку сделали, но ее забыли внести и т.д. Причин может быть несколько, восстановить реальную картину практически не возможно.\n",
    "\n",
    "Кроме того, а нашем случае запись *tbd* никакой полезной для нас информации не содержит. Корректно заменить ее на какое-то значение не получится, поскольку рейтинги одной и той же игры на разных платформах могут отличаться и они в общем случае отличаются. Поэтому в рамках данного исследования мы этот факт просто игнорируем.\n",
    "\n",
    "На всякий случай сохраним столбец *user_score*, чтобы можно было использовать эти данные при необходимости. Создаем новый столбец *user_score_1*, в котором переводим значения исходного столбца из строкового типа *str* в вещественный тип *float*, при этом записи *tbd* будут заменены на *NaN*."
   ]
  },
  {
   "cell_type": "code",
   "execution_count": 15,
   "metadata": {},
   "outputs": [
    {
     "data": {
      "text/html": [
       "<div>\n",
       "<style scoped>\n",
       "    .dataframe tbody tr th:only-of-type {\n",
       "        vertical-align: middle;\n",
       "    }\n",
       "\n",
       "    .dataframe tbody tr th {\n",
       "        vertical-align: top;\n",
       "    }\n",
       "\n",
       "    .dataframe thead th {\n",
       "        text-align: right;\n",
       "    }\n",
       "</style>\n",
       "<table border=\"1\" class=\"dataframe\">\n",
       "  <thead>\n",
       "    <tr style=\"text-align: right;\">\n",
       "      <th></th>\n",
       "      <th>name</th>\n",
       "      <th>platform</th>\n",
       "      <th>year_of_release</th>\n",
       "      <th>genre</th>\n",
       "      <th>na_sales</th>\n",
       "      <th>eu_sales</th>\n",
       "      <th>jp_sales</th>\n",
       "      <th>other_sales</th>\n",
       "      <th>critic_score</th>\n",
       "      <th>user_score</th>\n",
       "      <th>rating</th>\n",
       "      <th>user_score_1</th>\n",
       "    </tr>\n",
       "  </thead>\n",
       "  <tbody>\n",
       "    <tr>\n",
       "      <th>0</th>\n",
       "      <td>Wii Sports</td>\n",
       "      <td>Wii</td>\n",
       "      <td>2006.0</td>\n",
       "      <td>Sports</td>\n",
       "      <td>41.36</td>\n",
       "      <td>28.96</td>\n",
       "      <td>3.77</td>\n",
       "      <td>8.45</td>\n",
       "      <td>76.0</td>\n",
       "      <td>8</td>\n",
       "      <td>E</td>\n",
       "      <td>8.0</td>\n",
       "    </tr>\n",
       "    <tr>\n",
       "      <th>1</th>\n",
       "      <td>Super Mario Bros.</td>\n",
       "      <td>NES</td>\n",
       "      <td>1985.0</td>\n",
       "      <td>Platform</td>\n",
       "      <td>29.08</td>\n",
       "      <td>3.58</td>\n",
       "      <td>6.81</td>\n",
       "      <td>0.77</td>\n",
       "      <td>NaN</td>\n",
       "      <td>NaN</td>\n",
       "      <td>NaN</td>\n",
       "      <td>NaN</td>\n",
       "    </tr>\n",
       "    <tr>\n",
       "      <th>2</th>\n",
       "      <td>Mario Kart Wii</td>\n",
       "      <td>Wii</td>\n",
       "      <td>2008.0</td>\n",
       "      <td>Racing</td>\n",
       "      <td>15.68</td>\n",
       "      <td>12.76</td>\n",
       "      <td>3.79</td>\n",
       "      <td>3.29</td>\n",
       "      <td>82.0</td>\n",
       "      <td>8.3</td>\n",
       "      <td>E</td>\n",
       "      <td>8.3</td>\n",
       "    </tr>\n",
       "    <tr>\n",
       "      <th>3</th>\n",
       "      <td>Wii Sports Resort</td>\n",
       "      <td>Wii</td>\n",
       "      <td>2009.0</td>\n",
       "      <td>Sports</td>\n",
       "      <td>15.61</td>\n",
       "      <td>10.93</td>\n",
       "      <td>3.28</td>\n",
       "      <td>2.95</td>\n",
       "      <td>80.0</td>\n",
       "      <td>8</td>\n",
       "      <td>E</td>\n",
       "      <td>8.0</td>\n",
       "    </tr>\n",
       "    <tr>\n",
       "      <th>4</th>\n",
       "      <td>Pokemon Red/Pokemon Blue</td>\n",
       "      <td>GB</td>\n",
       "      <td>1996.0</td>\n",
       "      <td>Role-Playing</td>\n",
       "      <td>11.27</td>\n",
       "      <td>8.89</td>\n",
       "      <td>10.22</td>\n",
       "      <td>1.00</td>\n",
       "      <td>NaN</td>\n",
       "      <td>NaN</td>\n",
       "      <td>NaN</td>\n",
       "      <td>NaN</td>\n",
       "    </tr>\n",
       "  </tbody>\n",
       "</table>\n",
       "</div>"
      ],
      "text/plain": [
       "                       name platform  year_of_release         genre  na_sales  \\\n",
       "0                Wii Sports      Wii           2006.0        Sports     41.36   \n",
       "1         Super Mario Bros.      NES           1985.0      Platform     29.08   \n",
       "2            Mario Kart Wii      Wii           2008.0        Racing     15.68   \n",
       "3         Wii Sports Resort      Wii           2009.0        Sports     15.61   \n",
       "4  Pokemon Red/Pokemon Blue       GB           1996.0  Role-Playing     11.27   \n",
       "\n",
       "   eu_sales  jp_sales  other_sales  critic_score user_score rating  \\\n",
       "0     28.96      3.77         8.45          76.0          8      E   \n",
       "1      3.58      6.81         0.77           NaN        NaN    NaN   \n",
       "2     12.76      3.79         3.29          82.0        8.3      E   \n",
       "3     10.93      3.28         2.95          80.0          8      E   \n",
       "4      8.89     10.22         1.00           NaN        NaN    NaN   \n",
       "\n",
       "   user_score_1  \n",
       "0           8.0  \n",
       "1           NaN  \n",
       "2           8.3  \n",
       "3           8.0  \n",
       "4           NaN  "
      ]
     },
     "execution_count": 15,
     "metadata": {},
     "output_type": "execute_result"
    }
   ],
   "source": [
    "data['user_score_1'] = pd.to_numeric(data['user_score'], errors='coerce')\n",
    "data.head()"
   ]
  },
  {
   "cell_type": "code",
   "execution_count": 16,
   "metadata": {},
   "outputs": [
    {
     "name": "stdout",
     "output_type": "stream",
     "text": [
      "<class 'pandas.core.frame.DataFrame'>\n",
      "RangeIndex: 16715 entries, 0 to 16714\n",
      "Data columns (total 12 columns):\n",
      " #   Column           Non-Null Count  Dtype  \n",
      "---  ------           --------------  -----  \n",
      " 0   name             16713 non-null  object \n",
      " 1   platform         16715 non-null  object \n",
      " 2   year_of_release  16569 non-null  float64\n",
      " 3   genre            16713 non-null  object \n",
      " 4   na_sales         16715 non-null  float64\n",
      " 5   eu_sales         16715 non-null  float64\n",
      " 6   jp_sales         16715 non-null  float64\n",
      " 7   other_sales      16715 non-null  float64\n",
      " 8   critic_score     8137 non-null   float64\n",
      " 9   user_score       10014 non-null  object \n",
      " 10  rating           9949 non-null   object \n",
      " 11  user_score_1     7590 non-null   float64\n",
      "dtypes: float64(7), object(5)\n",
      "memory usage: 1.5+ MB\n"
     ]
    }
   ],
   "source": [
    "data.info()"
   ]
  },
  {
   "cell_type": "markdown",
   "metadata": {},
   "source": [
    "Посмотрим теперь на строки с пропущенными названиями игр и жанрами. "
   ]
  },
  {
   "cell_type": "code",
   "execution_count": 17,
   "metadata": {},
   "outputs": [
    {
     "data": {
      "text/html": [
       "<div>\n",
       "<style scoped>\n",
       "    .dataframe tbody tr th:only-of-type {\n",
       "        vertical-align: middle;\n",
       "    }\n",
       "\n",
       "    .dataframe tbody tr th {\n",
       "        vertical-align: top;\n",
       "    }\n",
       "\n",
       "    .dataframe thead th {\n",
       "        text-align: right;\n",
       "    }\n",
       "</style>\n",
       "<table border=\"1\" class=\"dataframe\">\n",
       "  <thead>\n",
       "    <tr style=\"text-align: right;\">\n",
       "      <th></th>\n",
       "      <th>name</th>\n",
       "      <th>platform</th>\n",
       "      <th>year_of_release</th>\n",
       "      <th>genre</th>\n",
       "      <th>na_sales</th>\n",
       "      <th>eu_sales</th>\n",
       "      <th>jp_sales</th>\n",
       "      <th>other_sales</th>\n",
       "      <th>critic_score</th>\n",
       "      <th>user_score</th>\n",
       "      <th>rating</th>\n",
       "      <th>user_score_1</th>\n",
       "    </tr>\n",
       "  </thead>\n",
       "  <tbody>\n",
       "    <tr>\n",
       "      <th>659</th>\n",
       "      <td>NaN</td>\n",
       "      <td>GEN</td>\n",
       "      <td>1993.0</td>\n",
       "      <td>NaN</td>\n",
       "      <td>1.78</td>\n",
       "      <td>0.53</td>\n",
       "      <td>0.00</td>\n",
       "      <td>0.08</td>\n",
       "      <td>NaN</td>\n",
       "      <td>NaN</td>\n",
       "      <td>NaN</td>\n",
       "      <td>NaN</td>\n",
       "    </tr>\n",
       "    <tr>\n",
       "      <th>14244</th>\n",
       "      <td>NaN</td>\n",
       "      <td>GEN</td>\n",
       "      <td>1993.0</td>\n",
       "      <td>NaN</td>\n",
       "      <td>0.00</td>\n",
       "      <td>0.00</td>\n",
       "      <td>0.03</td>\n",
       "      <td>0.00</td>\n",
       "      <td>NaN</td>\n",
       "      <td>NaN</td>\n",
       "      <td>NaN</td>\n",
       "      <td>NaN</td>\n",
       "    </tr>\n",
       "  </tbody>\n",
       "</table>\n",
       "</div>"
      ],
      "text/plain": [
       "      name platform  year_of_release genre  na_sales  eu_sales  jp_sales  \\\n",
       "659    NaN      GEN           1993.0   NaN      1.78      0.53      0.00   \n",
       "14244  NaN      GEN           1993.0   NaN      0.00      0.00      0.03   \n",
       "\n",
       "       other_sales  critic_score user_score rating  user_score_1  \n",
       "659           0.08           NaN        NaN    NaN           NaN  \n",
       "14244         0.00           NaN        NaN    NaN           NaN  "
      ]
     },
     "execution_count": 17,
     "metadata": {},
     "output_type": "execute_result"
    }
   ],
   "source": [
    "data_nan = data.sort_values(by ='name', na_position ='first' ) \n",
    "data_nan.head(2)"
   ]
  },
  {
   "cell_type": "markdown",
   "metadata": {},
   "source": [
    "По большому счету, особой информативностью эти строки не обладают, да и относятся к прошлому веку. Но с другой стороны, они ничем не мешают. Оставим их все-таки для полноты картины и статистики продаж по годам и платформам."
   ]
  },
  {
   "cell_type": "markdown",
   "metadata": {},
   "source": [
    "Подсчитаем суммарные продажи игр по регионам и сохраним их в новом столбце *total_sales*."
   ]
  },
  {
   "cell_type": "code",
   "execution_count": 18,
   "metadata": {},
   "outputs": [
    {
     "data": {
      "text/html": [
       "<div>\n",
       "<style scoped>\n",
       "    .dataframe tbody tr th:only-of-type {\n",
       "        vertical-align: middle;\n",
       "    }\n",
       "\n",
       "    .dataframe tbody tr th {\n",
       "        vertical-align: top;\n",
       "    }\n",
       "\n",
       "    .dataframe thead th {\n",
       "        text-align: right;\n",
       "    }\n",
       "</style>\n",
       "<table border=\"1\" class=\"dataframe\">\n",
       "  <thead>\n",
       "    <tr style=\"text-align: right;\">\n",
       "      <th></th>\n",
       "      <th>name</th>\n",
       "      <th>platform</th>\n",
       "      <th>year_of_release</th>\n",
       "      <th>genre</th>\n",
       "      <th>na_sales</th>\n",
       "      <th>eu_sales</th>\n",
       "      <th>jp_sales</th>\n",
       "      <th>other_sales</th>\n",
       "      <th>critic_score</th>\n",
       "      <th>user_score</th>\n",
       "      <th>rating</th>\n",
       "      <th>user_score_1</th>\n",
       "      <th>total_sales</th>\n",
       "    </tr>\n",
       "  </thead>\n",
       "  <tbody>\n",
       "    <tr>\n",
       "      <th>0</th>\n",
       "      <td>Wii Sports</td>\n",
       "      <td>Wii</td>\n",
       "      <td>2006.0</td>\n",
       "      <td>Sports</td>\n",
       "      <td>41.36</td>\n",
       "      <td>28.96</td>\n",
       "      <td>3.77</td>\n",
       "      <td>8.45</td>\n",
       "      <td>76.0</td>\n",
       "      <td>8</td>\n",
       "      <td>E</td>\n",
       "      <td>8.0</td>\n",
       "      <td>82.54</td>\n",
       "    </tr>\n",
       "    <tr>\n",
       "      <th>1</th>\n",
       "      <td>Super Mario Bros.</td>\n",
       "      <td>NES</td>\n",
       "      <td>1985.0</td>\n",
       "      <td>Platform</td>\n",
       "      <td>29.08</td>\n",
       "      <td>3.58</td>\n",
       "      <td>6.81</td>\n",
       "      <td>0.77</td>\n",
       "      <td>NaN</td>\n",
       "      <td>NaN</td>\n",
       "      <td>NaN</td>\n",
       "      <td>NaN</td>\n",
       "      <td>40.24</td>\n",
       "    </tr>\n",
       "    <tr>\n",
       "      <th>2</th>\n",
       "      <td>Mario Kart Wii</td>\n",
       "      <td>Wii</td>\n",
       "      <td>2008.0</td>\n",
       "      <td>Racing</td>\n",
       "      <td>15.68</td>\n",
       "      <td>12.76</td>\n",
       "      <td>3.79</td>\n",
       "      <td>3.29</td>\n",
       "      <td>82.0</td>\n",
       "      <td>8.3</td>\n",
       "      <td>E</td>\n",
       "      <td>8.3</td>\n",
       "      <td>35.52</td>\n",
       "    </tr>\n",
       "    <tr>\n",
       "      <th>3</th>\n",
       "      <td>Wii Sports Resort</td>\n",
       "      <td>Wii</td>\n",
       "      <td>2009.0</td>\n",
       "      <td>Sports</td>\n",
       "      <td>15.61</td>\n",
       "      <td>10.93</td>\n",
       "      <td>3.28</td>\n",
       "      <td>2.95</td>\n",
       "      <td>80.0</td>\n",
       "      <td>8</td>\n",
       "      <td>E</td>\n",
       "      <td>8.0</td>\n",
       "      <td>32.77</td>\n",
       "    </tr>\n",
       "    <tr>\n",
       "      <th>4</th>\n",
       "      <td>Pokemon Red/Pokemon Blue</td>\n",
       "      <td>GB</td>\n",
       "      <td>1996.0</td>\n",
       "      <td>Role-Playing</td>\n",
       "      <td>11.27</td>\n",
       "      <td>8.89</td>\n",
       "      <td>10.22</td>\n",
       "      <td>1.00</td>\n",
       "      <td>NaN</td>\n",
       "      <td>NaN</td>\n",
       "      <td>NaN</td>\n",
       "      <td>NaN</td>\n",
       "      <td>31.38</td>\n",
       "    </tr>\n",
       "  </tbody>\n",
       "</table>\n",
       "</div>"
      ],
      "text/plain": [
       "                       name platform  year_of_release         genre  na_sales  \\\n",
       "0                Wii Sports      Wii           2006.0        Sports     41.36   \n",
       "1         Super Mario Bros.      NES           1985.0      Platform     29.08   \n",
       "2            Mario Kart Wii      Wii           2008.0        Racing     15.68   \n",
       "3         Wii Sports Resort      Wii           2009.0        Sports     15.61   \n",
       "4  Pokemon Red/Pokemon Blue       GB           1996.0  Role-Playing     11.27   \n",
       "\n",
       "   eu_sales  jp_sales  other_sales  critic_score user_score rating  \\\n",
       "0     28.96      3.77         8.45          76.0          8      E   \n",
       "1      3.58      6.81         0.77           NaN        NaN    NaN   \n",
       "2     12.76      3.79         3.29          82.0        8.3      E   \n",
       "3     10.93      3.28         2.95          80.0          8      E   \n",
       "4      8.89     10.22         1.00           NaN        NaN    NaN   \n",
       "\n",
       "   user_score_1  total_sales  \n",
       "0           8.0        82.54  \n",
       "1           NaN        40.24  \n",
       "2           8.3        35.52  \n",
       "3           8.0        32.77  \n",
       "4           NaN        31.38  "
      ]
     },
     "execution_count": 18,
     "metadata": {},
     "output_type": "execute_result"
    }
   ],
   "source": [
    "list = ['na_sales', 'jp_sales','eu_sales', 'other_sales']\n",
    "data['total_sales'] = data[list].sum(axis=1)\n",
    "data.head(5)"
   ]
  },
  {
   "cell_type": "markdown",
   "metadata": {},
   "source": [
    "Заодно посмотрим, как отличаются регионы друг от друга по объемам продаж."
   ]
  },
  {
   "cell_type": "code",
   "execution_count": 19,
   "metadata": {},
   "outputs": [
    {
     "name": "stdout",
     "output_type": "stream",
     "text": [
      "Продажи игр в Северной Америке: 4402.35\n",
      "Продажи игр в Европе: 2424.67\n",
      "Продажи игр в Японии: 1297.37\n",
      "Продажи игр в других странах: 791.32\n"
     ]
    }
   ],
   "source": [
    "print('Продажи игр в Северной Америке:', data['na_sales'].sum())\n",
    "print('Продажи игр в Европе:', data['eu_sales'].sum())\n",
    "print('Продажи игр в Японии:',data['jp_sales'].sum())\n",
    "print('Продажи игр в других странах:', data['other_sales'].sum())"
   ]
  },
  {
   "cell_type": "markdown",
   "metadata": {},
   "source": [
    "Просуммируем продажи игр по всему миру."
   ]
  },
  {
   "cell_type": "code",
   "execution_count": 20,
   "metadata": {},
   "outputs": [
    {
     "data": {
      "text/plain": [
       "8915.71"
      ]
     },
     "execution_count": 20,
     "metadata": {},
     "output_type": "execute_result"
    }
   ],
   "source": [
    "data['total_sales'].sum()"
   ]
  },
  {
   "cell_type": "markdown",
   "metadata": {},
   "source": [
    "#### <font color='purple'>2-ой промежуточный вывод.</font>\n",
    "\n",
    "Справедливости ради, стоит отметить, что, полученная выше сумма продаж игр по всему миру, на порядок отличается от реальных цифр. Как следует из авторитетного источника \"Всемирная история игровой индустрии\" (https://stopgame.ru/blogs/topic/89367):\n",
    "\n",
    "\"В 2016-ом году мировая прибыль (доход, прим. автора исследования) от видеоигр достигла 100 млрд. долларов, что на 8.5 процентов больше, чем в 2015-ом. Доля ПК в ней занимает 36.9 млрд. долларов. Правда, это цифра включает в себя насквозь ПК-шный Китай, за которым 25 процентов всей индустрии, как и за США. Ещё 37 млрд. долларов удерживают мобильные игры.\" \n",
    "\n",
    "В публикации \"Объемы игровой индустрии\": https://gamesisart.ru/istoriya_komputernyh_igr_2.html эта цифра уточняется - 84,406 млрд. долларов. \n",
    "\n",
    "Если принять к сведению объем продаж в 2016 году, а  также реальное распределение игровых платформ (плюс PC и Nintendo), то можно считать, что рассматриваемый датасет является случайной выборкой из действительной (генеральной) совокупности даных. Очевидно, что полученные в дальнейшем результаты будут весьма приблизительно отражать реальное положение дел. "
   ]
  },
  {
   "cell_type": "markdown",
   "metadata": {},
   "source": [
    "### Часть 3. Исследовательский анализ данных.\n",
    "\n",
    "#### 1. Для начала посмотрим, как новые игры распределялись по годам выпуска."
   ]
  },
  {
   "cell_type": "code",
   "execution_count": 21,
   "metadata": {
    "scrolled": true
   },
   "outputs": [
    {
     "data": {
      "text/plain": [
       "Text(0.5, 1.0, 'Выпуск новых игр по годам')"
      ]
     },
     "execution_count": 21,
     "metadata": {},
     "output_type": "execute_result"
    },
    {
     "data": {
      "image/png": "[encoded data removed]",
      "text/plain": [
       "<Figure size 864x360 with 1 Axes>"
      ]
     },
     "metadata": {
      "needs_background": "light"
     },
     "output_type": "display_data"
    }
   ],
   "source": [
    "import matplotlib.pyplot as plt\n",
    "data['year_of_release'].hist(bins=74, range=(1980, 2016), figsize=(12, 5))\n",
    "plt.title('Выпуск новых игр по годам')"
   ]
  },
  {
   "cell_type": "markdown",
   "metadata": {},
   "source": [
    "#### <font color='purple'>3-ий промежуточный вывод.</font> \n",
    "\n",
    "На гистограмме наблюдается пик выпуска новых игр в 2007 - 2011 годах. Этому явлению соответствуют несколько событий.  Одним из главных событий, кардинально изменившим состояние дел на мировом рынке мобильных игровых приложений, стал запуск компанией Apple виртуального магазина App Store в июле 2008. В том же году появился Google Play. История социальных игр как серьезных проектов, приносящих весомый доход, начинается с 2007 года, когда были основаны компании Playfish (Великобритания) и Zynga (США).\n",
    "\n",
    "В борьбе за потребителя с 2005 по 2007 годы основные участники рынка консолей выпустили новые поколения своих устройств. Например, в седьмом поколении компания Nintendo представила свое необычное решение Wii и состоялся запуск Sony PlayStation 3. \n",
    "\n",
    "Начиная примерно с 2006 — 2007 в Китае открывается более 100 аутсорсинговых компаний, занимающихся разработкой графики и других компонентов игрового ПО. К 2006 году китайские производители заняли 64.8% рынка и запустили 218 игр, что на 26 игр больше чем в 2005.\n",
    "\n",
    "В 2009-ом году повился Kickstarter — сайт для привлечения денежных средств на реализацию творческих, научных и производственных проектов по схеме краудфандинга. С ростом цифровой дистрибуции и платформ типа Steam, gog.com и Humble Store появилась возможность распространять игры гораздо свободнее, не связывая себя рамками контрактов с Microsoft и XBLA, Sony и PlayStation Network. А в последнее время некоторые компании осваивают систему подписки, по аналогии с Netflix. \n",
    "\n",
    "И это все несмотря на глобальный экономический кризис, бушевавший в те годы. Во \"Всемирной история игровой индустрии\" так описывается то время: \"В итоге кризис порешил большинство студий средней руки не только в США, но и во всём мире. Вообще игровая индустрия пострадала гораздо меньше других, ведь в сложившееся экономическом положении игры оставались самым доступным видом развлечения. В 2008 году National Research Center провёл исследование и выяснилось, что 46% респондентов собираются в «Чёрную пятницу» потратить деньги на игры. Именно на период кризиса пришёлся резкий рост продаж домашних консолей и, сооветственно, выпуск и продажи новых игр."
   ]
  },
  {
   "cell_type": "markdown",
   "metadata": {},
   "source": [
    "#### 2. Найдем лидеров продаж игр по платформам."
   ]
  },
  {
   "cell_type": "code",
   "execution_count": 22,
   "metadata": {},
   "outputs": [
    {
     "data": {
      "text/html": [
       "<div>\n",
       "<style scoped>\n",
       "    .dataframe tbody tr th:only-of-type {\n",
       "        vertical-align: middle;\n",
       "    }\n",
       "\n",
       "    .dataframe tbody tr th {\n",
       "        vertical-align: top;\n",
       "    }\n",
       "\n",
       "    .dataframe thead th {\n",
       "        text-align: right;\n",
       "    }\n",
       "</style>\n",
       "<table border=\"1\" class=\"dataframe\">\n",
       "  <thead>\n",
       "    <tr style=\"text-align: right;\">\n",
       "      <th></th>\n",
       "      <th>platform</th>\n",
       "      <th>total_sales</th>\n",
       "    </tr>\n",
       "  </thead>\n",
       "  <tbody>\n",
       "    <tr>\n",
       "      <th>0</th>\n",
       "      <td>PS2</td>\n",
       "      <td>1255.77</td>\n",
       "    </tr>\n",
       "    <tr>\n",
       "      <th>1</th>\n",
       "      <td>X360</td>\n",
       "      <td>971.42</td>\n",
       "    </tr>\n",
       "    <tr>\n",
       "      <th>2</th>\n",
       "      <td>PS3</td>\n",
       "      <td>939.65</td>\n",
       "    </tr>\n",
       "    <tr>\n",
       "      <th>3</th>\n",
       "      <td>Wii</td>\n",
       "      <td>907.51</td>\n",
       "    </tr>\n",
       "    <tr>\n",
       "      <th>4</th>\n",
       "      <td>DS</td>\n",
       "      <td>806.12</td>\n",
       "    </tr>\n",
       "    <tr>\n",
       "      <th>5</th>\n",
       "      <td>PS</td>\n",
       "      <td>730.86</td>\n",
       "    </tr>\n",
       "    <tr>\n",
       "      <th>6</th>\n",
       "      <td>GBA</td>\n",
       "      <td>317.85</td>\n",
       "    </tr>\n",
       "    <tr>\n",
       "      <th>7</th>\n",
       "      <td>PS4</td>\n",
       "      <td>314.14</td>\n",
       "    </tr>\n",
       "    <tr>\n",
       "      <th>8</th>\n",
       "      <td>PSP</td>\n",
       "      <td>294.05</td>\n",
       "    </tr>\n",
       "    <tr>\n",
       "      <th>9</th>\n",
       "      <td>PC</td>\n",
       "      <td>259.52</td>\n",
       "    </tr>\n",
       "    <tr>\n",
       "      <th>10</th>\n",
       "      <td>3DS</td>\n",
       "      <td>259.00</td>\n",
       "    </tr>\n",
       "    <tr>\n",
       "      <th>11</th>\n",
       "      <td>XB</td>\n",
       "      <td>257.74</td>\n",
       "    </tr>\n",
       "  </tbody>\n",
       "</table>\n",
       "</div>"
      ],
      "text/plain": [
       "   platform  total_sales\n",
       "0       PS2      1255.77\n",
       "1      X360       971.42\n",
       "2       PS3       939.65\n",
       "3       Wii       907.51\n",
       "4        DS       806.12\n",
       "5        PS       730.86\n",
       "6       GBA       317.85\n",
       "7       PS4       314.14\n",
       "8       PSP       294.05\n",
       "9        PC       259.52\n",
       "10      3DS       259.00\n",
       "11       XB       257.74"
      ]
     },
     "execution_count": 22,
     "metadata": {},
     "output_type": "execute_result"
    }
   ],
   "source": [
    "data_platform_sale = data.groupby(\n",
    "    'platform')['total_sales'].sum().sort_values(ascending = False)\n",
    "\n",
    "data_platform_sale = data_platform_sale.reset_index()# <добавляем индексы к таблице>\n",
    "data_platform_sale.head(12) "
   ]
  },
  {
   "cell_type": "markdown",
   "metadata": {},
   "source": [
    "Построим графики, отражающие по годам количество выпущенных игр для первой шестерки платофрм."
   ]
  },
  {
   "cell_type": "code",
   "execution_count": 23,
   "metadata": {},
   "outputs": [
    {
     "data": {
      "text/plain": [
       "'PS2'"
      ]
     },
     "metadata": {},
     "output_type": "display_data"
    },
    {
     "data": {
      "image/png": "[encoded data removed]",
      "text/plain": [
       "<Figure size 720x288 with 1 Axes>"
      ]
     },
     "metadata": {
      "needs_background": "light"
     },
     "output_type": "display_data"
    },
    {
     "data": {
      "text/plain": [
       "'X360'"
      ]
     },
     "metadata": {},
     "output_type": "display_data"
    },
    {
     "data": {
      "image/png": "[encoded data removed]",
      "text/plain": [
       "<Figure size 720x288 with 1 Axes>"
      ]
     },
     "metadata": {
      "needs_background": "light"
     },
     "output_type": "display_data"
    },
    {
     "data": {
      "text/plain": [
       "'PS3'"
      ]
     },
     "metadata": {},
     "output_type": "display_data"
    },
    {
     "data": {
      "image/png": "[encoded data removed]",
      "text/plain": [
       "<Figure size 720x288 with 1 Axes>"
      ]
     },
     "metadata": {
      "needs_background": "light"
     },
     "output_type": "display_data"
    },
    {
     "data": {
      "text/plain": [
       "'Wii'"
      ]
     },
     "metadata": {},
     "output_type": "display_data"
    },
    {
     "data": {
      "image/png": "[encoded data removed]",
      "text/plain": [
       "<Figure size 720x288 with 1 Axes>"
      ]
     },
     "metadata": {
      "needs_background": "light"
     },
     "output_type": "display_data"
    },
    {
     "data": {
      "text/plain": [
       "'DS'"
      ]
     },
     "metadata": {},
     "output_type": "display_data"
    },
    {
     "data": {
      "image/png": "[encoded data removed]",
      "text/plain": [
       "<Figure size 720x288 with 1 Axes>"
      ]
     },
     "metadata": {
      "needs_background": "light"
     },
     "output_type": "display_data"
    },
    {
     "data": {
      "text/plain": [
       "'PS'"
      ]
     },
     "metadata": {},
     "output_type": "display_data"
    },
    {
     "data": {
      "image/png": "[encoded data removed]",
      "text/plain": [
       "<Figure size 720x288 with 1 Axes>"
      ]
     },
     "metadata": {
      "needs_background": "light"
     },
     "output_type": "display_data"
    }
   ],
   "source": [
    "platform_list = data_platform_sale.loc[0:5, 'platform']#['PS2', 'X360', 'PS3'] \n",
    "for element in platform_list:\n",
    "    display(element)\n",
    "    data.query('platform == @element').pivot_table(index='year_of_release', values='total_sales', aggfunc='sum').plot(\n",
    "        grid=True, figsize=(10, 4))\n",
    "    plt.show()   "
   ]
  },
  {
   "cell_type": "markdown",
   "metadata": {},
   "source": [
    "Проделаем то же самое для второй шестерки платформ."
   ]
  },
  {
   "cell_type": "code",
   "execution_count": 24,
   "metadata": {},
   "outputs": [
    {
     "data": {
      "text/plain": [
       "'GBA'"
      ]
     },
     "metadata": {},
     "output_type": "display_data"
    },
    {
     "data": {
      "image/png": "[encoded data removed]",
      "text/plain": [
       "<Figure size 720x288 with 1 Axes>"
      ]
     },
     "metadata": {
      "needs_background": "light"
     },
     "output_type": "display_data"
    },
    {
     "data": {
      "text/plain": [
       "'PS4'"
      ]
     },
     "metadata": {},
     "output_type": "display_data"
    },
    {
     "data": {
      "image/png": "[encoded data removed]",
      "text/plain": [
       "<Figure size 720x288 with 1 Axes>"
      ]
     },
     "metadata": {
      "needs_background": "light"
     },
     "output_type": "display_data"
    },
    {
     "data": {
      "text/plain": [
       "'PSP'"
      ]
     },
     "metadata": {},
     "output_type": "display_data"
    },
    {
     "data": {
      "image/png": "[encoded data removed]",
      "text/plain": [
       "<Figure size 720x288 with 1 Axes>"
      ]
     },
     "metadata": {
      "needs_background": "light"
     },
     "output_type": "display_data"
    },
    {
     "data": {
      "text/plain": [
       "'PC'"
      ]
     },
     "metadata": {},
     "output_type": "display_data"
    },
    {
     "data": {
      "image/png": "[encoded data removed]",
      "text/plain": [
       "<Figure size 720x288 with 1 Axes>"
      ]
     },
     "metadata": {
      "needs_background": "light"
     },
     "output_type": "display_data"
    },
    {
     "data": {
      "text/plain": [
       "'3DS'"
      ]
     },
     "metadata": {},
     "output_type": "display_data"
    },
    {
     "data": {
      "image/png": "[encoded data removed]",
      "text/plain": [
       "<Figure size 720x288 with 1 Axes>"
      ]
     },
     "metadata": {
      "needs_background": "light"
     },
     "output_type": "display_data"
    },
    {
     "data": {
      "text/plain": [
       "'XB'"
      ]
     },
     "metadata": {},
     "output_type": "display_data"
    },
    {
     "data": {
      "image/png": "[encoded data removed]",
      "text/plain": [
       "<Figure size 720x288 with 1 Axes>"
      ]
     },
     "metadata": {
      "needs_background": "light"
     },
     "output_type": "display_data"
    }
   ],
   "source": [
    "platform_list_2 = data_platform_sale.loc[6:11, 'platform'] \n",
    "for element_2 in platform_list_2:\n",
    "    display(element_2)\n",
    "    data.query('platform == @element_2').pivot_table(index='year_of_release', values='total_sales', aggfunc='sum').plot(\n",
    "        grid=True, figsize=(10, 4), label=('platform == @element_2'))\n",
    "    plt.show()   "
   ]
  },
  {
   "cell_type": "markdown",
   "metadata": {},
   "source": [
    "#### 3. Исследуемый актуальный период.\n",
    "Жизненный цикл ведущих игровых платформ составляет от 6-ти до 10-ти лет. Соответственно рост продаж продолжается от 3-х до 5-ти лет, а затем неизбежно следует спад. \n",
    "\n",
    "Исходя из этих цифр, можно было бы считать актуальным периодом 2012-2016 годы, но для декабря 2016 года нет данных, а  ведь впереди рождественские каникулы и новогодние праздники, на которые приходится традиционный всплеск продаж. Поэтому в рамках текущего исследования придется ограничить актуальный период 2015 годом. "
   ]
  },
  {
   "cell_type": "code",
   "execution_count": 25,
   "metadata": {},
   "outputs": [],
   "source": [
    "data_actual = data.query('2012 <= year_of_release < 2016')\n",
    "data_actual = data_actual.reset_index(drop=True)"
   ]
  },
  {
   "cell_type": "markdown",
   "metadata": {},
   "source": [
    "Посмотрим как распределились платформы по суммарным продажам игр в актуальный период."
   ]
  },
  {
   "cell_type": "code",
   "execution_count": 26,
   "metadata": {},
   "outputs": [
    {
     "data": {
      "text/html": [
       "<div>\n",
       "<style scoped>\n",
       "    .dataframe tbody tr th:only-of-type {\n",
       "        vertical-align: middle;\n",
       "    }\n",
       "\n",
       "    .dataframe tbody tr th {\n",
       "        vertical-align: top;\n",
       "    }\n",
       "\n",
       "    .dataframe thead th {\n",
       "        text-align: right;\n",
       "    }\n",
       "</style>\n",
       "<table border=\"1\" class=\"dataframe\">\n",
       "  <thead>\n",
       "    <tr style=\"text-align: right;\">\n",
       "      <th></th>\n",
       "      <th>platform</th>\n",
       "      <th>total_sales</th>\n",
       "    </tr>\n",
       "  </thead>\n",
       "  <tbody>\n",
       "    <tr>\n",
       "      <th>0</th>\n",
       "      <td>PS3</td>\n",
       "      <td>286.11</td>\n",
       "    </tr>\n",
       "    <tr>\n",
       "      <th>1</th>\n",
       "      <td>PS4</td>\n",
       "      <td>244.89</td>\n",
       "    </tr>\n",
       "    <tr>\n",
       "      <th>2</th>\n",
       "      <td>X360</td>\n",
       "      <td>236.00</td>\n",
       "    </tr>\n",
       "    <tr>\n",
       "      <th>3</th>\n",
       "      <td>3DS</td>\n",
       "      <td>179.87</td>\n",
       "    </tr>\n",
       "    <tr>\n",
       "      <th>4</th>\n",
       "      <td>XOne</td>\n",
       "      <td>133.17</td>\n",
       "    </tr>\n",
       "    <tr>\n",
       "      <th>5</th>\n",
       "      <td>WiiU</td>\n",
       "      <td>77.59</td>\n",
       "    </tr>\n",
       "    <tr>\n",
       "      <th>6</th>\n",
       "      <td>PC</td>\n",
       "      <td>57.91</td>\n",
       "    </tr>\n",
       "    <tr>\n",
       "      <th>7</th>\n",
       "      <td>PSV</td>\n",
       "      <td>44.93</td>\n",
       "    </tr>\n",
       "    <tr>\n",
       "      <th>8</th>\n",
       "      <td>Wii</td>\n",
       "      <td>36.42</td>\n",
       "    </tr>\n",
       "    <tr>\n",
       "      <th>9</th>\n",
       "      <td>DS</td>\n",
       "      <td>13.21</td>\n",
       "    </tr>\n",
       "    <tr>\n",
       "      <th>10</th>\n",
       "      <td>PSP</td>\n",
       "      <td>11.69</td>\n",
       "    </tr>\n",
       "  </tbody>\n",
       "</table>\n",
       "</div>"
      ],
      "text/plain": [
       "   platform  total_sales\n",
       "0       PS3       286.11\n",
       "1       PS4       244.89\n",
       "2      X360       236.00\n",
       "3       3DS       179.87\n",
       "4      XOne       133.17\n",
       "5      WiiU        77.59\n",
       "6        PC        57.91\n",
       "7       PSV        44.93\n",
       "8       Wii        36.42\n",
       "9        DS        13.21\n",
       "10      PSP        11.69"
      ]
     },
     "execution_count": 26,
     "metadata": {},
     "output_type": "execute_result"
    }
   ],
   "source": [
    "data_actual_platform_sale = data_actual.groupby(\n",
    "    'platform')['total_sales'].sum().sort_values(ascending = False)#.sort_values(ascending = False) удолить лишнюю команду\n",
    "\n",
    "data_actual_platform_sale = data_actual_platform_sale.reset_index()# <добавляем индексы к таблице>\n",
    "data_actual_platform_sale"
   ]
  },
  {
   "cell_type": "markdown",
   "metadata": {},
   "source": [
    "Теперь изучим динамику продаж игр по платформам."
   ]
  },
  {
   "cell_type": "code",
   "execution_count": 27,
   "metadata": {},
   "outputs": [
    {
     "data": {
      "text/plain": [
       "'PS3'"
      ]
     },
     "metadata": {},
     "output_type": "display_data"
    },
    {
     "data": {
      "image/png": "[encoded data removed]",
      "text/plain": [
       "<Figure size 864x360 with 1 Axes>"
      ]
     },
     "metadata": {
      "needs_background": "light"
     },
     "output_type": "display_data"
    },
    {
     "data": {
      "text/plain": [
       "'PS4'"
      ]
     },
     "metadata": {},
     "output_type": "display_data"
    },
    {
     "data": {
      "image/png": "[encoded data removed]",
      "text/plain": [
       "<Figure size 864x360 with 1 Axes>"
      ]
     },
     "metadata": {
      "needs_background": "light"
     },
     "output_type": "display_data"
    },
    {
     "data": {
      "text/plain": [
       "'X360'"
      ]
     },
     "metadata": {},
     "output_type": "display_data"
    },
    {
     "data": {
      "image/png": "[encoded data removed]",
      "text/plain": [
       "<Figure size 864x360 with 1 Axes>"
      ]
     },
     "metadata": {
      "needs_background": "light"
     },
     "output_type": "display_data"
    },
    {
     "data": {
      "text/plain": [
       "'3DS'"
      ]
     },
     "metadata": {},
     "output_type": "display_data"
    },
    {
     "data": {
      "image/png": "[encoded data removed]",
      "text/plain": [
       "<Figure size 864x360 with 1 Axes>"
      ]
     },
     "metadata": {
      "needs_background": "light"
     },
     "output_type": "display_data"
    },
    {
     "data": {
      "text/plain": [
       "'XOne'"
      ]
     },
     "metadata": {},
     "output_type": "display_data"
    },
    {
     "data": {
      "image/png": "[encoded data removed]",
      "text/plain": [
       "<Figure size 864x360 with 1 Axes>"
      ]
     },
     "metadata": {
      "needs_background": "light"
     },
     "output_type": "display_data"
    },
    {
     "data": {
      "text/plain": [
       "'WiiU'"
      ]
     },
     "metadata": {},
     "output_type": "display_data"
    },
    {
     "data": {
      "image/png": "[encoded data removed]",
      "text/plain": [
       "<Figure size 864x360 with 1 Axes>"
      ]
     },
     "metadata": {
      "needs_background": "light"
     },
     "output_type": "display_data"
    },
    {
     "data": {
      "text/plain": [
       "'PC'"
      ]
     },
     "metadata": {},
     "output_type": "display_data"
    },
    {
     "data": {
      "image/png": "[encoded data removed]",
      "text/plain": [
       "<Figure size 864x360 with 1 Axes>"
      ]
     },
     "metadata": {
      "needs_background": "light"
     },
     "output_type": "display_data"
    },
    {
     "data": {
      "text/plain": [
       "'PSV'"
      ]
     },
     "metadata": {},
     "output_type": "display_data"
    },
    {
     "data": {
      "image/png": "[encoded data removed]",
      "text/plain": [
       "<Figure size 864x360 with 1 Axes>"
      ]
     },
     "metadata": {
      "needs_background": "light"
     },
     "output_type": "display_data"
    },
    {
     "data": {
      "text/plain": [
       "'Wii'"
      ]
     },
     "metadata": {},
     "output_type": "display_data"
    },
    {
     "data": {
      "image/png": "[encoded data removed]",
      "text/plain": [
       "<Figure size 864x360 with 1 Axes>"
      ]
     },
     "metadata": {
      "needs_background": "light"
     },
     "output_type": "display_data"
    },
    {
     "data": {
      "text/plain": [
       "'DS'"
      ]
     },
     "metadata": {},
     "output_type": "display_data"
    },
    {
     "data": {
      "image/png": "[encoded data removed]",
      "text/plain": [
       "<Figure size 864x360 with 1 Axes>"
      ]
     },
     "metadata": {
      "needs_background": "light"
     },
     "output_type": "display_data"
    },
    {
     "data": {
      "text/plain": [
       "'PSP'"
      ]
     },
     "metadata": {},
     "output_type": "display_data"
    },
    {
     "data": {
      "image/png": "[encoded data removed]",
      "text/plain": [
       "<Figure size 864x360 with 1 Axes>"
      ]
     },
     "metadata": {
      "needs_background": "light"
     },
     "output_type": "display_data"
    }
   ],
   "source": [
    "platform_list_3 = data_actual_platform_sale.loc[0:10, 'platform'] \n",
    "for element_3 in platform_list_3:\n",
    "    display(element_3)\n",
    "    data_actual.query('platform == @element_3').pivot_table(index='year_of_release', values='total_sales', aggfunc='sum').plot(\n",
    "        grid=True, figsize=(12, 5))\n",
    "    plt.show() "
   ]
  },
  {
   "cell_type": "markdown",
   "metadata": {},
   "source": [
    "#### 4. Лидирующие платформы.\n",
    "Как видно из графиков , только две платформы демонстрируют рост на протяжении двух последних лет лет из актуального периода: PS4 и XOne. Займемся ими и изучим распределение продаж игр для каждой платформы с помощью \"ящика с усами\". \n",
    "\n",
    "<font color='crimson'>Но вот вопрос: а как же консоли Nintendo? И где же китайская армия игроков, поголовно сидящих на PC? Почему-то авторы датасета оставили эти платформы без должного внимания и они оказались за бортом исследуемых данных.</font>"
   ]
  },
  {
   "cell_type": "markdown",
   "metadata": {},
   "source": [
    "Начнем исследование с PS4. Построим \"ящик с усами\" и гистограмму продаж."
   ]
  },
  {
   "cell_type": "code",
   "execution_count": 28,
   "metadata": {},
   "outputs": [
    {
     "data": {
      "text/plain": [
       "count    228.000000\n",
       "mean       1.074079\n",
       "std        1.899788\n",
       "min        0.010000\n",
       "25%        0.097500\n",
       "50%        0.310000\n",
       "75%        1.105000\n",
       "max       14.630000\n",
       "Name: total_sales, dtype: float64"
      ]
     },
     "metadata": {},
     "output_type": "display_data"
    },
    {
     "data": {
      "text/html": [
       "<div>\n",
       "<style scoped>\n",
       "    .dataframe tbody tr th:only-of-type {\n",
       "        vertical-align: middle;\n",
       "    }\n",
       "\n",
       "    .dataframe tbody tr th {\n",
       "        vertical-align: top;\n",
       "    }\n",
       "\n",
       "    .dataframe thead th {\n",
       "        text-align: right;\n",
       "    }\n",
       "</style>\n",
       "<table border=\"1\" class=\"dataframe\">\n",
       "  <thead>\n",
       "    <tr style=\"text-align: right;\">\n",
       "      <th></th>\n",
       "      <th>name</th>\n",
       "      <th>platform</th>\n",
       "      <th>year_of_release</th>\n",
       "      <th>genre</th>\n",
       "      <th>na_sales</th>\n",
       "      <th>eu_sales</th>\n",
       "      <th>jp_sales</th>\n",
       "      <th>other_sales</th>\n",
       "      <th>critic_score</th>\n",
       "      <th>user_score</th>\n",
       "      <th>rating</th>\n",
       "      <th>user_score_1</th>\n",
       "      <th>total_sales</th>\n",
       "    </tr>\n",
       "  </thead>\n",
       "  <tbody>\n",
       "    <tr>\n",
       "      <th>2</th>\n",
       "      <td>Call of Duty: Black Ops 3</td>\n",
       "      <td>PS4</td>\n",
       "      <td>2015.0</td>\n",
       "      <td>Shooter</td>\n",
       "      <td>6.03</td>\n",
       "      <td>5.86</td>\n",
       "      <td>0.36</td>\n",
       "      <td>2.38</td>\n",
       "      <td>NaN</td>\n",
       "      <td>NaN</td>\n",
       "      <td>NaN</td>\n",
       "      <td>NaN</td>\n",
       "      <td>14.63</td>\n",
       "    </tr>\n",
       "    <tr>\n",
       "      <th>6</th>\n",
       "      <td>Grand Theft Auto V</td>\n",
       "      <td>PS4</td>\n",
       "      <td>2014.0</td>\n",
       "      <td>Action</td>\n",
       "      <td>3.96</td>\n",
       "      <td>6.31</td>\n",
       "      <td>0.38</td>\n",
       "      <td>1.97</td>\n",
       "      <td>97.0</td>\n",
       "      <td>8.3</td>\n",
       "      <td>M</td>\n",
       "      <td>8.3</td>\n",
       "      <td>12.62</td>\n",
       "    </tr>\n",
       "    <tr>\n",
       "      <th>14</th>\n",
       "      <td>FIFA 16</td>\n",
       "      <td>PS4</td>\n",
       "      <td>2015.0</td>\n",
       "      <td>Sports</td>\n",
       "      <td>1.12</td>\n",
       "      <td>6.12</td>\n",
       "      <td>0.06</td>\n",
       "      <td>1.28</td>\n",
       "      <td>82.0</td>\n",
       "      <td>4.3</td>\n",
       "      <td>E</td>\n",
       "      <td>4.3</td>\n",
       "      <td>8.58</td>\n",
       "    </tr>\n",
       "    <tr>\n",
       "      <th>17</th>\n",
       "      <td>Star Wars Battlefront (2015)</td>\n",
       "      <td>PS4</td>\n",
       "      <td>2015.0</td>\n",
       "      <td>Shooter</td>\n",
       "      <td>2.99</td>\n",
       "      <td>3.49</td>\n",
       "      <td>0.22</td>\n",
       "      <td>1.28</td>\n",
       "      <td>NaN</td>\n",
       "      <td>NaN</td>\n",
       "      <td>NaN</td>\n",
       "      <td>NaN</td>\n",
       "      <td>7.98</td>\n",
       "    </tr>\n",
       "    <tr>\n",
       "      <th>18</th>\n",
       "      <td>Call of Duty: Advanced Warfare</td>\n",
       "      <td>PS4</td>\n",
       "      <td>2014.0</td>\n",
       "      <td>Shooter</td>\n",
       "      <td>2.81</td>\n",
       "      <td>3.48</td>\n",
       "      <td>0.14</td>\n",
       "      <td>1.23</td>\n",
       "      <td>83.0</td>\n",
       "      <td>5.7</td>\n",
       "      <td>M</td>\n",
       "      <td>5.7</td>\n",
       "      <td>7.66</td>\n",
       "    </tr>\n",
       "  </tbody>\n",
       "</table>\n",
       "</div>"
      ],
      "text/plain": [
       "                              name platform  year_of_release    genre  \\\n",
       "2        Call of Duty: Black Ops 3      PS4           2015.0  Shooter   \n",
       "6               Grand Theft Auto V      PS4           2014.0   Action   \n",
       "14                         FIFA 16      PS4           2015.0   Sports   \n",
       "17    Star Wars Battlefront (2015)      PS4           2015.0  Shooter   \n",
       "18  Call of Duty: Advanced Warfare      PS4           2014.0  Shooter   \n",
       "\n",
       "    na_sales  eu_sales  jp_sales  other_sales  critic_score user_score rating  \\\n",
       "2       6.03      5.86      0.36         2.38           NaN        NaN    NaN   \n",
       "6       3.96      6.31      0.38         1.97          97.0        8.3      M   \n",
       "14      1.12      6.12      0.06         1.28          82.0        4.3      E   \n",
       "17      2.99      3.49      0.22         1.28           NaN        NaN    NaN   \n",
       "18      2.81      3.48      0.14         1.23          83.0        5.7      M   \n",
       "\n",
       "    user_score_1  total_sales  \n",
       "2            NaN        14.63  \n",
       "6            8.3        12.62  \n",
       "14           4.3         8.58  \n",
       "17           NaN         7.98  \n",
       "18           5.7         7.66  "
      ]
     },
     "execution_count": 28,
     "metadata": {},
     "output_type": "execute_result"
    }
   ],
   "source": [
    "data_actual_ps4 = data_actual.query('platform == \"PS4\"').sort_values(by='total_sales', ascending=False)\n",
    "display(data_actual_ps4['total_sales'].describe())\n",
    "data_actual_ps4.head()"
   ]
  },
  {
   "cell_type": "code",
   "execution_count": 29,
   "metadata": {},
   "outputs": [
    {
     "data": {
      "text/plain": [
       "(0.0, 14.7)"
      ]
     },
     "execution_count": 29,
     "metadata": {},
     "output_type": "execute_result"
    },
    {
     "data": {
      "image/png": "[encoded data removed]",
      "text/plain": [
       "<Figure size 432x288 with 1 Axes>"
      ]
     },
     "metadata": {
      "needs_background": "light"
     },
     "output_type": "display_data"
    }
   ],
   "source": [
    "data_actual_ps4.boxplot('total_sales')\n",
    "plt.ylim(0, 14.7)"
   ]
  },
  {
   "cell_type": "code",
   "execution_count": 30,
   "metadata": {},
   "outputs": [
    {
     "data": {
      "text/plain": [
       "<matplotlib.axes._subplots.AxesSubplot at 0xaf79a00>"
      ]
     },
     "execution_count": 30,
     "metadata": {},
     "output_type": "execute_result"
    },
    {
     "data": {
      "image/png": "[encoded data removed]",
      "text/plain": [
       "<Figure size 864x360 with 1 Axes>"
      ]
     },
     "metadata": {
      "needs_background": "light"
     },
     "output_type": "display_data"
    }
   ],
   "source": [
    "data_actual_ps4['total_sales'].hist(bins=20, range=(0, 15), figsize=(12, 5))"
   ]
  },
  {
   "cell_type": "markdown",
   "metadata": {},
   "source": [
    "\"Ящик с усами\" и гистограмма указывают на длинный хвост в области больших значений. \n",
    "\n",
    "Перейдем к платформе XOne."
   ]
  },
  {
   "cell_type": "code",
   "execution_count": 33,
   "metadata": {},
   "outputs": [
    {
     "data": {
      "text/plain": [
       "count    160.000000\n",
       "mean       0.832312\n",
       "std        1.182243\n",
       "min        0.010000\n",
       "25%        0.130000\n",
       "50%        0.350000\n",
       "75%        1.137500\n",
       "max        7.390000\n",
       "Name: total_sales, dtype: float64"
      ]
     },
     "execution_count": 33,
     "metadata": {},
     "output_type": "execute_result"
    }
   ],
   "source": [
    "data_actual_xone = data_actual.query('platform == \"XOne\"')\n",
    "data_actual_xone['total_sales'].describe()"
   ]
  },
  {
   "cell_type": "code",
   "execution_count": 34,
   "metadata": {},
   "outputs": [
    {
     "data": {
      "text/plain": [
       "(0.0, 7.4)"
      ]
     },
     "execution_count": 34,
     "metadata": {},
     "output_type": "execute_result"
    },
    {
     "data": {
      "image/png": "[encoded data removed]",
      "text/plain": [
       "<Figure size 432x288 with 1 Axes>"
      ]
     },
     "metadata": {
      "needs_background": "light"
     },
     "output_type": "display_data"
    }
   ],
   "source": [
    "data_actual_xone.boxplot('total_sales')\n",
    "plt.ylim(0, 7.4)"
   ]
  },
  {
   "cell_type": "code",
   "execution_count": 35,
   "metadata": {},
   "outputs": [
    {
     "data": {
      "text/plain": [
       "<matplotlib.axes._subplots.AxesSubplot at 0xb45fb20>"
      ]
     },
     "execution_count": 35,
     "metadata": {},
     "output_type": "execute_result"
    },
    {
     "data": {
      "image/png": "[encoded data removed]",
      "text/plain": [
       "<Figure size 864x360 with 1 Axes>"
      ]
     },
     "metadata": {
      "needs_background": "light"
     },
     "output_type": "display_data"
    }
   ],
   "source": [
    "data_actual_xone['total_sales'].hist(bins=20, range=(0, 15), figsize=(12, 5))"
   ]
  },
  {
   "cell_type": "markdown",
   "metadata": {},
   "source": [
    "Мы получили очень похожие картины. Стоит обратить внимание на то, что для обеих платформ среднее значение в 2.5-3 раза больше медианы. Это говорит о том, что в распределении длинный хвост больших значений или несколько очень больших значений. Другими словами есть совсем немного игр, приносящих значительный доход. Это своего рода блокбастеры игровой индустрии, а основная  масса игр приносит не слишком большой доход. Зато таких игр много и каждый год появляется еще больше и любой геймер может выбрать новую игру по своему вкусу. "
   ]
  },
  {
   "cell_type": "markdown",
   "metadata": {},
   "source": [
    "#### 5. Продажи и рейтинги. \n",
    "Поcмотрим есть ли какая-то зависимость между продажами и рейтингами пользователей и критиков. Для этого построим диаграммы рассеяния."
   ]
  },
  {
   "cell_type": "markdown",
   "metadata": {},
   "source": [
    "Построим диаграмму рассеяния для рейтингов пользователей платформы PS4."
   ]
  },
  {
   "cell_type": "code",
   "execution_count": 36,
   "metadata": {},
   "outputs": [
    {
     "data": {
      "text/plain": [
       "<matplotlib.axes._subplots.AxesSubplot at 0xaf86700>"
      ]
     },
     "execution_count": 36,
     "metadata": {},
     "output_type": "execute_result"
    },
    {
     "data": {
      "image/png": "[encoded data removed]",
      "text/plain": [
       "<Figure size 720x288 with 1 Axes>"
      ]
     },
     "metadata": {
      "needs_background": "light"
     },
     "output_type": "display_data"
    }
   ],
   "source": [
    "data_actual_ps4.plot(x='user_score_1', y='total_sales', figsize=(10, 4), kind='scatter')"
   ]
  },
  {
   "cell_type": "markdown",
   "metadata": {},
   "source": [
    "Вычмслим коэффициент корреляции Пирсона."
   ]
  },
  {
   "cell_type": "code",
   "execution_count": 37,
   "metadata": {},
   "outputs": [
    {
     "data": {
      "text/plain": [
       "0.02423083236062255"
      ]
     },
     "execution_count": 37,
     "metadata": {},
     "output_type": "execute_result"
    }
   ],
   "source": [
    "data_actual_ps4['user_score_1'].corr(data_actual_ps4['total_sales'])"
   ]
  },
  {
   "cell_type": "markdown",
   "metadata": {},
   "source": [
    "Явной зависимости не наблюдается и корреляция так себе.\n",
    "\n",
    "*Попробуем использовать очищенные данные.*"
   ]
  },
  {
   "cell_type": "code",
   "execution_count": 38,
   "metadata": {},
   "outputs": [
    {
     "data": {
      "text/plain": [
       "count    156.000000\n",
       "mean       6.666667\n",
       "std        1.449242\n",
       "min        1.500000\n",
       "25%        6.100000\n",
       "50%        6.950000\n",
       "75%        7.700000\n",
       "max        9.200000\n",
       "Name: user_score_1, dtype: float64"
      ]
     },
     "execution_count": 38,
     "metadata": {},
     "output_type": "execute_result"
    }
   ],
   "source": [
    "data_actual_ps4['user_score_1'].describe()"
   ]
  },
  {
   "cell_type": "code",
   "execution_count": 39,
   "metadata": {},
   "outputs": [
    {
     "data": {
      "text/plain": [
       "<matplotlib.axes._subplots.AxesSubplot at 0xb54ce80>"
      ]
     },
     "execution_count": 39,
     "metadata": {},
     "output_type": "execute_result"
    },
    {
     "data": {
      "image/png": "[encoded data removed]",
      "text/plain": [
       "<Figure size 432x288 with 1 Axes>"
      ]
     },
     "metadata": {
      "needs_background": "light"
     },
     "output_type": "display_data"
    }
   ],
   "source": [
    "data_actual_ps4.boxplot('user_score_1')"
   ]
  },
  {
   "cell_type": "code",
   "execution_count": 40,
   "metadata": {},
   "outputs": [],
   "source": [
    "data_actual_ps4_sales_cl = data_actual_ps4.query('total_sales <= 5')\n",
    "data_actual_ps4_sales_cl\n",
    "data_actual_ps4_sales_cl = data_actual_ps4.query('4 < user_score_1')"
   ]
  },
  {
   "cell_type": "code",
   "execution_count": 41,
   "metadata": {},
   "outputs": [
    {
     "data": {
      "text/plain": [
       "<matplotlib.axes._subplots.AxesSubplot at 0xab06790>"
      ]
     },
     "execution_count": 41,
     "metadata": {},
     "output_type": "execute_result"
    },
    {
     "data": {
      "image/png": "[encoded data removed]",
      "text/plain": [
       "<Figure size 720x288 with 1 Axes>"
      ]
     },
     "metadata": {
      "needs_background": "light"
     },
     "output_type": "display_data"
    }
   ],
   "source": [
    "data_actual_ps4_sales_cl.plot(x='user_score_1', y='total_sales', figsize=(10, 4), kind='scatter')"
   ]
  },
  {
   "cell_type": "code",
   "execution_count": 42,
   "metadata": {},
   "outputs": [
    {
     "data": {
      "text/plain": [
       "-0.0797359770172089"
      ]
     },
     "execution_count": 42,
     "metadata": {},
     "output_type": "execute_result"
    }
   ],
   "source": [
    "data_actual_ps4_sales_cl['user_score_1'].corr(data_actual_ps4_sales_cl['total_sales'])#=-0.0797359770172089"
   ]
  },
  {
   "cell_type": "markdown",
   "metadata": {},
   "source": [
    "*Фокус не удался :(, хотя корреляция и выросла в три раза, но не на порядок.* "
   ]
  },
  {
   "cell_type": "markdown",
   "metadata": {},
   "source": [
    "Попробуем тогда восстановить рейтинг пользователей."
   ]
  },
  {
   "cell_type": "code",
   "execution_count": 43,
   "metadata": {},
   "outputs": [
    {
     "data": {
      "text/plain": [
       "228"
      ]
     },
     "metadata": {},
     "output_type": "display_data"
    },
    {
     "data": {
      "text/plain": [
       "0.02715755973483791"
      ]
     },
     "execution_count": 43,
     "metadata": {},
     "output_type": "execute_result"
    },
    {
     "data": {
      "image/png": "[encoded data removed]",
      "text/plain": [
       "<Figure size 720x288 with 1 Axes>"
      ]
     },
     "metadata": {
      "needs_background": "light"
     },
     "output_type": "display_data"
    }
   ],
   "source": [
    "data_actual['user_score_1'].isna().sum()# =1119\n",
    "\n",
    "display(len(data_actual_ps4['user_score_1']))# = 228\n",
    "data_actual_ps4['user_score_1'].isna().sum()# = 72\n",
    "\n",
    "#Заменим пропуски на медианы там, где есть рейтинги игр на других платформах\n",
    "for name in data_actual['name'].unique():\n",
    "    median = data_actual.loc[data_actual['name'] == name, 'user_score_1'].median()\n",
    "    data_actual.loc[(data_actual['user_score_1'].isna()) & (data_actual['name'] == name), 'user_score_1'] = median\n",
    "data_actual['user_score_1'].isna().sum()# = 980 итого получилось 140 замен, чуть больше 10%\n",
    "\n",
    "data_actual_ps4 = data_actual.query('platform == \"PS4\"')# заново собираем датасет\n",
    "\n",
    "data_actual_ps4['user_score_1'].isna().sum()# =52 здесь здесь также получилось 20 замен, те же 10%\n",
    "\n",
    "# строим диаграмму\n",
    "data_actual_ps4.plot(x='user_score_1', y='total_sales', figsize=(10, 4), kind='scatter')\n",
    "#кардинально картина не изменилась\n",
    "\n",
    "# ищем корреляцию\n",
    "data_actual_ps4['user_score_1'].corr(data_actual_ps4['total_sales'])# = 0.027157559734837917 "
   ]
  },
  {
   "cell_type": "markdown",
   "metadata": {},
   "source": [
    "*Кардинально картина не изменилась, корреляция выросла всего лишь в третьем знаке. Все-таки, похоже, что рейтинг пользователей не особо влияет на продажи.*"
   ]
  },
  {
   "cell_type": "markdown",
   "metadata": {},
   "source": [
    "А как обстоит дело с рейтингом критиков?"
   ]
  },
  {
   "cell_type": "code",
   "execution_count": 44,
   "metadata": {},
   "outputs": [
    {
     "data": {
      "text/plain": [
       "0.43184820499820054"
      ]
     },
     "execution_count": 44,
     "metadata": {},
     "output_type": "execute_result"
    },
    {
     "data": {
      "image/png": "[encoded data removed]",
      "text/plain": [
       "<Figure size 720x288 with 1 Axes>"
      ]
     },
     "metadata": {
      "needs_background": "light"
     },
     "output_type": "display_data"
    }
   ],
   "source": [
    "data_actual_ps4.plot(x='critic_score', y='total_sales', figsize=(10, 4), kind='scatter')\n",
    "data_actual_ps4['critic_score'].corr(data_actual_ps4['total_sales'])"
   ]
  },
  {
   "cell_type": "markdown",
   "metadata": {},
   "source": [
    "Очевидно, что пользователи больше доверяют рейтингу критиков и это оказывает влияние их на решение. Любопытства ради суммируем оба рейтинга и построим новую диаграмму."
   ]
  },
  {
   "cell_type": "code",
   "execution_count": 45,
   "metadata": {
    "collapsed": true
   },
   "outputs": [
    {
     "name": "stderr",
     "output_type": "stream",
     "text": [
      "<ipython-input-45-142d51a87a42>:1: SettingWithCopyWarning: \n",
      "A value is trying to be set on a copy of a slice from a DataFrame.\n",
      "Try using .loc[row_indexer,col_indexer] = value instead\n",
      "\n",
      "See the caveats in the documentation: https://pandas.pydata.org/pandas-docs/stable/user_guide/indexing.html#returning-a-view-versus-a-copy\n",
      "  data_actual_ps4['total_score'] = data_actual_ps4['user_score_1'] + (data_actual_ps4['critic_score'] / 10)\n"
     ]
    }
   ],
   "source": [
    "data_actual_ps4['total_score'] = data_actual_ps4['user_score_1'] + (data_actual_ps4['critic_score'] / 10)\n",
    "#data_actual_ps4.head(300)"
   ]
  },
  {
   "cell_type": "code",
   "execution_count": 46,
   "metadata": {},
   "outputs": [
    {
     "data": {
      "text/plain": [
       "<matplotlib.axes._subplots.AxesSubplot at 0x973a040>"
      ]
     },
     "execution_count": 46,
     "metadata": {},
     "output_type": "execute_result"
    },
    {
     "data": {
      "image/png": "[encoded data removed]",
      "text/plain": [
       "<Figure size 720x288 with 1 Axes>"
      ]
     },
     "metadata": {
      "needs_background": "light"
     },
     "output_type": "display_data"
    }
   ],
   "source": [
    "data_actual_ps4.plot(x='total_score', y='total_sales', figsize=(10, 4), kind='scatter')"
   ]
  },
  {
   "cell_type": "markdown",
   "metadata": {},
   "source": [
    "Нельзя сказать, что диаграмма рассеяния, построенная для суммы рейтингов, значительно отличается от двух предыдущих."
   ]
  },
  {
   "cell_type": "markdown",
   "metadata": {},
   "source": [
    "#### 6. Продажи и рейтинги (продолжение).\n",
    "Проведем те же исследования для платформы XOne."
   ]
  },
  {
   "cell_type": "code",
   "execution_count": 47,
   "metadata": {},
   "outputs": [
    {
     "data": {
      "text/plain": [
       "-0.03926828544552199"
      ]
     },
     "execution_count": 47,
     "metadata": {},
     "output_type": "execute_result"
    },
    {
     "data": {
      "image/png": "[encoded data removed]",
      "text/plain": [
       "<Figure size 720x288 with 1 Axes>"
      ]
     },
     "metadata": {
      "needs_background": "light"
     },
     "output_type": "display_data"
    }
   ],
   "source": [
    "data_actual_xone.plot(x='user_score_1', y='total_sales', figsize=(10, 4), kind='scatter')\n",
    "data_actual_xone['user_score_1'].corr(data_actual_xone['total_sales'])"
   ]
  },
  {
   "cell_type": "code",
   "execution_count": 48,
   "metadata": {},
   "outputs": [
    {
     "data": {
      "text/plain": [
       "0.45938456807071054"
      ]
     },
     "execution_count": 48,
     "metadata": {},
     "output_type": "execute_result"
    },
    {
     "data": {
      "image/png": "[encoded data removed]",
      "text/plain": [
       "<Figure size 720x288 with 1 Axes>"
      ]
     },
     "metadata": {
      "needs_background": "light"
     },
     "output_type": "display_data"
    }
   ],
   "source": [
    "data_actual_xone.plot(x='critic_score', y='total_sales', figsize=(10, 4), kind='scatter')\n",
    "data_actual_xone['critic_score'].corr(data_actual_xone['total_sales'])"
   ]
  },
  {
   "cell_type": "code",
   "execution_count": 49,
   "metadata": {
    "collapsed": true
   },
   "outputs": [
    {
     "name": "stderr",
     "output_type": "stream",
     "text": [
      "<ipython-input-49-2f55d6aabcfb>:1: SettingWithCopyWarning: \n",
      "A value is trying to be set on a copy of a slice from a DataFrame.\n",
      "Try using .loc[row_indexer,col_indexer] = value instead\n",
      "\n",
      "See the caveats in the documentation: https://pandas.pydata.org/pandas-docs/stable/user_guide/indexing.html#returning-a-view-versus-a-copy\n",
      "  data_actual_xone['total_score'] = data_actual_xone['user_score_1'] + data_actual_xone['critic_score']/10\n"
     ]
    }
   ],
   "source": [
    "data_actual_xone['total_score'] = data_actual_xone['user_score_1'] + data_actual_xone['critic_score']/10"
   ]
  },
  {
   "cell_type": "code",
   "execution_count": 50,
   "metadata": {},
   "outputs": [
    {
     "data": {
      "text/plain": [
       "<matplotlib.axes._subplots.AxesSubplot at 0xb56edf0>"
      ]
     },
     "execution_count": 50,
     "metadata": {},
     "output_type": "execute_result"
    },
    {
     "data": {
      "image/png": "[encoded data removed]",
      "text/plain": [
       "<Figure size 720x288 with 1 Axes>"
      ]
     },
     "metadata": {
      "needs_background": "light"
     },
     "output_type": "display_data"
    }
   ],
   "source": [
    "data_actual_xone.plot(x='total_score', y='total_sales', figsize=(10, 4), kind='scatter')"
   ]
  },
  {
   "cell_type": "markdown",
   "metadata": {},
   "source": [
    "Получаем похожую картину для суммы рейтингов платформы XOne, что, в общем-то не удивительно. "
   ]
  },
  {
   "cell_type": "markdown",
   "metadata": {},
   "source": [
    "#### 7. Продажи и рейтинги (заключение).\n",
    "\n",
    "Настало время подсчитать корреляцию продаж с рейтингами пользователей, критиков и суммой этих рейтингов."
   ]
  },
  {
   "cell_type": "code",
   "execution_count": 51,
   "metadata": {},
   "outputs": [
    {
     "data": {
      "text/plain": [
       "0.02715755973483791"
      ]
     },
     "metadata": {},
     "output_type": "display_data"
    },
    {
     "data": {
      "text/plain": [
       "0.43184820499820054"
      ]
     },
     "metadata": {},
     "output_type": "display_data"
    },
    {
     "data": {
      "text/plain": [
       "0.23579453374514203"
      ]
     },
     "execution_count": 51,
     "metadata": {},
     "output_type": "execute_result"
    }
   ],
   "source": [
    "#Платформа PS4.\n",
    "display(data_actual_ps4['user_score_1'].corr(data_actual_ps4['total_sales']))\n",
    "display(data_actual_ps4['critic_score'].corr(data_actual_ps4['total_sales']))\n",
    "data_actual_ps4['total_score'].corr(data_actual_ps4['total_sales'])"
   ]
  },
  {
   "cell_type": "code",
   "execution_count": 52,
   "metadata": {},
   "outputs": [
    {
     "data": {
      "text/plain": [
       "-0.03926828544552199"
      ]
     },
     "metadata": {},
     "output_type": "display_data"
    },
    {
     "data": {
      "text/plain": [
       "0.45938456807071054"
      ]
     },
     "metadata": {},
     "output_type": "display_data"
    },
    {
     "data": {
      "text/plain": [
       "0.2355976881236628"
      ]
     },
     "execution_count": 52,
     "metadata": {},
     "output_type": "execute_result"
    }
   ],
   "source": [
    "#Платфлорма XOne.\n",
    "display(data_actual_xone['user_score_1'].corr(data_actual_xone['total_sales']))\n",
    "display(data_actual_xone['critic_score'].corr(data_actual_xone['total_sales']))\n",
    "data_actual_xone['total_score'].corr(data_actual_xone['total_sales'])"
   ]
  },
  {
   "cell_type": "markdown",
   "metadata": {},
   "source": [
    "#### <font color='purple'>4-ый промежуточный вывод.</font>\n",
    "Кажется, критики имеют большее влияние, чем рейтинги пользователей, хотя сильной зависимости мы все-таки не наблюдаем. С одной стороны, сколько игроков, столько и мнений. А с другой, критики - профи, ответственно относящиеся к своей работе и, значит, их мнение представляет большую ценность. Хотя, и они далеко не всегда определят выбор игроков.\n",
    "А вот сумма рейтингов нам никак не помогла, к сожалению. "
   ]
  },
  {
   "cell_type": "markdown",
   "metadata": {},
   "source": [
    "#### 8. Жанры.\n",
    "Пришло время разобраться с жанрами и выяснить какие из них приносят наибольший доход. Для начала оценим популярность жанров по данным всего датасета."
   ]
  },
  {
   "cell_type": "code",
   "execution_count": 53,
   "metadata": {},
   "outputs": [
    {
     "data": {
      "text/plain": [
       "Action          3369\n",
       "Sports          2348\n",
       "Misc            1750\n",
       "Role-Playing    1498\n",
       "Shooter         1323\n",
       "Adventure       1303\n",
       "Racing          1249\n",
       "Platform         888\n",
       "Simulation       873\n",
       "Fighting         849\n",
       "Strategy         683\n",
       "Puzzle           580\n",
       "Name: genre, dtype: int64"
      ]
     },
     "execution_count": 53,
     "metadata": {},
     "output_type": "execute_result"
    }
   ],
   "source": [
    "data['genre'].value_counts()"
   ]
  },
  {
   "cell_type": "markdown",
   "metadata": {},
   "source": [
    "Сравним этот список с лидерами актуального периода."
   ]
  },
  {
   "cell_type": "code",
   "execution_count": 54,
   "metadata": {},
   "outputs": [
    {
     "data": {
      "text/plain": [
       "Action          862\n",
       "Role-Playing    316\n",
       "Adventure       246\n",
       "Sports          220\n",
       "Shooter         190\n",
       "Misc            161\n",
       "Fighting         93\n",
       "Racing           91\n",
       "Platform         70\n",
       "Simulation       62\n",
       "Strategy         58\n",
       "Puzzle           27\n",
       "Name: genre, dtype: int64"
      ]
     },
     "execution_count": 54,
     "metadata": {},
     "output_type": "execute_result"
    }
   ],
   "source": [
    "data_actual['genre'].value_counts()"
   ]
  },
  {
   "cell_type": "markdown",
   "metadata": {},
   "source": [
    "Состав лидерующей шестерки не изменился, но в актуальном периоде только *Action* сохранил за собой первое место."
   ]
  },
  {
   "cell_type": "markdown",
   "metadata": {},
   "source": [
    "Посмотрим теперь на доходность жанров."
   ]
  },
  {
   "cell_type": "code",
   "execution_count": 55,
   "metadata": {},
   "outputs": [
    {
     "data": {
      "text/plain": [
       "genre\n",
       "Action          415.95\n",
       "Shooter         266.53\n",
       "Role-Playing    174.62\n",
       "Sports          157.58\n",
       "Misc             82.68\n",
       "Platform         57.77\n",
       "Racing           50.71\n",
       "Fighting         40.02\n",
       "Simulation       33.23\n",
       "Adventure        25.61\n",
       "Strategy         12.21\n",
       "Puzzle            4.88\n",
       "Name: total_sales, dtype: float64"
      ]
     },
     "execution_count": 55,
     "metadata": {},
     "output_type": "execute_result"
    }
   ],
   "source": [
    "data_actual_genre_sale = data_actual.groupby(\n",
    "    'genre')['total_sales'].sum().sort_values(ascending = False).sort_values(ascending = False)\n",
    "data_actual_genre_sale"
   ]
  },
  {
   "cell_type": "markdown",
   "metadata": {},
   "source": [
    "А вот это уже интересно: оказывается многочисленные клоны игр жанра **Adventure** приносят своим разработчикам не так много денег, как меньшие по численности игры жанров *Misc* и *Platform*. Зато повсеместно лидирующий жанр *Action* с большим отрывом опережает следующую за ним тройку жанров.\n",
    "\n",
    "Характерно, что все лидирующие жанры так или иначе относятся к жанру *Action* либо содержат его элементы."
   ]
  },
  {
   "cell_type": "markdown",
   "metadata": {},
   "source": [
    "### Часть 4.  Портрет пользователя.\n",
    "На основе имеющихся данных попытаемся выявить предпочтения игроков из разных регионов мира. "
   ]
  },
  {
   "cell_type": "markdown",
   "metadata": {},
   "source": [
    "Посмотрим, как выглядит популярность платформ в датасете за актуальный период. "
   ]
  },
  {
   "cell_type": "code",
   "execution_count": 56,
   "metadata": {},
   "outputs": [
    {
     "data": {
      "text/html": [
       "<div>\n",
       "<style scoped>\n",
       "    .dataframe tbody tr th:only-of-type {\n",
       "        vertical-align: middle;\n",
       "    }\n",
       "\n",
       "    .dataframe tbody tr th {\n",
       "        vertical-align: top;\n",
       "    }\n",
       "\n",
       "    .dataframe thead th {\n",
       "        text-align: right;\n",
       "    }\n",
       "</style>\n",
       "<table border=\"1\" class=\"dataframe\">\n",
       "  <thead>\n",
       "    <tr style=\"text-align: right;\">\n",
       "      <th></th>\n",
       "      <th>eu_sales</th>\n",
       "      <th>jp_sales</th>\n",
       "      <th>na_sales</th>\n",
       "    </tr>\n",
       "    <tr>\n",
       "      <th>platform</th>\n",
       "      <th></th>\n",
       "      <th></th>\n",
       "      <th></th>\n",
       "    </tr>\n",
       "  </thead>\n",
       "  <tbody>\n",
       "    <tr>\n",
       "      <th>3DS</th>\n",
       "      <td>40.50</td>\n",
       "      <td>79.76</td>\n",
       "      <td>51.35</td>\n",
       "    </tr>\n",
       "    <tr>\n",
       "      <th>DS</th>\n",
       "      <td>3.78</td>\n",
       "      <td>3.72</td>\n",
       "      <td>4.93</td>\n",
       "    </tr>\n",
       "    <tr>\n",
       "      <th>PC</th>\n",
       "      <td>34.60</td>\n",
       "      <td>0.00</td>\n",
       "      <td>17.84</td>\n",
       "    </tr>\n",
       "    <tr>\n",
       "      <th>PS3</th>\n",
       "      <td>106.01</td>\n",
       "      <td>33.99</td>\n",
       "      <td>103.07</td>\n",
       "    </tr>\n",
       "    <tr>\n",
       "      <th>PS4</th>\n",
       "      <td>109.31</td>\n",
       "      <td>10.22</td>\n",
       "      <td>87.25</td>\n",
       "    </tr>\n",
       "    <tr>\n",
       "      <th>PSP</th>\n",
       "      <td>0.52</td>\n",
       "      <td>10.71</td>\n",
       "      <td>0.23</td>\n",
       "    </tr>\n",
       "    <tr>\n",
       "      <th>PSV</th>\n",
       "      <td>10.97</td>\n",
       "      <td>17.48</td>\n",
       "      <td>10.83</td>\n",
       "    </tr>\n",
       "    <tr>\n",
       "      <th>Wii</th>\n",
       "      <td>12.23</td>\n",
       "      <td>3.39</td>\n",
       "      <td>18.08</td>\n",
       "    </tr>\n",
       "    <tr>\n",
       "      <th>WiiU</th>\n",
       "      <td>23.65</td>\n",
       "      <td>12.34</td>\n",
       "      <td>36.00</td>\n",
       "    </tr>\n",
       "    <tr>\n",
       "      <th>X360</th>\n",
       "      <td>74.18</td>\n",
       "      <td>1.57</td>\n",
       "      <td>139.88</td>\n",
       "    </tr>\n",
       "    <tr>\n",
       "      <th>XOne</th>\n",
       "      <td>41.96</td>\n",
       "      <td>0.33</td>\n",
       "      <td>78.85</td>\n",
       "    </tr>\n",
       "  </tbody>\n",
       "</table>\n",
       "</div>"
      ],
      "text/plain": [
       "          eu_sales  jp_sales  na_sales\n",
       "platform                              \n",
       "3DS          40.50     79.76     51.35\n",
       "DS            3.78      3.72      4.93\n",
       "PC           34.60      0.00     17.84\n",
       "PS3         106.01     33.99    103.07\n",
       "PS4         109.31     10.22     87.25\n",
       "PSP           0.52     10.71      0.23\n",
       "PSV          10.97     17.48     10.83\n",
       "Wii          12.23      3.39     18.08\n",
       "WiiU         23.65     12.34     36.00\n",
       "X360         74.18      1.57    139.88\n",
       "XOne         41.96      0.33     78.85"
      ]
     },
     "execution_count": 56,
     "metadata": {},
     "output_type": "execute_result"
    }
   ],
   "source": [
    "data_actual_platform_region_sale = data_actual.pivot_table(\n",
    "    index = 'platform', values = ['na_sales', 'eu_sales', 'jp_sales'], aggfunc = 'sum')\n",
    "data_actual_platform_region_sale"
   ]
  },
  {
   "cell_type": "markdown",
   "metadata": {},
   "source": [
    "Начнем с предпочтений игроков в Северной Америке."
   ]
  },
  {
   "cell_type": "code",
   "execution_count": 57,
   "metadata": {},
   "outputs": [
    {
     "data": {
      "text/plain": [
       "platform\n",
       "X360    139.88\n",
       "PS3     103.07\n",
       "PS4      87.25\n",
       "XOne     78.85\n",
       "3DS      51.35\n",
       "Name: na_sales, dtype: float64"
      ]
     },
     "execution_count": 57,
     "metadata": {},
     "output_type": "execute_result"
    }
   ],
   "source": [
    "data_actual.groupby(\n",
    "    'platform')['na_sales'].sum().sort_values(ascending = False).head(5)#.sort_values(ascending = False)"
   ]
  },
  {
   "cell_type": "code",
   "execution_count": 58,
   "metadata": {},
   "outputs": [
    {
     "data": {
      "text/plain": [
       "genre\n",
       "Action          170.80\n",
       "Shooter         128.55\n",
       "Sports           73.99\n",
       "Role-Playing     58.11\n",
       "Misc             37.43\n",
       "Name: na_sales, dtype: float64"
      ]
     },
     "execution_count": 58,
     "metadata": {},
     "output_type": "execute_result"
    }
   ],
   "source": [
    "data_actual.groupby(\n",
    "    'genre')['na_sales'].sum().sort_values(ascending = False).head(5)#.sort_values(ascending = False)"
   ]
  },
  {
   "cell_type": "code",
   "execution_count": 59,
   "metadata": {},
   "outputs": [
    {
     "data": {
      "text/plain": [
       "0.3013475069819774"
      ]
     },
     "execution_count": 59,
     "metadata": {},
     "output_type": "execute_result"
    }
   ],
   "source": [
    "data_actual['na_sales'].corr(data_actual['critic_score'])"
   ]
  },
  {
   "cell_type": "markdown",
   "metadata": {},
   "source": [
    "Разберем теперь поведение игроков в Европе."
   ]
  },
  {
   "cell_type": "code",
   "execution_count": 60,
   "metadata": {},
   "outputs": [
    {
     "data": {
      "text/plain": [
       "platform\n",
       "PS4     109.31\n",
       "PS3     106.01\n",
       "X360     74.18\n",
       "XOne     41.96\n",
       "3DS      40.50\n",
       "Name: eu_sales, dtype: float64"
      ]
     },
     "execution_count": 60,
     "metadata": {},
     "output_type": "execute_result"
    }
   ],
   "source": [
    "data_actual.groupby(\n",
    "    'platform')['eu_sales'].sum().sort_values(ascending = False).head(5)#.sort_values(ascending = False)"
   ]
  },
  {
   "cell_type": "code",
   "execution_count": 61,
   "metadata": {},
   "outputs": [
    {
     "data": {
      "text/plain": [
       "genre\n",
       "Action          150.77\n",
       "Shooter          97.57\n",
       "Sports           57.08\n",
       "Role-Playing     44.25\n",
       "Misc             25.66\n",
       "Name: eu_sales, dtype: float64"
      ]
     },
     "execution_count": 61,
     "metadata": {},
     "output_type": "execute_result"
    }
   ],
   "source": [
    "data_actual.groupby(\n",
    "    'genre')['eu_sales'].sum().sort_values(ascending = False).head(5)#.sort_values(ascending = False)"
   ]
  },
  {
   "cell_type": "code",
   "execution_count": 62,
   "metadata": {},
   "outputs": [
    {
     "data": {
      "text/plain": [
       "0.2962500100356803"
      ]
     },
     "execution_count": 62,
     "metadata": {},
     "output_type": "execute_result"
    }
   ],
   "source": [
    "data_actual['eu_sales'].corr(data_actual['critic_score'])"
   ]
  },
  {
   "cell_type": "markdown",
   "metadata": {},
   "source": [
    "#### <font color='purple'> 5-ый промежуточный вывод </font>\n",
    "\n",
    "Предпочтения игроков Старого и Нового света ожидаемо похожи друг на друга как по части платформ, так и по жанрам. Но если популярность жанров полностью совпадает, все же сказывается близость культур, то платформы имеют несколько отличные приоритеты. Microsoft не может себе позволить роль аутсайдера на американском рынке, в то время, как в Европе японские консоли пользуются большей популярностью, в том числе благодаря более привлекательным ценам."
   ]
  },
  {
   "cell_type": "markdown",
   "metadata": {},
   "source": [
    "И, наконец, посмотрим какие сюрпризы приготовили нам игроки из Cтраны восходящего солнца."
   ]
  },
  {
   "cell_type": "code",
   "execution_count": 63,
   "metadata": {},
   "outputs": [
    {
     "data": {
      "text/plain": [
       "platform\n",
       "3DS     79.76\n",
       "PS3     33.99\n",
       "PSV     17.48\n",
       "WiiU    12.34\n",
       "PSP     10.71\n",
       "PS4     10.22\n",
       "DS       3.72\n",
       "Wii      3.39\n",
       "X360     1.57\n",
       "XOne     0.33\n",
       "Name: jp_sales, dtype: float64"
      ]
     },
     "execution_count": 63,
     "metadata": {},
     "output_type": "execute_result"
    }
   ],
   "source": [
    "data_actual.groupby(\n",
    "    'platform')['jp_sales'].sum().sort_values(ascending = False).head(10).sort_values(ascending = False)"
   ]
  },
  {
   "cell_type": "code",
   "execution_count": 64,
   "metadata": {},
   "outputs": [
    {
     "data": {
      "text/plain": [
       "genre\n",
       "Role-Playing    58.83\n",
       "Action          45.73\n",
       "Misc            12.06\n",
       "Simulation      10.08\n",
       "Fighting         8.69\n",
       "Name: jp_sales, dtype: float64"
      ]
     },
     "execution_count": 64,
     "metadata": {},
     "output_type": "execute_result"
    }
   ],
   "source": [
    "data_actual.groupby(\n",
    "    'genre')['jp_sales'].sum().sort_values(ascending = False).head(5).sort_values(ascending = False)"
   ]
  },
  {
   "cell_type": "code",
   "execution_count": 65,
   "metadata": {},
   "outputs": [
    {
     "data": {
      "text/plain": [
       "0.12313168990567748"
      ]
     },
     "execution_count": 65,
     "metadata": {},
     "output_type": "execute_result"
    }
   ],
   "source": [
    "data_actual['jp_sales'].corr(data_actual['critic_score'])"
   ]
  },
  {
   "cell_type": "markdown",
   "metadata": {},
   "source": [
    "Да, японских игроков трудно упрекнуть в непатриотичности. В первых рядах только японские производители консолей, а прочие отстают с большим отрывом. Популярность игровых жанров также заметно отличается от американского и европейского рынков."
   ]
  },
  {
   "cell_type": "markdown",
   "metadata": {},
   "source": [
    "Любопытства ради построим матрицу корреляции датафрейма за актуальный период."
   ]
  },
  {
   "cell_type": "code",
   "execution_count": 66,
   "metadata": {
    "scrolled": true
   },
   "outputs": [
    {
     "data": {
      "text/html": [
       "<div>\n",
       "<style scoped>\n",
       "    .dataframe tbody tr th:only-of-type {\n",
       "        vertical-align: middle;\n",
       "    }\n",
       "\n",
       "    .dataframe tbody tr th {\n",
       "        vertical-align: top;\n",
       "    }\n",
       "\n",
       "    .dataframe thead th {\n",
       "        text-align: right;\n",
       "    }\n",
       "</style>\n",
       "<table border=\"1\" class=\"dataframe\">\n",
       "  <thead>\n",
       "    <tr style=\"text-align: right;\">\n",
       "      <th></th>\n",
       "      <th>year_of_release</th>\n",
       "      <th>na_sales</th>\n",
       "      <th>eu_sales</th>\n",
       "      <th>jp_sales</th>\n",
       "      <th>other_sales</th>\n",
       "      <th>critic_score</th>\n",
       "      <th>user_score_1</th>\n",
       "      <th>total_sales</th>\n",
       "    </tr>\n",
       "  </thead>\n",
       "  <tbody>\n",
       "    <tr>\n",
       "      <th>year_of_release</th>\n",
       "      <td>1.000000</td>\n",
       "      <td>-0.041027</td>\n",
       "      <td>-0.011292</td>\n",
       "      <td>-0.036596</td>\n",
       "      <td>-0.013429</td>\n",
       "      <td>-0.012614</td>\n",
       "      <td>-0.040620</td>\n",
       "      <td>-0.032152</td>\n",
       "    </tr>\n",
       "    <tr>\n",
       "      <th>na_sales</th>\n",
       "      <td>-0.041027</td>\n",
       "      <td>1.000000</td>\n",
       "      <td>0.780936</td>\n",
       "      <td>0.260703</td>\n",
       "      <td>0.792331</td>\n",
       "      <td>0.301348</td>\n",
       "      <td>0.001767</td>\n",
       "      <td>0.923726</td>\n",
       "    </tr>\n",
       "    <tr>\n",
       "      <th>eu_sales</th>\n",
       "      <td>-0.011292</td>\n",
       "      <td>0.780936</td>\n",
       "      <td>1.000000</td>\n",
       "      <td>0.269050</td>\n",
       "      <td>0.939754</td>\n",
       "      <td>0.296250</td>\n",
       "      <td>-0.003462</td>\n",
       "      <td>0.931648</td>\n",
       "    </tr>\n",
       "    <tr>\n",
       "      <th>jp_sales</th>\n",
       "      <td>-0.036596</td>\n",
       "      <td>0.260703</td>\n",
       "      <td>0.269050</td>\n",
       "      <td>1.000000</td>\n",
       "      <td>0.198597</td>\n",
       "      <td>0.123132</td>\n",
       "      <td>0.173655</td>\n",
       "      <td>0.446668</td>\n",
       "    </tr>\n",
       "    <tr>\n",
       "      <th>other_sales</th>\n",
       "      <td>-0.013429</td>\n",
       "      <td>0.792331</td>\n",
       "      <td>0.939754</td>\n",
       "      <td>0.198597</td>\n",
       "      <td>1.000000</td>\n",
       "      <td>0.280758</td>\n",
       "      <td>0.009695</td>\n",
       "      <td>0.907165</td>\n",
       "    </tr>\n",
       "    <tr>\n",
       "      <th>critic_score</th>\n",
       "      <td>-0.012614</td>\n",
       "      <td>0.301348</td>\n",
       "      <td>0.296250</td>\n",
       "      <td>0.123132</td>\n",
       "      <td>0.280758</td>\n",
       "      <td>1.000000</td>\n",
       "      <td>0.537370</td>\n",
       "      <td>0.320112</td>\n",
       "    </tr>\n",
       "    <tr>\n",
       "      <th>user_score_1</th>\n",
       "      <td>-0.040620</td>\n",
       "      <td>0.001767</td>\n",
       "      <td>-0.003462</td>\n",
       "      <td>0.173655</td>\n",
       "      <td>0.009695</td>\n",
       "      <td>0.537370</td>\n",
       "      <td>1.000000</td>\n",
       "      <td>0.024383</td>\n",
       "    </tr>\n",
       "    <tr>\n",
       "      <th>total_sales</th>\n",
       "      <td>-0.032152</td>\n",
       "      <td>0.923726</td>\n",
       "      <td>0.931648</td>\n",
       "      <td>0.446668</td>\n",
       "      <td>0.907165</td>\n",
       "      <td>0.320112</td>\n",
       "      <td>0.024383</td>\n",
       "      <td>1.000000</td>\n",
       "    </tr>\n",
       "  </tbody>\n",
       "</table>\n",
       "</div>"
      ],
      "text/plain": [
       "                 year_of_release  na_sales  eu_sales  jp_sales  other_sales  \\\n",
       "year_of_release         1.000000 -0.041027 -0.011292 -0.036596    -0.013429   \n",
       "na_sales               -0.041027  1.000000  0.780936  0.260703     0.792331   \n",
       "eu_sales               -0.011292  0.780936  1.000000  0.269050     0.939754   \n",
       "jp_sales               -0.036596  0.260703  0.269050  1.000000     0.198597   \n",
       "other_sales            -0.013429  0.792331  0.939754  0.198597     1.000000   \n",
       "critic_score           -0.012614  0.301348  0.296250  0.123132     0.280758   \n",
       "user_score_1           -0.040620  0.001767 -0.003462  0.173655     0.009695   \n",
       "total_sales            -0.032152  0.923726  0.931648  0.446668     0.907165   \n",
       "\n",
       "                 critic_score  user_score_1  total_sales  \n",
       "year_of_release     -0.012614     -0.040620    -0.032152  \n",
       "na_sales             0.301348      0.001767     0.923726  \n",
       "eu_sales             0.296250     -0.003462     0.931648  \n",
       "jp_sales             0.123132      0.173655     0.446668  \n",
       "other_sales          0.280758      0.009695     0.907165  \n",
       "critic_score         1.000000      0.537370     0.320112  \n",
       "user_score_1         0.537370      1.000000     0.024383  \n",
       "total_sales          0.320112      0.024383     1.000000  "
      ]
     },
     "execution_count": 66,
     "metadata": {},
     "output_type": "execute_result"
    }
   ],
   "source": [
    "data_actual.corr()"
   ]
  },
  {
   "cell_type": "markdown",
   "metadata": {},
   "source": [
    "**Cоставим теперь портреты пользователей и начнем с десятки наиболее популярных игр в Северной Америке у игроков на растущей платформе Xbox One.**"
   ]
  },
  {
   "cell_type": "code",
   "execution_count": 67,
   "metadata": {},
   "outputs": [
    {
     "data": {
      "text/plain": [
       "name\n",
       "Call of Duty: Black Ops 3         4.59\n",
       "Call of Duty: Advanced Warfare    3.22\n",
       "Grand Theft Auto V                2.81\n",
       "Halo 5: Guardians                 2.78\n",
       "Gears of War: Ultimate Edition    2.61\n",
       "Fallout 4                         2.51\n",
       "Assassin's Creed: Unity           2.27\n",
       "Destiny                           2.14\n",
       "Madden NFL 16                     2.08\n",
       "Star Wars Battlefront (2015)      2.04\n",
       "Name: na_sales, dtype: float64"
      ]
     },
     "execution_count": 67,
     "metadata": {},
     "output_type": "execute_result"
    }
   ],
   "source": [
    "data_actual_xone.groupby(\n",
    "    'name')['na_sales'].sum().sort_values(ascending = False).head(10).sort_values(ascending = False)"
   ]
  },
  {
   "cell_type": "markdown",
   "metadata": {},
   "source": [
    "Для сравнения выведем первую десятку игр для платформы PS4 в Европе."
   ]
  },
  {
   "cell_type": "code",
   "execution_count": 68,
   "metadata": {},
   "outputs": [
    {
     "data": {
      "text/plain": [
       "name\n",
       "Grand Theft Auto V                6.31\n",
       "FIFA 16                           6.12\n",
       "Call of Duty: Black Ops 3         5.86\n",
       "FIFA 15                           4.33\n",
       "Star Wars Battlefront (2015)      3.49\n",
       "Call of Duty: Advanced Warfare    3.48\n",
       "Fallout 4                         3.27\n",
       "Far Cry 4                         2.18\n",
       "The Witcher 3: Wild Hunt          2.13\n",
       "Assassin's Creed: Unity           2.07\n",
       "Name: eu_sales, dtype: float64"
      ]
     },
     "execution_count": 68,
     "metadata": {},
     "output_type": "execute_result"
    }
   ],
   "source": [
    "data_actual_ps4.groupby(\n",
    "    'name')['eu_sales'].sum().sort_values(ascending = False).head(10).sort_values(ascending = False)"
   ]
  },
  {
   "cell_type": "markdown",
   "metadata": {},
   "source": [
    "И для завершения общей картины найдем десятку самых популярных игр в Японии для платформы 3DS."
   ]
  },
  {
   "cell_type": "code",
   "execution_count": 69,
   "metadata": {},
   "outputs": [
    {
     "data": {
      "text/plain": [
       "name\n",
       "Animal Crossing: New Leaf                    4.39\n",
       "Pokemon X/Pokemon Y                          4.35\n",
       "Monster Hunter 4                             3.44\n",
       "Yokai Watch 2 Ganso/Honke                    3.18\n",
       "Pokemon Omega Ruby/Pokemon Alpha Sapphire    3.10\n",
       "Monster Hunter X                             2.79\n",
       "Yokai Watch 2 Shinuchi                       2.68\n",
       "Monster Hunter 4 Ultimate                    2.62\n",
       "New Super Mario Bros. 2                      2.47\n",
       "Super Smash Bros. for Wii U and 3DS          2.43\n",
       "Name: jp_sales, dtype: float64"
      ]
     },
     "execution_count": 69,
     "metadata": {},
     "output_type": "execute_result"
    }
   ],
   "source": [
    "data_actual_3ds = data_actual.query('platform == \"3DS\"')\n",
    "data_actual_3ds.groupby(\n",
    "    'name')['jp_sales'].sum().sort_values(ascending = False).head(10).sort_values(ascending = False)"
   ]
  },
  {
   "cell_type": "markdown",
   "metadata": {},
   "source": [
    "#### <font color='purple'>5-ый промежуточный вывод. </font>\n",
    "\n",
    "Японцы как всегда идут своей дорогой. Консоли только японского производств и никаких штучек от Microsoft, а популярные игровые жанры в Японии заслуживают отдельного разговора. Мало того, что они существенно отличаются от предпочтений американских и европейских игроков, так еще в Японии огромной популярностью пользуются игры чисто японского жанра: “визуальные новеллы” и карточные игры, а в игровые сюжеты тесно вплетены нити аниме и манга. \n",
    "\n",
    "Западные игры никогда не были популярны в Японии. В США есть культ оружия, откуда и пошли все шутеры, которые в Японии совершенно не интересны. А вот ролевые игры в Японии находятся на первом месте, что в значительной степени объясняется коллективистским сознанием японцев. В каждом из регионов есть преимущественно домашние жанры. В Японии это RPG, в США - шутеры,  Европе – экшен и спорт.\n",
    "\n",
    "Вероятно поэтому рейтинги критиков оказывают весьма незначительное влияние на продажи игр в Японии. Ведь и многие игры  были изначально ориентированы на западного потребителя, да и критики, скорее всего, живут не в Японии. \n",
    "\n",
    "<font color='red'>Сказанное выше наглядно демонстрирует первая десятка игр для 3DS в Японии: ничего общего с американскими и европейскими вкусами. Зато мы нашли шесть совпадений в первой десятке игр наиболее популярных у игроков двух континентов - Европы и США. Значит, заказчику будет проще и дешевле спланировать свои маркетинговые акции, ориентируясь именно на эти рынки.</font>"
   ]
  },
  {
   "cell_type": "markdown",
   "metadata": {},
   "source": [
    "Попробуем построить портреты пользователей по регионам. Начнем с европейского игрока."
   ]
  },
  {
   "cell_type": "code",
   "execution_count": 70,
   "metadata": {},
   "outputs": [
    {
     "data": {
      "text/plain": [
       "<matplotlib.axes._subplots.AxesSubplot at 0xb4d8160>"
      ]
     },
     "execution_count": 70,
     "metadata": {},
     "output_type": "execute_result"
    },
    {
     "data": {
      "image/png": "[encoded data removed]",
      "text/plain": [
       "<Figure size 864x360 with 1 Axes>"
      ]
     },
     "metadata": {
      "needs_background": "light"
     },
     "output_type": "display_data"
    },
    {
     "data": {
      "image/png": "[encoded data removed]",
      "text/plain": [
       "<Figure size 864x360 with 1 Axes>"
      ]
     },
     "metadata": {
      "needs_background": "light"
     },
     "output_type": "display_data"
    }
   ],
   "source": [
    "data_actual_ps4.pivot_table(index='name', values='eu_sales', aggfunc='sum').sort_values(\n",
    "    by='eu_sales', ascending = False).head(10).plot(kind='bar',\n",
    "        grid=True, figsize=(12, 5), title='Популярность игр PS4 в EU')\n",
    "data_actual_xone.pivot_table(index='name', values='eu_sales', aggfunc='sum').sort_values(\n",
    "    by='eu_sales', ascending = False).head(10).plot(kind='bar',\n",
    "        grid=True, figsize=(12, 5), title='Популярность игр XOne в EU')"
   ]
  },
  {
   "cell_type": "markdown",
   "metadata": {},
   "source": [
    "Сравнивая текущие объемы продаж игр для PS4 с растущей платформой XOne можно заметить, что первая тройка игр совпадает, а в оставшихся семи играх есть небольшие отличия как по рангу, так и по составу.\n",
    "\n",
    "Теперь сравним распределение игр по трем платформам в США."
   ]
  },
  {
   "cell_type": "code",
   "execution_count": 71,
   "metadata": {},
   "outputs": [
    {
     "data": {
      "text/html": [
       "<div>\n",
       "<style scoped>\n",
       "    .dataframe tbody tr th:only-of-type {\n",
       "        vertical-align: middle;\n",
       "    }\n",
       "\n",
       "    .dataframe tbody tr th {\n",
       "        vertical-align: top;\n",
       "    }\n",
       "\n",
       "    .dataframe thead th {\n",
       "        text-align: right;\n",
       "    }\n",
       "</style>\n",
       "<table border=\"1\" class=\"dataframe\">\n",
       "  <thead>\n",
       "    <tr style=\"text-align: right;\">\n",
       "      <th>platform</th>\n",
       "      <th>name</th>\n",
       "      <th>PS4</th>\n",
       "      <th>X360</th>\n",
       "      <th>XOne</th>\n",
       "    </tr>\n",
       "  </thead>\n",
       "  <tbody>\n",
       "    <tr>\n",
       "      <th>154</th>\n",
       "      <td>Grand Theft Auto V</td>\n",
       "      <td>3.96</td>\n",
       "      <td>9.66</td>\n",
       "      <td>2.81</td>\n",
       "    </tr>\n",
       "    <tr>\n",
       "      <th>49</th>\n",
       "      <td>Call of Duty: Black Ops II</td>\n",
       "      <td>NaN</td>\n",
       "      <td>8.25</td>\n",
       "      <td>NaN</td>\n",
       "    </tr>\n",
       "    <tr>\n",
       "      <th>50</th>\n",
       "      <td>Call of Duty: Ghosts</td>\n",
       "      <td>1.78</td>\n",
       "      <td>6.73</td>\n",
       "      <td>1.88</td>\n",
       "    </tr>\n",
       "    <tr>\n",
       "      <th>158</th>\n",
       "      <td>Halo 4</td>\n",
       "      <td>NaN</td>\n",
       "      <td>6.65</td>\n",
       "      <td>NaN</td>\n",
       "    </tr>\n",
       "    <tr>\n",
       "      <th>229</th>\n",
       "      <td>Minecraft</td>\n",
       "      <td>1.48</td>\n",
       "      <td>5.70</td>\n",
       "      <td>1.61</td>\n",
       "    </tr>\n",
       "    <tr>\n",
       "      <th>17</th>\n",
       "      <td>Assassin's Creed III</td>\n",
       "      <td>NaN</td>\n",
       "      <td>3.13</td>\n",
       "      <td>NaN</td>\n",
       "    </tr>\n",
       "    <tr>\n",
       "      <th>47</th>\n",
       "      <td>Call of Duty: Advanced Warfare</td>\n",
       "      <td>2.81</td>\n",
       "      <td>2.77</td>\n",
       "      <td>3.22</td>\n",
       "    </tr>\n",
       "    <tr>\n",
       "      <th>240</th>\n",
       "      <td>NBA 2K13</td>\n",
       "      <td>NaN</td>\n",
       "      <td>2.60</td>\n",
       "      <td>NaN</td>\n",
       "    </tr>\n",
       "    <tr>\n",
       "      <th>213</th>\n",
       "      <td>Madden NFL 13</td>\n",
       "      <td>NaN</td>\n",
       "      <td>2.53</td>\n",
       "      <td>NaN</td>\n",
       "    </tr>\n",
       "    <tr>\n",
       "      <th>27</th>\n",
       "      <td>Battlefield 4</td>\n",
       "      <td>1.35</td>\n",
       "      <td>2.15</td>\n",
       "      <td>1.25</td>\n",
       "    </tr>\n",
       "  </tbody>\n",
       "</table>\n",
       "</div>"
      ],
      "text/plain": [
       "platform                            name   PS4  X360  XOne\n",
       "154                   Grand Theft Auto V  3.96  9.66  2.81\n",
       "49            Call of Duty: Black Ops II   NaN  8.25   NaN\n",
       "50                  Call of Duty: Ghosts  1.78  6.73  1.88\n",
       "158                               Halo 4   NaN  6.65   NaN\n",
       "229                            Minecraft  1.48  5.70  1.61\n",
       "17                  Assassin's Creed III   NaN  3.13   NaN\n",
       "47        Call of Duty: Advanced Warfare  2.81  2.77  3.22\n",
       "240                             NBA 2K13   NaN  2.60   NaN\n",
       "213                        Madden NFL 13   NaN  2.53   NaN\n",
       "27                         Battlefield 4  1.35  2.15  1.25"
      ]
     },
     "execution_count": 71,
     "metadata": {},
     "output_type": "execute_result"
    }
   ],
   "source": [
    "platform_usa = ['X360', 'XOne', 'PS4']\n",
    "data_actual_platform_usa_sale = data_actual.query('platform == @platform_usa').pivot_table(\n",
    "    index = 'name', columns='platform', values ='na_sales', aggfunc = 'sum')\n",
    "data_actual_platform_usa_sale.reset_index().sort_values(by='X360', ascending=False).head(10)"
   ]
  },
  {
   "cell_type": "markdown",
   "metadata": {},
   "source": [
    "Кажется, на американском рынке десятка популярных игр на разных платформах отличается значительнее, чем на европейском. Посмотрим в деталях как распределились самые продаваемые игры на каждой платформе."
   ]
  },
  {
   "cell_type": "code",
   "execution_count": 72,
   "metadata": {},
   "outputs": [
    {
     "data": {
      "text/plain": [
       "<matplotlib.axes._subplots.AxesSubplot at 0xb46e6a0>"
      ]
     },
     "execution_count": 72,
     "metadata": {},
     "output_type": "execute_result"
    },
    {
     "data": {
      "image/png": "[encoded data removed]",
      "text/plain": [
       "<Figure size 1080x288 with 1 Axes>"
      ]
     },
     "metadata": {
      "needs_background": "light"
     },
     "output_type": "display_data"
    },
    {
     "data": {
      "image/png": "[encoded data removed]",
      "text/plain": [
       "<Figure size 1080x288 with 1 Axes>"
      ]
     },
     "metadata": {
      "needs_background": "light"
     },
     "output_type": "display_data"
    },
    {
     "data": {
      "image/png": "[encoded data removed]",
      "text/plain": [
       "<Figure size 1080x288 with 1 Axes>"
      ]
     },
     "metadata": {
      "needs_background": "light"
     },
     "output_type": "display_data"
    }
   ],
   "source": [
    "data_actual_x360 = data_actual.query('platform == \"X360\"')\n",
    "data_actual_x360.pivot_table(index='name', values='na_sales', aggfunc='sum').sort_values(\n",
    "    by='na_sales', ascending = False).head(15).plot(kind='bar',\n",
    "        grid=True, figsize=(15, 4), title='Популярность игр X360 в USA')\n",
    "data_actual_ps4.pivot_table(index='name', values='na_sales', aggfunc='sum').sort_values(\n",
    "    by='na_sales', ascending = False).head(15).plot(kind='bar',\n",
    "        grid=True, figsize=(15, 4), title='Популярность игр PS4 в USA')\n",
    "data_actual_xone.pivot_table(index='name', values='na_sales', aggfunc='sum').sort_values(\n",
    "    by='na_sales', ascending = False).head(15).plot(kind='bar',\n",
    "        grid=True, figsize=(15, 4), title='Популярность игр XOne в USA')"
   ]
  },
  {
   "cell_type": "markdown",
   "metadata": {},
   "source": [
    "Из полученных диаграмм  и таблиц становится понятно, что с рынком США не все так просто, как с европейским. При сравнении лидирующей платформы X360 с перспективными PS4 и XOne выясняется, что только две игры входят в первую десятку игр на каждой платформе. Вот он шанс для продавцов и маркетологов проявить рыночное чутье и интуицию."
   ]
  },
  {
   "cell_type": "markdown",
   "metadata": {},
   "source": [
    "### Часть 5. Проверим некоторые статистические теории."
   ]
  },
  {
   "cell_type": "code",
   "execution_count": 73,
   "metadata": {},
   "outputs": [],
   "source": [
    "from scipy import stats as st\n",
    "import numpy as np"
   ]
  },
  {
   "cell_type": "markdown",
   "metadata": {},
   "source": [
    "    Посмотрим насколько близки рейтинги пользователей двух платформ: XOne и PC."
   ]
  },
  {
   "cell_type": "code",
   "execution_count": 74,
   "metadata": {},
   "outputs": [
    {
     "data": {
      "text/plain": [
       "array(['Wii', 'NES', 'GB', 'DS', 'X360', 'PS3', 'PS2', 'SNES', 'GBA',\n",
       "       'PS4', '3DS', 'N64', 'PS', 'XB', 'PC', '2600', 'PSP', 'XOne',\n",
       "       'WiiU', 'GC', 'GEN', 'DC', 'PSV', 'SAT', 'SCD', 'WS', 'NG', 'TG16',\n",
       "       '3DO', 'GG', 'PCFX'], dtype=object)"
      ]
     },
     "execution_count": 74,
     "metadata": {},
     "output_type": "execute_result"
    }
   ],
   "source": [
    "data_actual_xone['user_score_1'].unique()\n",
    "data['platform'].unique()"
   ]
  },
  {
   "cell_type": "markdown",
   "metadata": {},
   "source": [
    "    В датафрейме актуального периода отсутствует платформа PC, поэтому мы вновь обращаемся к исходным данным. Формируем \n",
    "    соответствующие датасеты."
   ]
  },
  {
   "cell_type": "code",
   "execution_count": 75,
   "metadata": {},
   "outputs": [],
   "source": [
    "data_xone = data.query('platform == \"XOne\"')\n",
    "data_pc = data.query('platform == \"PC\"')"
   ]
  },
  {
   "cell_type": "code",
   "execution_count": 76,
   "metadata": {},
   "outputs": [
    {
     "data": {
      "text/plain": [
       "count    182.000000\n",
       "mean       6.521429\n",
       "std        1.380941\n",
       "min        1.600000\n",
       "25%        5.800000\n",
       "50%        6.800000\n",
       "75%        7.500000\n",
       "max        9.200000\n",
       "Name: user_score_1, dtype: float64"
      ]
     },
     "execution_count": 76,
     "metadata": {},
     "output_type": "execute_result"
    }
   ],
   "source": [
    "data_xone['user_score_1'].describe()"
   ]
  },
  {
   "cell_type": "code",
   "execution_count": 77,
   "metadata": {},
   "outputs": [
    {
     "data": {
      "text/plain": [
       "<matplotlib.axes._subplots.AxesSubplot at 0xe2b1a90>"
      ]
     },
     "execution_count": 77,
     "metadata": {},
     "output_type": "execute_result"
    },
    {
     "data": {
      "image/png": "[encoded data removed]",
      "text/plain": [
       "<Figure size 864x360 with 1 Axes>"
      ]
     },
     "metadata": {
      "needs_background": "light"
     },
     "output_type": "display_data"
    }
   ],
   "source": [
    "#Визуализируем рейтинг гистограммой\n",
    "data_xone['user_score_1'].hist(bins=50, range=(1, 10), figsize=(12, 5))"
   ]
  },
  {
   "cell_type": "code",
   "execution_count": 91,
   "metadata": {},
   "outputs": [],
   "source": [
    "#Cобираем выборку по правилу 3-х Сигм.\n",
    "data_xone_user_sc = data_xone[(data_xone['user_score_1'] <= (data_xone['user_score_1'].mean() + (\n",
    "    data_xone['user_score_1'].std()*3))) & (data_xone['user_score_1'] >= data_xone['user_score_1'].min())]"
   ]
  },
  {
   "cell_type": "code",
   "execution_count": 92,
   "metadata": {},
   "outputs": [
    {
     "data": {
      "text/plain": [
       "count    770.000000\n",
       "mean       7.062468\n",
       "std        1.529963\n",
       "min        1.400000\n",
       "25%        6.200000\n",
       "50%        7.500000\n",
       "75%        8.200000\n",
       "max        9.300000\n",
       "Name: user_score_1, dtype: float64"
      ]
     },
     "execution_count": 92,
     "metadata": {},
     "output_type": "execute_result"
    }
   ],
   "source": [
    "#Построим гистограмму и соберем выборку для платформы PC.\n",
    "data_pc['user_score_1'].describe()"
   ]
  },
  {
   "cell_type": "code",
   "execution_count": 80,
   "metadata": {
    "scrolled": true
   },
   "outputs": [
    {
     "data": {
      "text/plain": [
       "<matplotlib.axes._subplots.AxesSubplot at 0xe387fa0>"
      ]
     },
     "execution_count": 80,
     "metadata": {},
     "output_type": "execute_result"
    },
    {
     "data": {
      "image/png": "[encoded data removed]",
      "text/plain": [
       "<Figure size 864x360 with 1 Axes>"
      ]
     },
     "metadata": {
      "needs_background": "light"
     },
     "output_type": "display_data"
    }
   ],
   "source": [
    "data_pc['user_score_1'].hist(bins=50, range=(1, 10), figsize=(12, 5))"
   ]
  },
  {
   "cell_type": "code",
   "execution_count": 81,
   "metadata": {},
   "outputs": [],
   "source": [
    "data_pc_user_sc = data_pc[(data_pc['user_score_1'] <= (data_pc['user_score_1'].mean() + (\n",
    "    data_pc['user_score_1'].std()*3))) & (data_pc['user_score_1'] >= data_pc['user_score_1'].min())]"
   ]
  },
  {
   "cell_type": "markdown",
   "metadata": {},
   "source": [
    "#### Проверяем нулевую гипотезу о равенстве пользовательских рейтингов платформ Xbox One и PC. Соответственно, альтернативаня гипотеза говорит об обратном."
   ]
  },
  {
   "cell_type": "markdown",
   "metadata": {},
   "source": [
    "Перед проверкой гипотезы оценим дисперсии выборок, чтобы корректно определить атрибут equal_val в Т–тесте. Найдем и сравним дисперсии выборок."
   ]
  },
  {
   "cell_type": "code",
   "execution_count": 82,
   "metadata": {},
   "outputs": [
    {
     "data": {
      "text/plain": [
       "1.9069968429360702"
      ]
     },
     "execution_count": 82,
     "metadata": {},
     "output_type": "execute_result"
    }
   ],
   "source": [
    "variance_xone = np.var(data_xone_user_sc['user_score_1'], ddof=1)\n",
    "variance_xone "
   ]
  },
  {
   "cell_type": "code",
   "execution_count": 83,
   "metadata": {},
   "outputs": [
    {
     "data": {
      "text/plain": [
       "2.3407871413372"
      ]
     },
     "execution_count": 83,
     "metadata": {},
     "output_type": "execute_result"
    }
   ],
   "source": [
    "variance_pc = np.var(data_pc_user_sc['user_score_1'], ddof=1)\n",
    "variance_pc "
   ]
  },
  {
   "cell_type": "markdown",
   "metadata": {},
   "source": [
    "Поскольку дисперсии не равны, то в Т-тесте используем аргумент equal_var=False."
   ]
  },
  {
   "cell_type": "code",
   "execution_count": 84,
   "metadata": {},
   "outputs": [
    {
     "name": "stdout",
     "output_type": "stream",
     "text": [
      "p-значение: 4.935072360183565e-06\n",
      "Принимаем альтернативную гипотезу\n"
     ]
    }
   ],
   "source": [
    "alpha = .05 \n",
    "\n",
    "results = st.ttest_ind(\n",
    "    data_xone_user_sc['user_score_1'], \n",
    "    data_pc_user_sc['user_score_1'], equal_var=False)\n",
    "\n",
    "print('p-значение:', results.pvalue)\n",
    "\n",
    "if results.pvalue < alpha:\n",
    "    print(\"Принимаем альтернативную гипотезу\")\n",
    "else:\n",
    "    print(\"Не получилось отвергнуть нулевую гипотезу\")"
   ]
  },
  {
   "cell_type": "markdown",
   "metadata": {},
   "source": [
    "    Остается сделать вывод о том , что средние рейтинги двух платформ отличаются. Все как всегда: есть ярые сторонники \n",
    "    консолей, а есть независимая армия любителей игровых ПК."
   ]
  },
  {
   "cell_type": "markdown",
   "metadata": {},
   "source": [
    "#### Теперь проверим гипотезу о неравенстве пользовательских рейтингов жанров *Action* и *Sports*."
   ]
  },
  {
   "cell_type": "code",
   "execution_count": 85,
   "metadata": {},
   "outputs": [],
   "source": [
    "data_action = data.query('genre == \"Action\"')\n",
    "data_sports = data.query('genre == \"Sports\"')"
   ]
  },
  {
   "cell_type": "code",
   "execution_count": 86,
   "metadata": {},
   "outputs": [],
   "source": [
    "data_action_user_sc = data_action[(data_action['user_score_1'] <= (data_action['user_score_1'].mean() + (\n",
    "    data_action['user_score_1'].std()*3))) & (data_action['user_score_1'] >= data_action['user_score_1'].min())]\n",
    "#data_action_user_sc['user_score_1'].describe()"
   ]
  },
  {
   "cell_type": "code",
   "execution_count": 87,
   "metadata": {},
   "outputs": [],
   "source": [
    "data_sports_user_sc = data_sports[(data_sports['user_score_1'] <= (data_sports['user_score_1'].mean() + (\n",
    "    data_sports['user_score_1'].std()*3))) & (data_sports['user_score_1'] >= data_sports['user_score_1'].min())]\n",
    "#data_sports_user_sc['user_score_1'].describe()"
   ]
  },
  {
   "cell_type": "markdown",
   "metadata": {},
   "source": [
    "Аналогично предыдущему вопросу формулируем нулевую гипотезу о равенстве и, соответственно альтернативную гипотезу о не равенстве средних пользовательских рейтингов жанра *Acrion* и *Sports*."
   ]
  },
  {
   "cell_type": "markdown",
   "metadata": {},
   "source": [
    "Здесь для начала также сравниваем дисперсии двух выборок и применяем аргумент equal_var=False."
   ]
  },
  {
   "cell_type": "code",
   "execution_count": 88,
   "metadata": {},
   "outputs": [
    {
     "data": {
      "text/plain": [
       "2.031746898033191"
      ]
     },
     "execution_count": 88,
     "metadata": {},
     "output_type": "execute_result"
    }
   ],
   "source": [
    "variance_action = np.var(data_action_user_sc['user_score_1'], ddof=1)\n",
    "variance_action"
   ]
  },
  {
   "cell_type": "code",
   "execution_count": 89,
   "metadata": {},
   "outputs": [
    {
     "data": {
      "text/plain": [
       "2.5965147189730073"
      ]
     },
     "execution_count": 89,
     "metadata": {},
     "output_type": "execute_result"
    }
   ],
   "source": [
    "variance_sports = np.var(data_sports_user_sc['user_score_1'], ddof=1)\n",
    "variance_sports"
   ]
  },
  {
   "cell_type": "code",
   "execution_count": 90,
   "metadata": {},
   "outputs": [
    {
     "name": "stdout",
     "output_type": "stream",
     "text": [
      "p-значение: 0.11483818791498286\n",
      "Не получилось отвергнуть нулевую гипотезу\n"
     ]
    }
   ],
   "source": [
    "alpha = .05 \n",
    "\n",
    "results = st.ttest_ind(\n",
    "    data_action_user_sc['user_score_1'], \n",
    "    data_sports_user_sc['user_score_1'], equal_var=False)\n",
    "\n",
    "print('p-значение:', results.pvalue)\n",
    "\n",
    "if results.pvalue < alpha:\n",
    "    print(\"Принимаем альтернативную гипотезу\")\n",
    "else:\n",
    "    print(\"Не получилось отвергнуть нулевую гипотезу\")"
   ]
  },
  {
   "cell_type": "markdown",
   "metadata": {},
   "source": [
    "Похоже, что рейтинги двух жанров довольно близки. И это, в общем объяснимо, поскольку игры обоих жанров требуют от пользователей схожих психо-физических данных. Просто предметный интерес разный, а суть каждой игры примерно одинакова.   "
   ]
  },
  {
   "cell_type": "markdown",
   "metadata": {},
   "source": [
    "### Часть 6. Общий вывод и рекомендации."
   ]
  },
  {
   "cell_type": "markdown",
   "metadata": {},
   "source": [
    "Исходя из предоставленных данных, для планирования рекламной компании в качестве целевых рынков можно рекомендовать Америку и Европу, где предпочтения игроков сильно похожи как по платформам, так и по игровым жанрам. Особо стоит сфокусироваться на демонстрирующих рост платформах PS4 и Xbox One, но не стоит забывать и о приносящих хороший доход PS3 и X360. Выбор игровых жанров можно ограничить списком, в который стоит включить *Action*, *Shooter*, *Sports* и *Role-Playing*.\n",
    "\n",
    "Несмотря на всеобщее проникновение английского языка, компании стоит завести на своем веб-сайте дополнительные языковые страницы. Все-таки не все и не везде знают английский, даже в Европе. На сайте NewZoo.com опубликован отчёт «Global Games Market Report», в котором представлена информация по валовому обороту игровых индустрий в разных странах на 2020 год: https://newzoo.com/insights/rankings/top-10-countries-by-game-revenues/\n",
    "\n",
    "Для полноценного охвата европейского рынка стоит заложить бюджет на следующий год для для создания страниц на немецком, французском, испанском и итальянском языках, если их пока еще нет.\n",
    "\n",
    "Что касается таких привлекательных в денежном плане рынков, как японский, корейский и китайский, то надо понимать, что это довольно закрытые рынки, развивающиеся по своим законам и каждый со своими особенностями. Для того, чтобы планово развивать бизнес в этом направлении, необходимо привлекать специалистов, которые хорошо разбираются как в игровых предпочтениях игроков в  этих странах, так и в особенностях национальных культур. \n",
    "\n",
    "Также можно рекомендовать компании заняться созданием более репрезентативной подборкой информации об игровой индустрии в фокусных регионах. Перечень игр в рассмотренных датасете сильно ограничен, в списке отсутствуют многие известные игры, упомянутые в таких обзорах, как \"История развития компьютерных игр\": https://gamesisart.ru/istoriya_komputernyh_igr_2.html и \"История игровой индустрии в России: от «Тетриса» и русских квестов до мобильных игр\": https://vc.ru/flood/5856-rugames-story. \n",
    "Например, не представлены данные по играм DotA 2, League of Legends, Heroes of Newerth, Panzar, Smite, Heroes of Newerth и другие из жанра MOBA (или DotA). Кстати, имеющиеся в списке игры из этого жанра, например Warcraft  отнесены к категории “strategy”, что не совсем корректно. \n",
    "\n",
    "__Рекомендуемая литература:__\n",
    "\n",
    "Классификация жанров компьютерных игр: https://gamesisart.ru/janr.html  \n",
    "Всемирная история игровой индустрии: https://stopgame.ru/blogs/topic/89367  \n",
    "История игровой индустрии Японии: https://stopgame.ru/blogs/topic/89367  \n",
    "История игровой индустрии Китая: https://stopgame.ru/blogs/topic/63397  \n",
    "История игровой индустрии Америки: https://stopgame.ru/blogs/topic/77974  \n",
    "История игровой индустрии Европы: https://stopgame.ru/blogs/topic/79043  \n",
    "История игровой индустрии Южной Кореи:  https://stopgame.ru/blogs/topic/84608  \n",
    "История игровой индустрии в России: от «Тетриса» и русских квестов до мобильных игр: https://vc.ru/flood/5856-rugames-story  \n",
    "История развития компьютерных игр: https://gamesisart.ru/istoriya_komputernyh_igr_2.html  \n",
    "2019-й год в цифрах: самые доходные платформы и самые популярные игры:  https://stopgame.ru/newsdata/41236"
   ]
  }
 ],
 "metadata": {
  "kernelspec": {
   "display_name": "Python 3",
   "language": "python",
   "name": "python3"
  },
  "language_info": {
   "codemirror_mode": {
    "name": "ipython",
    "version": 3
   },
   "file_extension": ".py",
   "mimetype": "text/x-python",
   "name": "python",
   "nbconvert_exporter": "python",
   "pygments_lexer": "ipython3",
   "version": "3.8.3"
  }
 },
 "nbformat": 4,
 "nbformat_minor": 2
}
