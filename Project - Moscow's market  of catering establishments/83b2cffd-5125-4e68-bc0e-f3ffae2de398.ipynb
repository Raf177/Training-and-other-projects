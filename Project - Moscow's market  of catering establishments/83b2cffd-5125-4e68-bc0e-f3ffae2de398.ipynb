{
 "cells": [
  {
   "cell_type": "markdown",
   "metadata": {},
   "source": [
    "### Проект - Рынок заведений общественного питания Москвы."
   ]
  },
  {
   "cell_type": "markdown",
   "metadata": {},
   "source": [
    "**Описание проекта.**  \n",
    "\n",
    "Партнеры и К° решили открыть небольшое оригинальное кафе ***Новые времена*** в Москве, в котором гостей будут обслуживать роботы-официанты. Проект интересный и многообещающий, но весьма дорогой. Партнерам и К° такой старап самостоятельно не потянуть, поэтомы было решено обратиться к инвесторам.   \n",
    "Инвесторов будет интересовать текущее положение дел на рынке и сможет ли новый проект стать популярным на долгое время даже в том случае, когда все привыкнут к новому формату обслуживания. Партнёры просят своего компаньона, как они думают  — гуру аналитики,  подготовить исследование рынка. Для компаньона это большая ответственность и цена ошибки может быть очень высока. Тем не менее, особого  выбора нет и он не может отказать своим товарищам.  \n",
    "Используя знания, полученные компаньоном во время обучения в школе Яндекс.Практикум, был составлен пошаговый план исследования и подготовки презентации для инвесторов. \n",
    "\n",
    "**[Шаг №1. Загружаем данные и подготовим их к анализу](#1.)**\n",
    "\n",
    "1.1.    [Загружаем открытые данные о заведениях общественного питания Москвы.](#1.1.)   \n",
    "1.2.    [Изучаем правильность типов данных в каждой колонке, убеждаемся в отсутствие пропущенных значений и дубликатов. Если будет необходимо, то обрабатываем их.](#1.2.)\n",
    "\n",
    "**[Шаг №2. Анализ данных](#2.)**  \n",
    "\n",
    "2.1.\t[Исследуем соотношение видов объектов общественного питания по количеству, строим график.](2.1.)  \n",
    "2.2.\t[Исследуем соотношение сетевых и несетевых заведений, строим график.](#2.2.)  \n",
    "2.3.    [Для какого вида объекта общественного питания характерно сетевое распространение?](#2.3.)  \n",
    "2.4.    [Что характерно для сетевых заведений: много заведений с небольшим числом посадочных мест в каждом или мало заведений с большим количеством посадочных мест?](#2.4.)  \n",
    "2.5.    [Для каждого вида объекта общественного питания опишите среднее количество посадочных мест. Какой вид предоставляет в среднем самое большое количество посадочных мест? Постройте графики.](#2.5.)  \n",
    "2.6.\t[Выделите в отдельный столбец информацию об улице из столбца address.](#2.6.)    \n",
    "2.7.\t[Постройте график топ-10 улиц по количеству объектов общественного питания. Воспользуйтесь внешней информацией и ответьте на вопрос — в каких районах Москвы находятся эти улицы?](#2.7.)  \n",
    "2.8.\t[Найдите число улиц с одним объектом общественного питания. Воспользуйтесь внешней информацией и ответьте на вопрос — в каких районах Москвы находятся эти улицы?](#2.8.)  \n",
    "2.9.\t[Посмотрите на распределение количества посадочных мест для улиц с большим количеством объектов общественного питания. Какие закономерности можно выявить?](#2.9.)    \n",
    "2.10. [Делаем [общий вывод и формулируем рекомендации](#conlusion) о виде заведения, количестве посадочных мест, а также районе расположения. Добавляем комментарии о возможности развития сети кафешек.](#2.10)\n",
    "\n",
    "**[Шаг №3. Подготовка презентации.](#3.)**\n",
    "\n",
    "Готовим презентацию исследования для инвесторов. Для создания презентации используем PowerPoint, а финальную версию презентации готовим в формате pdf. \n",
    "\n",
    "\n",
    "(Это удалим потом)  \n",
    "Приложите ссылку на презентацию в markdown-ячейке в формате:\n",
    "Скопировать кодMARKDOWN\n",
    "Презентация: <ссылка на облачное хранилище с презентацией> \n",
    "Следуйте принципам оформления из темы «Подготовка презентации».\n",
    "Оформление: Задание выполните в Jupyter Notebook. Программный код заполните в ячейках типа code, текстовые пояснения — в ячейках типа markdown. Примените форматирование и заголовки."
   ]
  },
  {
   "cell_type": "markdown",
   "metadata": {},
   "source": [
    "<a id=\"1.\"></a>\n",
    "### Шаг №1. Загружаем данные и готовим их к анализу.\n",
    "\n",
    "Общими усилиями партнеров были получены данные из открытых источников таких, как Портал открытых данных Правительства Москвы https://data.mos.ru/, Edatam.ru и др. В итоге был получен датасет, с которым и будем работать дальше.\n"
   ]
  },
  {
   "cell_type": "code",
   "execution_count": 9,
   "metadata": {},
   "outputs": [],
   "source": [
    "import pandas as pd\n",
    "pd.set_option('display.max_columns', 30)\n",
    "pd.set_option('display.max_rows', 500)\n",
    "pd.set_option('display.max_colwidth', 120)\n",
    "from IPython.display import display\n",
    "import numpy as np\n",
    "import matplotlib.pyplot as plt\n",
    "from datetime import datetime, time\n",
    "import scipy.stats as stats\n",
    "import plotly.express as px \n",
    "from plotly import graph_objects as go"
   ]
  },
  {
   "cell_type": "markdown",
   "metadata": {},
   "source": [
    "***1.1. Загружаем данные***"
   ]
  },
  {
   "cell_type": "code",
   "execution_count": 19,
   "metadata": {},
   "outputs": [
    {
     "name": "stdout",
     "output_type": "stream",
     "text": [
      "<class 'pandas.core.frame.DataFrame'>\n",
      "RangeIndex: 15366 entries, 0 to 15365\n",
      "Data columns (total 6 columns):\n",
      " #   Column       Non-Null Count  Dtype  \n",
      "---  ------       --------------  -----  \n",
      " 0   id           15366 non-null  object \n",
      " 1   object_name  0 non-null      float64\n",
      " 2   chain        0 non-null      float64\n",
      " 3   object_type  0 non-null      float64\n",
      " 4   address      0 non-null      float64\n",
      " 5   number       0 non-null      float64\n",
      "dtypes: float64(5), object(1)\n",
      "memory usage: 720.4+ KB\n",
      "None\n",
      "                                                                                              id  \\\n",
      "0                        151635,СМЕТАНА,нет,кафе,\"город Москва, улица Егора Абакумова, дом 9\",48   \n",
      "1                   77874,Родник,нет,кафе,\"город Москва, улица Талалихина, дом 2/1, корпус 1\",35   \n",
      "2                  24309,Кафе «Академия»,нет,кафе,\"город Москва, Абельмановская улица, дом 6\",95   \n",
      "3                          21894,ПИЦЦЕТОРИЯ,да,кафе,\"город Москва, Абрамцевская улица, дом 1\",40   \n",
      "4  119365,Кафе «Вишневая метель»,нет,кафе,\"город Москва, Абрамцевская улица, дом 9, корпус 1\",50   \n",
      "\n",
      "   object_name  chain  object_type  address  number  \n",
      "0          NaN    NaN          NaN      NaN     NaN  \n",
      "1          NaN    NaN          NaN      NaN     NaN  \n",
      "2          NaN    NaN          NaN      NaN     NaN  \n",
      "3          NaN    NaN          NaN      NaN     NaN  \n",
      "4          NaN    NaN          NaN      NaN     NaN  \n"
     ]
    }
   ],
   "source": [
    "rest_data = pd.read_csv('rest_data.csv')\n",
    "print(rest_data.info())\n",
    "print(rest_data.head())"
   ]
  },
  {
   "cell_type": "markdown",
   "metadata": {},
   "source": [
    "<a id=\"1.2.\"></a>\n",
    "***1.2. Изучаем правильность типов данных.***"
   ]
  },
  {
   "cell_type": "markdown",
   "metadata": {},
   "source": [
    "Пропусков в датафрейме нет, а вот дупликатов достаточно много, хотя на первый взгляд кажется, что  это не так. "
   ]
  },
  {
   "cell_type": "code",
   "execution_count": 11,
   "metadata": {},
   "outputs": [
    {
     "data": {
      "text/plain": [
       "0"
      ]
     },
     "execution_count": 11,
     "metadata": {},
     "output_type": "execute_result"
    }
   ],
   "source": [
    "rest_data.duplicated().sum()"
   ]
  },
  {
   "cell_type": "markdown",
   "metadata": {},
   "source": [
    "Сначала приведем все названия заведений к верхнему регистру."
   ]
  },
  {
   "cell_type": "code",
   "execution_count": 12,
   "metadata": {},
   "outputs": [
    {
     "ename": "AttributeError",
     "evalue": "Can only use .str accessor with string values!",
     "output_type": "error",
     "traceback": [
      "\u001b[1;31m---------------------------------------------------------------------------\u001b[0m",
      "\u001b[1;31mAttributeError\u001b[0m                            Traceback (most recent call last)",
      "\u001b[1;32m<ipython-input-12-d79843628d69>\u001b[0m in \u001b[0;36m<module>\u001b[1;34m\u001b[0m\n\u001b[1;32m----> 1\u001b[1;33m \u001b[0mrest_data\u001b[0m\u001b[1;33m[\u001b[0m\u001b[1;34m'object_name'\u001b[0m\u001b[1;33m]\u001b[0m \u001b[1;33m=\u001b[0m \u001b[0mrest_data\u001b[0m\u001b[1;33m[\u001b[0m\u001b[1;34m'object_name'\u001b[0m\u001b[1;33m]\u001b[0m\u001b[1;33m.\u001b[0m\u001b[0mstr\u001b[0m\u001b[1;33m.\u001b[0m\u001b[0mupper\u001b[0m\u001b[1;33m(\u001b[0m\u001b[1;33m)\u001b[0m\u001b[1;33m\u001b[0m\u001b[1;33m\u001b[0m\u001b[0m\n\u001b[0m\u001b[0;32m      2\u001b[0m \u001b[0mprint\u001b[0m\u001b[1;33m(\u001b[0m\u001b[0mrest_data\u001b[0m\u001b[1;33m.\u001b[0m\u001b[0mhead\u001b[0m\u001b[1;33m(\u001b[0m\u001b[1;36m10\u001b[0m\u001b[1;33m)\u001b[0m\u001b[1;33m)\u001b[0m\u001b[1;33m\u001b[0m\u001b[1;33m\u001b[0m\u001b[0m\n",
      "\u001b[1;32mE:\\Anaconda install\\lib\\site-packages\\pandas\\core\\generic.py\u001b[0m in \u001b[0;36m__getattr__\u001b[1;34m(self, name)\u001b[0m\n\u001b[0;32m   5268\u001b[0m             \u001b[1;32mor\u001b[0m \u001b[0mname\u001b[0m \u001b[1;32min\u001b[0m \u001b[0mself\u001b[0m\u001b[1;33m.\u001b[0m\u001b[0m_accessors\u001b[0m\u001b[1;33m\u001b[0m\u001b[1;33m\u001b[0m\u001b[0m\n\u001b[0;32m   5269\u001b[0m         ):\n\u001b[1;32m-> 5270\u001b[1;33m             \u001b[1;32mreturn\u001b[0m \u001b[0mobject\u001b[0m\u001b[1;33m.\u001b[0m\u001b[0m__getattribute__\u001b[0m\u001b[1;33m(\u001b[0m\u001b[0mself\u001b[0m\u001b[1;33m,\u001b[0m \u001b[0mname\u001b[0m\u001b[1;33m)\u001b[0m\u001b[1;33m\u001b[0m\u001b[1;33m\u001b[0m\u001b[0m\n\u001b[0m\u001b[0;32m   5271\u001b[0m         \u001b[1;32melse\u001b[0m\u001b[1;33m:\u001b[0m\u001b[1;33m\u001b[0m\u001b[1;33m\u001b[0m\u001b[0m\n\u001b[0;32m   5272\u001b[0m             \u001b[1;32mif\u001b[0m \u001b[0mself\u001b[0m\u001b[1;33m.\u001b[0m\u001b[0m_info_axis\u001b[0m\u001b[1;33m.\u001b[0m\u001b[0m_can_hold_identifiers_and_holds_name\u001b[0m\u001b[1;33m(\u001b[0m\u001b[0mname\u001b[0m\u001b[1;33m)\u001b[0m\u001b[1;33m:\u001b[0m\u001b[1;33m\u001b[0m\u001b[1;33m\u001b[0m\u001b[0m\n",
      "\u001b[1;32mE:\\Anaconda install\\lib\\site-packages\\pandas\\core\\accessor.py\u001b[0m in \u001b[0;36m__get__\u001b[1;34m(self, obj, cls)\u001b[0m\n\u001b[0;32m    185\u001b[0m             \u001b[1;31m# we're accessing the attribute of the class, i.e., Dataset.geo\u001b[0m\u001b[1;33m\u001b[0m\u001b[1;33m\u001b[0m\u001b[1;33m\u001b[0m\u001b[0m\n\u001b[0;32m    186\u001b[0m             \u001b[1;32mreturn\u001b[0m \u001b[0mself\u001b[0m\u001b[1;33m.\u001b[0m\u001b[0m_accessor\u001b[0m\u001b[1;33m\u001b[0m\u001b[1;33m\u001b[0m\u001b[0m\n\u001b[1;32m--> 187\u001b[1;33m         \u001b[0maccessor_obj\u001b[0m \u001b[1;33m=\u001b[0m \u001b[0mself\u001b[0m\u001b[1;33m.\u001b[0m\u001b[0m_accessor\u001b[0m\u001b[1;33m(\u001b[0m\u001b[0mobj\u001b[0m\u001b[1;33m)\u001b[0m\u001b[1;33m\u001b[0m\u001b[1;33m\u001b[0m\u001b[0m\n\u001b[0m\u001b[0;32m    188\u001b[0m         \u001b[1;31m# Replace the property with the accessor object. Inspired by:\u001b[0m\u001b[1;33m\u001b[0m\u001b[1;33m\u001b[0m\u001b[1;33m\u001b[0m\u001b[0m\n\u001b[0;32m    189\u001b[0m         \u001b[1;31m# http://www.pydanny.com/cached-property.html\u001b[0m\u001b[1;33m\u001b[0m\u001b[1;33m\u001b[0m\u001b[1;33m\u001b[0m\u001b[0m\n",
      "\u001b[1;32mE:\\Anaconda install\\lib\\site-packages\\pandas\\core\\strings.py\u001b[0m in \u001b[0;36m__init__\u001b[1;34m(self, data)\u001b[0m\n\u001b[0;32m   2039\u001b[0m \u001b[1;33m\u001b[0m\u001b[0m\n\u001b[0;32m   2040\u001b[0m     \u001b[1;32mdef\u001b[0m \u001b[0m__init__\u001b[0m\u001b[1;33m(\u001b[0m\u001b[0mself\u001b[0m\u001b[1;33m,\u001b[0m \u001b[0mdata\u001b[0m\u001b[1;33m)\u001b[0m\u001b[1;33m:\u001b[0m\u001b[1;33m\u001b[0m\u001b[1;33m\u001b[0m\u001b[0m\n\u001b[1;32m-> 2041\u001b[1;33m         \u001b[0mself\u001b[0m\u001b[1;33m.\u001b[0m\u001b[0m_inferred_dtype\u001b[0m \u001b[1;33m=\u001b[0m \u001b[0mself\u001b[0m\u001b[1;33m.\u001b[0m\u001b[0m_validate\u001b[0m\u001b[1;33m(\u001b[0m\u001b[0mdata\u001b[0m\u001b[1;33m)\u001b[0m\u001b[1;33m\u001b[0m\u001b[1;33m\u001b[0m\u001b[0m\n\u001b[0m\u001b[0;32m   2042\u001b[0m         \u001b[0mself\u001b[0m\u001b[1;33m.\u001b[0m\u001b[0m_is_categorical\u001b[0m \u001b[1;33m=\u001b[0m \u001b[0mis_categorical_dtype\u001b[0m\u001b[1;33m(\u001b[0m\u001b[0mdata\u001b[0m\u001b[1;33m)\u001b[0m\u001b[1;33m\u001b[0m\u001b[1;33m\u001b[0m\u001b[0m\n\u001b[0;32m   2043\u001b[0m         \u001b[0mself\u001b[0m\u001b[1;33m.\u001b[0m\u001b[0m_is_string\u001b[0m \u001b[1;33m=\u001b[0m \u001b[0mdata\u001b[0m\u001b[1;33m.\u001b[0m\u001b[0mdtype\u001b[0m\u001b[1;33m.\u001b[0m\u001b[0mname\u001b[0m \u001b[1;33m==\u001b[0m \u001b[1;34m\"string\"\u001b[0m\u001b[1;33m\u001b[0m\u001b[1;33m\u001b[0m\u001b[0m\n",
      "\u001b[1;32mE:\\Anaconda install\\lib\\site-packages\\pandas\\core\\strings.py\u001b[0m in \u001b[0;36m_validate\u001b[1;34m(data)\u001b[0m\n\u001b[0;32m   2096\u001b[0m \u001b[1;33m\u001b[0m\u001b[0m\n\u001b[0;32m   2097\u001b[0m         \u001b[1;32mif\u001b[0m \u001b[0minferred_dtype\u001b[0m \u001b[1;32mnot\u001b[0m \u001b[1;32min\u001b[0m \u001b[0mallowed_types\u001b[0m\u001b[1;33m:\u001b[0m\u001b[1;33m\u001b[0m\u001b[1;33m\u001b[0m\u001b[0m\n\u001b[1;32m-> 2098\u001b[1;33m             \u001b[1;32mraise\u001b[0m \u001b[0mAttributeError\u001b[0m\u001b[1;33m(\u001b[0m\u001b[1;34m\"Can only use .str accessor with string values!\"\u001b[0m\u001b[1;33m)\u001b[0m\u001b[1;33m\u001b[0m\u001b[1;33m\u001b[0m\u001b[0m\n\u001b[0m\u001b[0;32m   2099\u001b[0m         \u001b[1;32mreturn\u001b[0m \u001b[0minferred_dtype\u001b[0m\u001b[1;33m\u001b[0m\u001b[1;33m\u001b[0m\u001b[0m\n\u001b[0;32m   2100\u001b[0m \u001b[1;33m\u001b[0m\u001b[0m\n",
      "\u001b[1;31mAttributeError\u001b[0m: Can only use .str accessor with string values!"
     ]
    }
   ],
   "source": [
    "rest_data['object_name'] = rest_data['object_name'].str.upper()\n",
    "print(rest_data.head(10))"
   ]
  },
  {
   "cell_type": "markdown",
   "metadata": {},
   "source": [
    "Затем найдем дупликаты по столбцам *object_name* и *address* и удалим их."
   ]
  },
  {
   "cell_type": "code",
   "execution_count": null,
   "metadata": {},
   "outputs": [],
   "source": [
    "rest_data = rest_data.drop_duplicates(subset=[\"object_name\", \"address\"])\n",
    "rest_data.info()"
   ]
  },
  {
   "cell_type": "markdown",
   "metadata": {},
   "source": [
    "Попробуем еще найти и удалить дупликаты пeтем замены символа \"-\" на пробел. "
   ]
  },
  {
   "cell_type": "code",
   "execution_count": null,
   "metadata": {},
   "outputs": [],
   "source": [
    "rest_data['object_name'] = rest_data['object_name'].str.replace('-',' ')\n",
    "rest_data = rest_data.drop_duplicates(subset=[\"object_name\", \"address\"])#.count()\n",
    "rest_data.head(10)\n",
    "rest_data.info()"
   ]
  },
  {
   "cell_type": "markdown",
   "metadata": {},
   "source": [
    "<font color='green'>Дупликаты все еще остались, например: Krispy Creme/Krispy Kreme, Maison Declair/Maison declaiz, Иль Патио/IL Patio/Иль-патио/IL Патио и др. Оставим пока все как есть и будем считать, что такого рода шум не сильно скажется на результатах анализа.</fomnt>"
   ]
  },
  {
   "cell_type": "markdown",
   "metadata": {},
   "source": [
    "<a id=\"2.\"></a>\n",
    "### Шаг №2. Анализ данных."
   ]
  },
  {
   "cell_type": "markdown",
   "metadata": {},
   "source": [
    "<a id=\"2.1.\"></a>\n",
    "***2.1. Cоотношение видов объектов общественного питания по количеству.***"
   ]
  },
  {
   "cell_type": "markdown",
   "metadata": {},
   "source": [
    "Найдем количество объектов питания каждого типа."
   ]
  },
  {
   "cell_type": "code",
   "execution_count": null,
   "metadata": {},
   "outputs": [],
   "source": [
    "object_rest_data = rest_data['object_type'].value_counts()\n",
    "print(object_rest_data)"
   ]
  },
  {
   "cell_type": "markdown",
   "metadata": {},
   "source": [
    "Строим круговую диаграмму, чтобы наглядно увидеть доли объектов каждого типа из их общего числа."
   ]
  },
  {
   "cell_type": "code",
   "execution_count": null,
   "metadata": {},
   "outputs": [],
   "source": [
    "fig = go.Figure(data=[go.Pie(labels=rest_data['object_type'].unique(), values=rest_data['object_type'].value_counts())])\n",
    "fig.update_layout(title = 'Соотношение объектов общепита в Москве')\n",
    "fig.show() "
   ]
  },
  {
   "cell_type": "markdown",
   "metadata": {},
   "source": [
    "<font color='green'>Доля кафе явно доминирует в структуре московского общепита, что объясняется гибким форматом заведений данного типа. К ним относятся объекты как с бюджетным, так и с дорогим меню, национальные кухни, тематические и сезонные кафе и т.д.  \n",
    "За ними следуют столовые, поскольку в это число традиционно входят объекты общепита в учебных заведениях, на предприятиях, в медицинских и госучреждениях, социальные столовые и т.д. Характерной особенностью столовых, наряду с их широкой распространенностью является ограниченный доступ для клиентов.  \n",
    "Третье место занимают закусочные, которые по сути аналогичны по функциональности кафе с самообслуживанием, но с ограниченным количеством готовых блюд или меню быстрого приготовления. Как правило, закусочные ориентируются на бюджетных посетителей.  \n",
    "Заметную долю также занимают предприятия быстрого обслуживания, к которым относятся сетевые заведения, точки с уличной едой или стрит-фуд и др. Как правило такие заведения торгуют едой на вынос и не предоставляют места для посетителей.</font>"
   ]
  },
  {
   "cell_type": "markdown",
   "metadata": {},
   "source": [
    "<a id=\"2.2.\"></a>\n",
    "***2.2. Cоотношение сетевых и несетевых заведений.***"
   ]
  },
  {
   "cell_type": "markdown",
   "metadata": {},
   "source": [
    "Выясним, как соотносятся сетевые и не сетевые точки общепита. Соберем новый датафреймю"
   ]
  },
  {
   "cell_type": "code",
   "execution_count": null,
   "metadata": {},
   "outputs": [],
   "source": [
    "chain_rest_data = rest_data.groupby('chain', as_index=False).agg({'id': 'count'})"
   ]
  },
  {
   "cell_type": "markdown",
   "metadata": {},
   "source": [
    "Найдем соотношение заведений по типу."
   ]
  },
  {
   "cell_type": "code",
   "execution_count": null,
   "metadata": {},
   "outputs": [],
   "source": [
    "chain_rest_data['share'] = chain_rest_data['id'] / chain_rest_data['id'].sum()\n",
    "chain_rest_data"
   ]
  },
  {
   "cell_type": "markdown",
   "metadata": {},
   "source": [
    "Построим столбчатую диаграмму."
   ]
  },
  {
   "cell_type": "code",
   "execution_count": null,
   "metadata": {},
   "outputs": [],
   "source": [
    "plt.bar(chain_rest_data['chain'], chain_rest_data['share'])\n",
    "plt.title('Сетевые и не сетевые заведения общепита')\n",
    "plt.show()"
   ]
  },
  {
   "cell_type": "markdown",
   "metadata": {},
   "source": [
    "Не взирая на глобализацию, которая не могла не коснуться индустрии еды, доля сетевых заведений в Москве относительно невелика. И, не смотря на практически неизменные меню, главным достоинством таких заведений является быстрое получение заказа и предсказуемое качество еды."
   ]
  },
  {
   "cell_type": "markdown",
   "metadata": {},
   "source": [
    "<a id=\"2.3.\"></a>\n",
    "***2.3. Структура сетевого общепита.***"
   ]
  },
  {
   "cell_type": "markdown",
   "metadata": {},
   "source": [
    "Найдем распределение сетевых предприятий питания."
   ]
  },
  {
   "cell_type": "code",
   "execution_count": null,
   "metadata": {},
   "outputs": [],
   "source": [
    "chain_object = rest_data.query('chain == \"да\"').groupby('object_type', as_index=False).agg(\n",
    "    {'id': 'count'}).sort_values('id', ascending = False)\n",
    "chain_object.columns = ('object_type', 'chainid')\n",
    "chain_object"
   ]
  },
  {
   "cell_type": "markdown",
   "metadata": {},
   "source": [
    "<font color='green'>В структуре сетевого общепита кафе также занимают первое место с большим отрывом. Тройку лидеров замыкают предприятия быстро обслуживания и рестораны, хотя, в используемых для проекта данных, эти понятия сильно размыты. Например, KFC, McDonald's, Букргер Кинг встречаются во всех трех категориях, поэтому будем воспринимать полученный результат, как данность - текущий тренд московского общепита.</font>"
   ]
  },
  {
   "cell_type": "markdown",
   "metadata": {},
   "source": [
    "Сравним распределение заведений по типу в несетовом сегменте."
   ]
  },
  {
   "cell_type": "code",
   "execution_count": null,
   "metadata": {},
   "outputs": [],
   "source": [
    "rest_data.query('chain == \"нет\"').groupby('object_type').agg({'id': 'count'}).sort_values('id', ascending = False)"
   ]
  },
  {
   "cell_type": "markdown",
   "metadata": {},
   "source": [
    "Порядок типов заведений изменился, тем не менее продожим исследование.\n",
    "Найдем общее количество заведений пр типу."
   ]
  },
  {
   "cell_type": "code",
   "execution_count": null,
   "metadata": {},
   "outputs": [],
   "source": [
    "object_rest_data = rest_data.groupby('object_type', as_index=False).agg({'id': 'count'}).sort_values('id', ascending = False)"
   ]
  },
  {
   "cell_type": "markdown",
   "metadata": {},
   "source": [
    "Объединим два датасета."
   ]
  },
  {
   "cell_type": "code",
   "execution_count": null,
   "metadata": {},
   "outputs": [],
   "source": [
    "chain_proportion = chain_object.merge(object_rest_data, on='object_type')\n",
    "chain_proportion"
   ]
  },
  {
   "cell_type": "markdown",
   "metadata": {},
   "source": [
    "Найдем относительную долю типа сетевых предприятий от общего числа по их типу. "
   ]
  },
  {
   "cell_type": "code",
   "execution_count": null,
   "metadata": {},
   "outputs": [],
   "source": [
    "chain_proportion['proportion'] = chain_proportion['chainid'] / chain_proportion['id']\n",
    "chain_proportion = chain_proportion.sort_values('proportion', ascending = False)\n",
    "chain_proportion"
   ]
  },
  {
   "cell_type": "code",
   "execution_count": null,
   "metadata": {},
   "outputs": [],
   "source": [
    "#chain_proportion[['object_type', 'proportion']].sort_values('proportion', ascending = False).plot(kind='bar', figsize= (12,5), title='CAC по источникам')"
   ]
  },
  {
   "cell_type": "markdown",
   "metadata": {},
   "source": [
    "Построим график для визуализации распределения."
   ]
  },
  {
   "cell_type": "code",
   "execution_count": null,
   "metadata": {},
   "outputs": [],
   "source": [
    "fig = px.bar(chain_proportion, x='object_type', y='proportion', title='Доля сетевых заведений по их типу')\n",
    "fig.update_xaxes(tickangle=45)\n",
    "fig.show() "
   ]
  },
  {
   "cell_type": "markdown",
   "metadata": {},
   "source": [
    "<font color='green'> Вполне ожидаемо видим, что чуть больше 40% предприятий быстрого питания являются сетевыми. Для ресторанов и кафе эта доля составила около 25%. а вот буфеты и столовые в подавляющем большинстве сами по себе.</font>"
   ]
  },
  {
   "cell_type": "markdown",
   "metadata": {},
   "source": [
    "<a id=\"2.4.\"></a>\n",
    "***2.4. Посадочные места для посетителей в сетевом общепите.***"
   ]
  },
  {
   "cell_type": "markdown",
   "metadata": {},
   "source": [
    "Что характерно для сетевых заведений: много заведений с небольшим числом посадочных мест в каждом или мало заведений с большим количеством посадочных мест? Построим гистограммы и попробуем разобраться с этим вопросом."
   ]
  },
  {
   "cell_type": "code",
   "execution_count": null,
   "metadata": {},
   "outputs": [],
   "source": [
    "rest_data[rest_data['chain'] == 'да']['number'].hist(bins=100, figsize=(14, 6))"
   ]
  },
  {
   "cell_type": "markdown",
   "metadata": {},
   "source": [
    "Получилась малоинформативная картина, распределение числа мест лишь отдаленно напоминает нормальное. Наблюдаются многочисленные выбросы, природа которых не ясна. В первом приближении можно сказать, что заметна тенденция для большей части сетевых заведений иметь небольшое количества посадочных мест. При нулевых значениях посадочных это практически стритфуд. \n",
    "Отсечем длинный \"хвост\" заведений с большим числом посадочных мест."
   ]
  },
  {
   "cell_type": "code",
   "execution_count": null,
   "metadata": {},
   "outputs": [],
   "source": [
    "rest_data[rest_data['chain'] == 'да']['number'].hist(bins=100, range=(0, 100), figsize=(14, 6))\n",
    "plt.title('Desktop - время первой покупки')"
   ]
  },
  {
   "cell_type": "markdown",
   "metadata": {},
   "source": [
    "Картина стала детальнее, хотя, ясности по-прежнему нет. Наблюдаются многочисленные выбросы кратные 5 и 10. В большей части случаев это объясняется тем, что объекты компактно расположены на фудкортах в  офисно-торгово-развлекательных центрах и посадочные места на фудкортах создают и предоставляют владельцы центров. Вероятно, в зависимости от политики арендодателя в одних центрах точки общепита имеют какое-то условное число посадочных мест (кратное 5 или 10), а в других центрах такого деления нет и там точки питания не могут даже условно указать \"свое\" число посадочных мест. И тогда возникают нули. \n",
    "Попробуем избавиться от выбросов кратным 5 и 10, и построим еще одну гистограмму. Какой-то особой магией обладают цифры 98 и 100, от них мы тоже временно избавимся."
   ]
  },
  {
   "cell_type": "code",
   "execution_count": null,
   "metadata": {},
   "outputs": [],
   "source": [
    "rest_data_2 = rest_data[rest_data['chain'] == 'да']['number'].reset_index(drop=False)\n",
    "ten_list = [0, 5, 10, 15, 20, 25, 30, 35, 40, 45, 48, 50, 55, 60, 65, 70, 75, 80, 90, 98, 100, 110, 120, 130, 140, 150, 160]\n",
    "rest_data_2[np.logical_not(rest_data_2['number'].isin(ten_list))]['number'].hist(bins=100, range=(0, 160), figsize=(14, 6))"
   ]
  },
  {
   "cell_type": "markdown",
   "metadata": {},
   "source": [
    "Наконец-то, наблюдается хоть какой-то тренд. Больше всего заведений имеет до 30 посадочных мест, затем с ростом посадоных мест заметно снижается число таких заведений. Но затем наблюдаются плотная группа заведений с числом мест от 80 до 100.   \n",
    "\n",
    "Для окончательной ясности перейдем к построению точечных диаграмм ."
   ]
  },
  {
   "cell_type": "code",
   "execution_count": null,
   "metadata": {},
   "outputs": [],
   "source": [
    "scatter_rest_data= rest_data.query('chain == \"да\"')#.groupby('number', as_index=False).agg({'id': 'count'})#.sort_values('number', ascending = False)\n",
    "x_values = pd.Series(range(0, len(scatter_rest_data['number'])))\n",
    "\n",
    "plt.figure(figsize=(14, 6))\n",
    "plt.title('Распределение заведений по посадочным местам')\n",
    "plt.scatter(x_values, scatter_rest_data['number'])\n",
    "plt.ylabel(\"Число мест\")\n",
    "plt.xlabel(\"Точки общепита, шт.\")\n",
    "\n",
    "#rest_data.query('chain == \"да\"').groupby('number').agg({'id': 'count'}).plot(\n",
    "#    kind='bar', figsize=(12, 5), title='Число визитов по источникам')"
   ]
  },
  {
   "cell_type": "markdown",
   "metadata": {},
   "source": [
    "И из этого графика пока не возможно что-то понять. Избавимся от части аномальных значений."
   ]
  },
  {
   "cell_type": "code",
   "execution_count": null,
   "metadata": {},
   "outputs": [],
   "source": [
    "scatter_rest_data= rest_data.query('chain == \"да\"')#.groupby('number', as_index=False).agg({'id': 'count'})#.sort_values('number', ascending = False)\n",
    "x_values = pd.Series(range(0, len(scatter_rest_data[scatter_rest_data['number']<= 200]['number'])))\n",
    "\n",
    "plt.figure(figsize=(14, 6))\n",
    "plt.title('Распределение заведений по посадочным местам')\n",
    "plt.scatter(x_values, scatter_rest_data[scatter_rest_data['number']<= 200]['number'])\n",
    "plt.ylabel(\"Число мест\")\n",
    "plt.xlabel(\"Точки общепита, шт.\")"
   ]
  },
  {
   "cell_type": "markdown",
   "metadata": {},
   "source": [
    "Снова наблюдаем те же выбросы, но уже виде групп точек расположенных горизонтально.  \n",
    "\n",
    "Попробуем избавиться от них проверенным способом и построим еще раз те же точечные диаграммы."
   ]
  },
  {
   "cell_type": "code",
   "execution_count": null,
   "metadata": {},
   "outputs": [],
   "source": [
    "ten_list = [0, 5, 10, 15, 20, 25, 30, 35, 40, 45, 48, 50, 55, 60, 65, 70, 75, 80, 90, 98, 100, 110, 120, 130, 140, 150, 160]\n",
    "x_values = pd.Series(range(0, len(rest_data_2.query('number != @ten_list'))))\n",
    "\n",
    "plt.figure(figsize=(14, 6))\n",
    "plt.title('Распределение сетевых заведений по посадочным местам')\n",
    "plt.scatter(x_values, rest_data_2.query('number != @ten_list')['number'])\n",
    "plt.ylabel(\"Число мест\")\n",
    "plt.xlabel(\"Точки сетевого общепита\")"
   ]
  },
  {
   "cell_type": "code",
   "execution_count": null,
   "metadata": {},
   "outputs": [],
   "source": [
    "x_values = pd.Series(range(0, len(rest_data_2.query('number != @ten_list').query('number <= 200'))))\n",
    "\n",
    "plt.figure(figsize=(14, 6))\n",
    "plt.title('Распределение сетевых заведений по посадочным местам')\n",
    "plt.scatter(x_values, rest_data_2.query('number != @ten_list').query('number <= 200')['number'])\n",
    "plt.ylabel(\"Число мест\")\n",
    "plt.xlabel(\"Точки общепита\")"
   ]
  },
  {
   "cell_type": "markdown",
   "metadata": {},
   "source": [
    "Самые плотные скопления значений наблюдаем ниже 50 посадочных мест. "
   ]
  },
  {
   "cell_type": "code",
   "execution_count": null,
   "metadata": {},
   "outputs": [],
   "source": [
    "#np.percentile(rest_data_2.query('number != @ten_list')['number'], [90, 95, 99])"
   ]
  },
  {
   "cell_type": "code",
   "execution_count": null,
   "metadata": {},
   "outputs": [],
   "source": [
    "#Этот вариант дает более правильные результаты\n",
    "np.percentile(rest_data_2['number'], [90, 95, 99])"
   ]
  },
  {
   "cell_type": "code",
   "execution_count": null,
   "metadata": {},
   "outputs": [],
   "source": [
    "#rest_data[rest_data['chain'] == 'да'].head(1)"
   ]
  },
  {
   "cell_type": "markdown",
   "metadata": {},
   "source": [
    "Возьмем десятку самых крупных сетевых заведений общепита и сравним в них среднее количество посадочных мест."
   ]
  },
  {
   "cell_type": "code",
   "execution_count": null,
   "metadata": {},
   "outputs": [],
   "source": [
    "rest_data[rest_data['chain'] == 'да'].groupby('object_name').agg(\n",
    "    {'id':'count', 'number':'median'}).sort_values(by='id', ascending=False).head(10)"
   ]
  },
  {
   "cell_type": "markdown",
   "metadata": {},
   "source": [
    "<font color='green'>**Можно сделать вывод о том, что крупнейшие рестораторы быстрого питания не склонны создавать точки своего присутствия с большим числом посадочных мест. Они явно предпочитают развивать сети за счет большого числа точек общепита с относительно небольшим - до 50, количеством мест. Несколько выбивается из этого правила Макдональдс, но эта компания самой певой начала свою операционную деятельность в Москве и сумела использовать это преимущество, арендуя наиболее интересные помещения и не особо ориентируясь на какие-либо цифры.**</font> "
   ]
  },
  {
   "cell_type": "code",
   "execution_count": null,
   "metadata": {},
   "outputs": [],
   "source": [
    "#Исследуем тему несетвых заведений.\n",
    "#nonet_rest_data = rest_data[rest_data['chain'] == 'нет']['number'].reset_index(drop=False)\n",
    "#ten_list_2 = [0, 5, 10, 15, 20, 25, 30, 35, 40, 45, 48, 50, 55, 60, 65, 70, 75, 80, 85, 90, 95, 96, 97, 98, 100, 110, 120, 130, 140, 150, 160, 170, 180, 190, 200, 250, 240]\n",
    "#x_values = pd.Series(range(0, len(nonet_rest_data.query('number != @ten_list_2').query('number <= 250'))))\n",
    "\n",
    "#plt.figure(figsize=(14, 6))\n",
    "#plt.title('Распределение несетевых заведений по посадочным местам')\n",
    "#plt.scatter(x_values, nonet_rest_data.query('number != @ten_list_2').query('number <= 250')['number'])\n",
    "#plt.ylabel(\"Число мест\")\n",
    "#plt.xlabel(\"Точки несетевого общепита\")"
   ]
  },
  {
   "cell_type": "code",
   "execution_count": null,
   "metadata": {},
   "outputs": [],
   "source": [
    "#nonet_rest_data = rest_data[rest_data['chain'] == 'нет']['number'].reset_index(drop=False)\n",
    "#ten_list = [0, 5, 10, 15, 20, 25, 30, 35, 40, 45, 48, 50, 55, 60, 65, 70, 75, 80, 90, 98, 100, 110, 120, 130, 140, 150, 160]\n",
    "#x_values = pd.Series(range(0, len(nonet_rest_data.query('number != @ten_list'))))\n",
    "\n",
    "#plt.figure(figsize=(14, 6))\n",
    "#plt.title('Распределение несетевых заведений по посадочным местам')\n",
    "#plt.scatter(x_values, nonet_rest_data.query('number != @ten_list')['number'])\n",
    "#plt.ylabel(\"Число мест\")\n",
    "#plt.xlabel(\"Точки несетевого общепита\")"
   ]
  },
  {
   "cell_type": "code",
   "execution_count": null,
   "metadata": {},
   "outputs": [],
   "source": [
    "#np.percentile(nonet_rest_data['number'], [90, 95, 99])"
   ]
  },
  {
   "cell_type": "markdown",
   "metadata": {},
   "source": [
    "<a id=\"2.5.\"></a>\n",
    "***2.5. Для каждого вида объекта общественного питания опишите среднее количество посадочных мест. Какой вид предоставляет в среднем самое большое количество посадочных мест? Постройте графики.***"
   ]
  },
  {
   "cell_type": "markdown",
   "metadata": {},
   "source": [
    "Для начала попробуем найти средние значения для объектов питания."
   ]
  },
  {
   "cell_type": "code",
   "execution_count": null,
   "metadata": {},
   "outputs": [],
   "source": [
    "rest_data.groupby('object_type').agg({'number': 'mean'})"
   ]
  },
  {
   "cell_type": "markdown",
   "metadata": {},
   "source": [
    "В целом, картина правдоподобная, но мы помним, что в распределении мест имеется длинный хвост. поэтому найдем также медиану."
   ]
  },
  {
   "cell_type": "code",
   "execution_count": null,
   "metadata": {},
   "outputs": [],
   "source": [
    "rest_data.groupby('object_type', as_index=False).agg({'number': 'median'})"
   ]
  },
  {
   "cell_type": "markdown",
   "metadata": {},
   "source": [
    "Расчет медиан выглядит куда ближе к реальной жизни. Построим график среднего распределения посадочных мест по заведениям. "
   ]
  },
  {
   "cell_type": "code",
   "execution_count": null,
   "metadata": {},
   "outputs": [],
   "source": [
    "#!pip install plotly\n",
    "import plotly.express as px "
   ]
  },
  {
   "cell_type": "code",
   "execution_count": null,
   "metadata": {},
   "outputs": [],
   "source": [
    "fig = px.bar(rest_data.groupby('object_type', as_index=False).agg({'number': 'median'}),\n",
    "             x='object_type', y='number', title='Среднее кол-во посадочных мест по объектам')\n",
    "fig.update_xaxes(tickangle=45)\n",
    "fig.show() "
   ]
  },
  {
   "cell_type": "markdown",
   "metadata": {},
   "source": [
    "<font color='green'> Здесь будут промежуточные комментарии </font>"
   ]
  },
  {
   "cell_type": "markdown",
   "metadata": {},
   "source": [
    "<a id=\"2.6.\"></a>\n",
    "***2.6. Выделите в отдельный столбец информацию об улице из столбца address.***"
   ]
  },
  {
   "cell_type": "code",
   "execution_count": null,
   "metadata": {},
   "outputs": [],
   "source": [
    "import re"
   ]
  },
  {
   "cell_type": "code",
   "execution_count": null,
   "metadata": {},
   "outputs": [],
   "source": [
    "#rest_data['street'] = rest_data['address'].str.extract(pat = '([^Москва$])')\n",
    "#rest_data.head(2)"
   ]
  },
  {
   "cell_type": "code",
   "execution_count": null,
   "metadata": {},
   "outputs": [],
   "source": [
    "rest_data['street'] = rest_data['address'].str.extract('(([А-я0-9ё\\s\\-]+)?(\\\n",
    "улица|переулок|шоссе|проспект|площадь|проезд|село|Проезд|аллея|бульвар|набережная|тупик|линия|\\\n",
    "Зеленоград)([А-я0-9ё\\s\\-]+)?)')[0]\n",
    "#Здесь стоит забить на Зеленоград, это просто микрорайн, хотя и большой\n",
    "rest_data.head(10)\n",
    "rest_data.info()"
   ]
  },
  {
   "cell_type": "code",
   "execution_count": null,
   "metadata": {},
   "outputs": [],
   "source": [
    "rest_data['street'].unique()"
   ]
  },
  {
   "cell_type": "markdown",
   "metadata": {},
   "source": [
    "<font color='green'> Здесь будут комментарии </font>\n",
    "Удалим пробелы перед названием улиц."
   ]
  },
  {
   "cell_type": "code",
   "execution_count": null,
   "metadata": {},
   "outputs": [],
   "source": [
    "rest_data['street'] = rest_data['street'].str.strip()\n",
    "rest_data['street'].unique()"
   ]
  },
  {
   "cell_type": "markdown",
   "metadata": {},
   "source": [
    "<font color='green'> Здесь будут комментарии </font>  \n",
    "Довавим в датасет столбец с номерами домов."
   ]
  },
  {
   "cell_type": "code",
   "execution_count": null,
   "metadata": {},
   "outputs": [],
   "source": [
    "rest_data['house'] = rest_data['address'].str.extract('(([А-я0-9ё\\s\\-]+)?(дом|строение|корпус|владение)([А-я0-9ё\\s\\-]+)?)')[0]\n",
    "rest_data['house'].unique()\n",
    "rest_data.info()\n",
    "rest_data.head(10)"
   ]
  },
  {
   "cell_type": "markdown",
   "metadata": {},
   "source": [
    "<a id=\"2.7.\"></a>\n",
    "***2.7.Постройте график топ-10 улиц по количеству объектов общественного питания. Воспользуйтесь внешней информацией и ответьте на вопрос — в каких районах Москвы находятся эти улицы?***"
   ]
  },
  {
   "cell_type": "markdown",
   "metadata": {},
   "source": [
    "Найдем числом объектов общепита на каждой улице и выберем первую десятку."
   ]
  },
  {
   "cell_type": "code",
   "execution_count": null,
   "metadata": {},
   "outputs": [],
   "source": [
    "#rest_data.groupby('street').agg({'id': 'nunique'}).sort_values(by=['id'], ascending=False).head(11)\n",
    "street_rest_data = rest_data.groupby('street', as_index=False).agg(\n",
    "    {'id': 'nunique'}).sort_values(by=['id'], ascending=False).head(11)\n",
    "street_rest_data\n",
    "street_rest_data.iloc[1:11]"
   ]
  },
  {
   "cell_type": "markdown",
   "metadata": {},
   "source": [
    "<font color='green'> Здесь будут комментарии </font>  \n",
    "Отразим полученные данные на графике."
   ]
  },
  {
   "cell_type": "code",
   "execution_count": null,
   "metadata": {},
   "outputs": [],
   "source": [
    "fig = px.bar(street_rest_data,\n",
    "             x='street', y='id', title='Топ-10 улиц по объектам общепита')\n",
    "fig.update_xaxes(tickangle=45)\n",
    "fig.show() "
   ]
  },
  {
   "cell_type": "markdown",
   "metadata": {},
   "source": [
    "Выясним, в каких районах находятся эти улицы. Для этого используем мосгазовский \"Список всех улиц Москвы и их привязка к районам\" с сайта **Хаб открытых данных**."
   ]
  },
  {
   "cell_type": "code",
   "execution_count": null,
   "metadata": {
    "scrolled": false
   },
   "outputs": [],
   "source": [
    "districts = pd.read_csv('mosgaz-streets.csv')\n",
    "districts.columns = ('street', 'areaid', 'okrug', 'area')\n",
    "districts.head(1)"
   ]
  },
  {
   "cell_type": "code",
   "execution_count": null,
   "metadata": {},
   "outputs": [],
   "source": [
    "address_rest_data = street_rest_data.merge(districts, on='street', how='left')\n",
    "address_rest_data\n",
    "address_rest_data.groupby(['street', 'area']).agg({'id': 'first'}).sort_values(by='id', ascending=False)"
   ]
  },
  {
   "cell_type": "markdown",
   "metadata": {},
   "source": [
    "**<font color='green'>\n",
    "Характерно, что большинство улиц являются вылетными магистралями и, проходя через несколько районов, собирают большое количество точек общепита. Ислючение составляет совсем короткая Пресненская набережная, на которой находится Москва-Сити со всеми вытекающими последствиями, да еще Кировоградская улица, к которой примыкают сразу несколько торгово-офисных центров.  \n",
    "Что касается Зеленограда, то это отельная история. Данные по этому округу мы будем учитывать в исследовании, но в плане инвестиций район малоинтересен.</font>** "
   ]
  },
  {
   "cell_type": "markdown",
   "metadata": {},
   "source": [
    "<a id=\"2.8.\"></a>\n",
    "***2.8. Найдите число улиц с одним объектом общественного питания.***"
   ]
  },
  {
   "cell_type": "markdown",
   "metadata": {},
   "source": [
    "Теперь посмотрим, сколько улиц в Москве могут похвастаться одним-единственным предприятием общепита."
   ]
  },
  {
   "cell_type": "code",
   "execution_count": null,
   "metadata": {},
   "outputs": [],
   "source": [
    "rest_data.head(1)"
   ]
  },
  {
   "cell_type": "code",
   "execution_count": null,
   "metadata": {},
   "outputs": [],
   "source": [
    "rest_data.groupby('street').agg({'id':'count'}).query('id == 1').count()"
   ]
  },
  {
   "cell_type": "code",
   "execution_count": null,
   "metadata": {},
   "outputs": [],
   "source": [
    "once_rest_data = rest_data.groupby('street', as_index=False).agg({'id':'count'}).query('id == 1')\n",
    "once_rest_data.info()"
   ]
  },
  {
   "cell_type": "code",
   "execution_count": null,
   "metadata": {},
   "outputs": [],
   "source": [
    "once_rest_data.duplicated().sum()"
   ]
  },
  {
   "cell_type": "markdown",
   "metadata": {},
   "source": [
    "**<font color='green'> Здесь будут комментарии </font>**\n",
    "Не так уж и мало таких улиц, аж целых 544!"
   ]
  },
  {
   "cell_type": "markdown",
   "metadata": {},
   "source": [
    "Выясним, в каких районах Москвы находятся эти улицы."
   ]
  },
  {
   "cell_type": "code",
   "execution_count": 20,
   "metadata": {},
   "outputs": [
    {
     "ename": "NameError",
     "evalue": "name 'once_rest_data' is not defined",
     "output_type": "error",
     "traceback": [
      "\u001b[1;31m---------------------------------------------------------------------------\u001b[0m",
      "\u001b[1;31mNameError\u001b[0m                                 Traceback (most recent call last)",
      "\u001b[1;32m<ipython-input-20-3e3b1f42450b>\u001b[0m in \u001b[0;36m<module>\u001b[1;34m\u001b[0m\n\u001b[1;32m----> 1\u001b[1;33m \u001b[0marea_once_rest_data\u001b[0m \u001b[1;33m=\u001b[0m \u001b[0monce_rest_data\u001b[0m\u001b[1;33m.\u001b[0m\u001b[0mmerge\u001b[0m\u001b[1;33m(\u001b[0m\u001b[0mdistricts\u001b[0m\u001b[1;33m,\u001b[0m \u001b[0mon\u001b[0m\u001b[1;33m=\u001b[0m\u001b[1;34m'street'\u001b[0m\u001b[1;33m)\u001b[0m\u001b[1;33m\u001b[0m\u001b[1;33m\u001b[0m\u001b[0m\n\u001b[0m\u001b[0;32m      2\u001b[0m \u001b[0marea_once_rest_data\u001b[0m\u001b[1;33m.\u001b[0m\u001b[0minfo\u001b[0m\u001b[1;33m(\u001b[0m\u001b[1;33m)\u001b[0m\u001b[1;33m\u001b[0m\u001b[1;33m\u001b[0m\u001b[0m\n",
      "\u001b[1;31mNameError\u001b[0m: name 'once_rest_data' is not defined"
     ]
    }
   ],
   "source": [
    "area_once_rest_data = once_rest_data.merge(districts, on='street')\n",
    "area_once_rest_data.info()\n"
   ]
  },
  {
   "cell_type": "code",
   "execution_count": null,
   "metadata": {},
   "outputs": [],
   "source": [
    "area_once_rest_data.head(12)"
   ]
  },
  {
   "cell_type": "markdown",
   "metadata": {},
   "source": [
    "Количество строк в новом датасете увеличилось из-за того, что некотороые улицы проходят через несколько районов. Но их число невелико и вряд ли оно заметно скажется на общей картине, поэтому проигнрируем это обстоятельство.  \n",
    "\n",
    "Выясним далее, в каких районах больше всего таких улиц."
   ]
  },
  {
   "cell_type": "code",
   "execution_count": null,
   "metadata": {},
   "outputs": [],
   "source": [
    "area_once_rest_data.groupby(['okrug','area'], as_index=False).agg(\n",
    "    {'street': 'count'}).sort_values('street', ascending=False).head(10)"
   ]
  },
  {
   "cell_type": "markdown",
   "metadata": {},
   "source": [
    "Примечательно, что 8 из 10 топ-районов находятся в Центральном округе. Это объясняется тем, что в ЦАО много коротких улиц и, как правило, там не так много возможностей для аренды подходящего помещение под кафе или ресторан. А для офисно-торгово-развлекательных центров места нет вообще."
   ]
  },
  {
   "cell_type": "markdown",
   "metadata": {},
   "source": [
    "Ранжируем теперь округа по количеству улиц с одним объектом общепита."
   ]
  },
  {
   "cell_type": "code",
   "execution_count": 13,
   "metadata": {},
   "outputs": [
    {
     "ename": "NameError",
     "evalue": "name 'area_once_rest_data' is not defined",
     "output_type": "error",
     "traceback": [
      "\u001b[1;31m---------------------------------------------------------------------------\u001b[0m",
      "\u001b[1;31mNameError\u001b[0m                                 Traceback (most recent call last)",
      "\u001b[1;32m<ipython-input-13-8abb14e5b03d>\u001b[0m in \u001b[0;36m<module>\u001b[1;34m\u001b[0m\n\u001b[1;32m----> 1\u001b[1;33m \u001b[0marea_once_rest_data\u001b[0m\u001b[1;33m.\u001b[0m\u001b[0mgroupby\u001b[0m\u001b[1;33m(\u001b[0m\u001b[1;33m[\u001b[0m\u001b[1;34m'okrug'\u001b[0m\u001b[1;33m]\u001b[0m\u001b[1;33m,\u001b[0m \u001b[0mas_index\u001b[0m\u001b[1;33m=\u001b[0m\u001b[1;32mFalse\u001b[0m\u001b[1;33m)\u001b[0m\u001b[1;33m.\u001b[0m\u001b[0magg\u001b[0m\u001b[1;33m(\u001b[0m\u001b[1;33m{\u001b[0m\u001b[1;34m'street'\u001b[0m\u001b[1;33m:\u001b[0m \u001b[1;34m'count'\u001b[0m\u001b[1;33m}\u001b[0m\u001b[1;33m)\u001b[0m\u001b[1;33m.\u001b[0m\u001b[0msort_values\u001b[0m\u001b[1;33m(\u001b[0m\u001b[1;34m'street'\u001b[0m\u001b[1;33m,\u001b[0m \u001b[0mascending\u001b[0m\u001b[1;33m=\u001b[0m\u001b[1;32mFalse\u001b[0m\u001b[1;33m)\u001b[0m\u001b[1;33m\u001b[0m\u001b[1;33m\u001b[0m\u001b[0m\n\u001b[0m",
      "\u001b[1;31mNameError\u001b[0m: name 'area_once_rest_data' is not defined"
     ]
    }
   ],
   "source": [
    "area_once_rest_data.groupby(['okrug'], as_index=False).agg({'street': 'count'}).sort_values('street', ascending=False)"
   ]
  },
  {
   "cell_type": "markdown",
   "metadata": {},
   "source": [
    "**<font color='green'> Здесь будут комментарии </font>**  \n",
    "И здесь ЦАО лидирует с большим отрывом."
   ]
  },
  {
   "cell_type": "markdown",
   "metadata": {},
   "source": [
    "<a id=\"2.9.\"></a>\n",
    "***2.9. Посмотрите на распределение количества посадочных мест для улиц с большим количеством объектов общественного питания. Какие закономерности можно выявить?***"
   ]
  },
  {
   "cell_type": "code",
   "execution_count": null,
   "metadata": {},
   "outputs": [],
   "source": [
    "rest_data.head(1)"
   ]
  },
  {
   "cell_type": "code",
   "execution_count": null,
   "metadata": {},
   "outputs": [],
   "source": [
    "rest_data.groupby(['street']).agg(\n",
    "    {'id': 'count', 'number': 'mean'}).reset_index(drop=False).sort_values(\n",
    "    'id', ascending=False).head(11)"
   ]
  },
  {
   "cell_type": "markdown",
   "metadata": {},
   "source": [
    "Исключим из расмотрения Зеленоград, как район малоинтересный для нашего исследования. Хотя он является городским округом, но по сути это просто удаленный от Москвы микрорайн, к тому же с плохой транспортной доступностью. "
   ]
  },
  {
   "cell_type": "code",
   "execution_count": null,
   "metadata": {},
   "outputs": [],
   "source": [
    "rest_data.groupby(['street']).agg(\n",
    "    {'id': 'count', 'number': 'median'}).reset_index(drop=False).sort_values(\n",
    "    'id', ascending=False).iloc[1:11]"
   ]
  },
  {
   "cell_type": "code",
   "execution_count": null,
   "metadata": {},
   "outputs": [],
   "source": [
    "number_by_street = rest_data.groupby(['street']).agg(\n",
    "    {'id': 'count', 'number': 'median'}).reset_index(drop=False).sort_values(\n",
    "    'id', ascending=False)#.iloc[1:11]"
   ]
  },
  {
   "cell_type": "code",
   "execution_count": null,
   "metadata": {},
   "outputs": [],
   "source": [
    "#number_by_street.plot(x='id', y='number', grid=True, kind='scatter')"
   ]
  },
  {
   "cell_type": "code",
   "execution_count": null,
   "metadata": {},
   "outputs": [],
   "source": [
    "plt.figure(figsize=(14, 6))\n",
    "plt.title('Распределение заведений по посадочным местам')\n",
    "plt.scatter(number_by_street['id'], number_by_street['number'])\n",
    "plt.xlabel(\"Кол-во точек общепита\")\n",
    "plt.ylabel(\"Среднее число мест\")\n"
   ]
  },
  {
   "cell_type": "markdown",
   "metadata": {},
   "source": [
    "Полученное распределение, в общем-то, подтверждает предыдущие наблюдения. Большая часть заведений имеет небольшое число посадочных мест. В частности заведения на топ-10 улиц имеют в среднем от 25 до 46 посадочных мест."
   ]
  },
  {
   "cell_type": "markdown",
   "metadata": {},
   "source": [
    "<a id=\"2.10\"></a>\n",
    "***2.10. Общий вывод и рекомендации.***"
   ]
  },
  {
   "cell_type": "markdown",
   "metadata": {},
   "source": [
    "Подводя итог исследования, можно сказать, что для стартапа больше всего подойдет формат заведения быстрого питания. На самом деле, нет большого смысла заменять живых официантов примитивными, но дешевыми манекенами на колесиках. Время на обслуживание это сильно не сократит, зато потребует дополнительное пространство между столиками для передвижения, доставки готовых блюдд и уборки пустой посуды. К тому же  эти куклы не развлекут посетителей яркой беседой. Что касается роботов-андроидов, то успешные разработки уже имеются, но масштабное производство не налажено, скорость передвижения оставляет желать лучшего, а цена все еще высока.  \n",
    "Поэтому есть прямой смысл внедрить формат роботизированной кухни и доверить роботам прием заказа и оплату, а также выдачу готового заказа. "
   ]
  },
  {
   "cell_type": "code",
   "execution_count": null,
   "metadata": {},
   "outputs": [],
   "source": []
  },
  {
   "cell_type": "code",
   "execution_count": null,
   "metadata": {},
   "outputs": [],
   "source": []
  },
  {
   "cell_type": "code",
   "execution_count": null,
   "metadata": {},
   "outputs": [],
   "source": []
  },
  {
   "cell_type": "code",
   "execution_count": null,
   "metadata": {},
   "outputs": [],
   "source": []
  }
 ],
 "metadata": {
  "kernelspec": {
   "display_name": "Python 3",
   "language": "python",
   "name": "python3"
  },
  "language_info": {
   "codemirror_mode": {
    "name": "ipython",
    "version": 3
   },
   "file_extension": ".py",
   "mimetype": "text/x-python",
   "name": "python",
   "nbconvert_exporter": "python",
   "pygments_lexer": "ipython3",
   "version": "3.8.3"
  },
  "toc": {
   "base_numbering": 1,
   "nav_menu": {},
   "number_sections": false,
   "sideBar": true,
   "skip_h1_title": false,
   "title_cell": "Table of Contents",
   "title_sidebar": "Contents",
   "toc_cell": false,
   "toc_position": {},
   "toc_section_display": true,
   "toc_window_display": false
  }
 },
 "nbformat": 4,
 "nbformat_minor": 2
}
